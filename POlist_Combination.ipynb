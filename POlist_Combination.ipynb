{
 "cells": [
  {
   "cell_type": "code",
   "execution_count": 1,
   "metadata": {},
   "outputs": [],
   "source": [
    "%load_ext pycodestyle_magic\n",
    "%flake8_on\n",
    "# la convention PEP8 est ainsi testée"
   ]
  },
  {
   "cell_type": "code",
   "execution_count": 2,
   "metadata": {},
   "outputs": [
    {
     "name": "stderr",
     "output_type": "stream",
     "text": [
      "7:80: E501 line too long (98 > 79 characters)\n",
      "8:80: E501 line too long (92 > 79 characters)\n",
      "19:80: E501 line too long (82 > 79 characters)\n",
      "1: E999 SyntaxError: invalid syntax\n"
     ]
    }
   ],
   "source": [
    "import numpy as np\n",
    "import pandas as pd\n",
    "import matplotlib.pyplot as plt\n",
    "import plotly.graph_objects as go\n",
    "import seaborn as sns\n",
    "from itertools import product, combinations\n",
    "from sklearn.preprocessing import StandardScaler, QuantileTransformer, LabelEncoder, OneHotEncoder\n",
    "from sklearn.compose import ColumnTransformer, make_column_transformer, make_column_selector\n",
    "from sklearn.cluster import KMeans\n",
    "from sklearn.cluster import AgglomerativeClustering\n",
    "from sklearn.decomposition import PCA\n",
    "from sklearn.metrics import silhouette_score as sisc\n",
    "from sklearn.metrics import davies_bouldin_score as dbsc\n",
    "from sklearn.pipeline import Pipeline\n",
    "from sklearn.preprocessing import LabelEncoder, MinMaxScaler\n",
    "from mlxtend.feature_selection import SequentialFeatureSelector as SFS\n",
    "# home made\n",
    "import functions\n",
    "from functions import distribution, sisc_forward_selection, dbsc_forward_selection\n",
    "import time\n",
    "%matplotlib inline"
   ]
  },
  {
   "cell_type": "code",
   "execution_count": 3,
   "metadata": {},
   "outputs": [
    {
     "name": "stdout",
     "output_type": "stream",
     "text": [
      "data imported, elapsed time: 1.2946727275848389 seconds\n"
     ]
    }
   ],
   "source": [
    "# read the data\n",
    "time_start = time.time()\n",
    "data = pd.read_csv('Data/data.csv')\n",
    "print('data imported, elapsed time: {} seconds'.format(time.time()-time_start))"
   ]
  },
  {
   "cell_type": "markdown",
   "metadata": {},
   "source": [
    "# Prepare data"
   ]
  },
  {
   "cell_type": "code",
   "execution_count": null,
   "metadata": {},
   "outputs": [],
   "source": []
  },
  {
   "cell_type": "markdown",
   "metadata": {},
   "source": [
    "## Select the Right Features"
   ]
  },
  {
   "cell_type": "markdown",
   "metadata": {},
   "source": [
    "### Most relevant features : cross topics & same axis\n",
    "Cross topics are about : money, review, delivery"
   ]
  },
  {
   "cell_type": "markdown",
   "metadata": {},
   "source": [
    "Money"
   ]
  },
  {
   "cell_type": "code",
   "execution_count": null,
   "metadata": {},
   "outputs": [],
   "source": []
  },
  {
   "cell_type": "markdown",
   "metadata": {},
   "source": [
    "What, When, Why, How, Where"
   ]
  },
  {
   "cell_type": "code",
   "execution_count": null,
   "metadata": {},
   "outputs": [],
   "source": [
    "what_features = \n",
    "when_features =\n",
    "why_features =\n",
    "how_features =\n",
    "where_features = "
   ]
  },
  {
   "cell_type": "code",
   "execution_count": 144,
   "metadata": {},
   "outputs": [
    {
     "data": {
      "text/plain": [
       "(87086, 24)"
      ]
     },
     "execution_count": 144,
     "metadata": {},
     "output_type": "execute_result"
    }
   ],
   "source": [
    "# create a dedicated df\n",
    "data_filtered = data.filter(numerical_features)\n",
    "data_filtered.shape"
   ]
  },
  {
   "cell_type": "code",
   "execution_count": 145,
   "metadata": {},
   "outputs": [
    {
     "data": {
      "text/plain": [
       "['estimated_delivery_time',\n",
       " 'effective_delivery_time',\n",
       " 'delivery_vs_estimated',\n",
       " 'total_price',\n",
       " 'total_freight',\n",
       " 'freight_percentage',\n",
       " 'product_price',\n",
       " 'product_freight',\n",
       " 'product_name_length',\n",
       " 'product_description_length',\n",
       " 'product_weight_g',\n",
       " 'product_size',\n",
       " 'product_qlty_index',\n",
       " 'product_density',\n",
       " 'main_payment_value',\n",
       " 'payment_total',\n",
       " 'cust_sell_dist',\n",
       " 'review_score',\n",
       " 'review_answer_delay',\n",
       " 'product_review_mean',\n",
       " 'customer_review_mean',\n",
       " 'review_gap',\n",
       " 'seller_revenue',\n",
       " 'product_revenue']"
      ]
     },
     "execution_count": 145,
     "metadata": {},
     "output_type": "execute_result"
    }
   ],
   "source": [
    "initial_features = data_filtered.columns.tolist()\n",
    "initial_features"
   ]
  },
  {
   "cell_type": "code",
   "execution_count": 146,
   "metadata": {},
   "outputs": [],
   "source": [
    "# define transformer for initial_features\n",
    "numerical_pipeline = Pipeline(\n",
    "    steps=[\n",
    "        ('rankgauss', QuantileTransformer(n_quantiles=100,\n",
    "                                          random_state=111,\n",
    "                                          output_distribution='normal')),\n",
    "        ('scaler', StandardScaler())\n",
    "    ]\n",
    ")"
   ]
  },
  {
   "cell_type": "code",
   "execution_count": 147,
   "metadata": {},
   "outputs": [],
   "source": [
    "mytransformer = ColumnTransformer(\n",
    "    transformers=[\n",
    "        ('num', numerical_pipeline, numerical_features)])"
   ]
  },
  {
   "cell_type": "code",
   "execution_count": 148,
   "metadata": {},
   "outputs": [
    {
     "data": {
      "text/plain": [
       "ColumnTransformer(transformers=[('num',\n",
       "                                 Pipeline(steps=[('rankgauss',\n",
       "                                                  QuantileTransformer(n_quantiles=100,\n",
       "                                                                      output_distribution='normal',\n",
       "                                                                      random_state=111)),\n",
       "                                                 ('scaler', StandardScaler())]),\n",
       "                                 Index(['estimated_delivery_time', 'effective_delivery_time',\n",
       "       'delivery_vs_estimated', 'total_price', 'total_freight',\n",
       "       'freight_percentage', 'product_price', 'product_freight',\n",
       "       'product_name_length', 'product_description_length', 'product_weight_g',\n",
       "       'product_size', 'product_qlty_index', 'product_density',\n",
       "       'main_payment_value', 'payment_total', 'cust_sell_dist', 'review_score',\n",
       "       'review_answer_delay', 'product_review_mean', 'customer_review_mean',\n",
       "       'review_gap', 'seller_revenue', 'product_revenue'],\n",
       "      dtype='object'))])"
      ]
     },
     "execution_count": 148,
     "metadata": {},
     "output_type": "execute_result"
    }
   ],
   "source": [
    "mytransformer.fit(data_filtered)"
   ]
  },
  {
   "cell_type": "code",
   "execution_count": 149,
   "metadata": {},
   "outputs": [],
   "source": [
    "data_preped = pd.DataFrame(mytransformer.transform(data_filtered))"
   ]
  },
  {
   "cell_type": "code",
   "execution_count": 150,
   "metadata": {},
   "outputs": [],
   "source": [
    "data_preped.columns = initial_features"
   ]
  },
  {
   "cell_type": "code",
   "execution_count": 151,
   "metadata": {},
   "outputs": [
    {
     "data": {
      "text/html": [
       "<div>\n",
       "<style scoped>\n",
       "    .dataframe tbody tr th:only-of-type {\n",
       "        vertical-align: middle;\n",
       "    }\n",
       "\n",
       "    .dataframe tbody tr th {\n",
       "        vertical-align: top;\n",
       "    }\n",
       "\n",
       "    .dataframe thead th {\n",
       "        text-align: right;\n",
       "    }\n",
       "</style>\n",
       "<table border=\"1\" class=\"dataframe\">\n",
       "  <thead>\n",
       "    <tr style=\"text-align: right;\">\n",
       "      <th></th>\n",
       "      <th>estimated_delivery_time</th>\n",
       "      <th>effective_delivery_time</th>\n",
       "      <th>delivery_vs_estimated</th>\n",
       "      <th>total_price</th>\n",
       "      <th>total_freight</th>\n",
       "      <th>freight_percentage</th>\n",
       "      <th>product_price</th>\n",
       "      <th>product_freight</th>\n",
       "      <th>product_name_length</th>\n",
       "      <th>product_description_length</th>\n",
       "      <th>...</th>\n",
       "      <th>main_payment_value</th>\n",
       "      <th>payment_total</th>\n",
       "      <th>cust_sell_dist</th>\n",
       "      <th>review_score</th>\n",
       "      <th>review_answer_delay</th>\n",
       "      <th>product_review_mean</th>\n",
       "      <th>customer_review_mean</th>\n",
       "      <th>review_gap</th>\n",
       "      <th>seller_revenue</th>\n",
       "      <th>product_revenue</th>\n",
       "    </tr>\n",
       "  </thead>\n",
       "  <tbody>\n",
       "    <tr>\n",
       "      <td>count</td>\n",
       "      <td>8.708600e+04</td>\n",
       "      <td>8.708600e+04</td>\n",
       "      <td>8.708600e+04</td>\n",
       "      <td>8.708600e+04</td>\n",
       "      <td>8.708600e+04</td>\n",
       "      <td>8.708600e+04</td>\n",
       "      <td>8.708600e+04</td>\n",
       "      <td>8.708600e+04</td>\n",
       "      <td>8.708600e+04</td>\n",
       "      <td>8.708600e+04</td>\n",
       "      <td>...</td>\n",
       "      <td>8.708600e+04</td>\n",
       "      <td>8.708600e+04</td>\n",
       "      <td>8.708600e+04</td>\n",
       "      <td>8.708600e+04</td>\n",
       "      <td>8.708600e+04</td>\n",
       "      <td>8.708600e+04</td>\n",
       "      <td>8.708600e+04</td>\n",
       "      <td>8.708600e+04</td>\n",
       "      <td>8.708600e+04</td>\n",
       "      <td>8.708600e+04</td>\n",
       "    </tr>\n",
       "    <tr>\n",
       "      <td>mean</td>\n",
       "      <td>-5.053703e-14</td>\n",
       "      <td>3.344055e-16</td>\n",
       "      <td>-1.724121e-14</td>\n",
       "      <td>-1.111549e-16</td>\n",
       "      <td>-2.945079e-16</td>\n",
       "      <td>-1.905939e-16</td>\n",
       "      <td>1.066011e-16</td>\n",
       "      <td>-3.301704e-16</td>\n",
       "      <td>-8.556830e-15</td>\n",
       "      <td>3.224619e-15</td>\n",
       "      <td>...</td>\n",
       "      <td>1.346352e-16</td>\n",
       "      <td>-2.868941e-17</td>\n",
       "      <td>-2.478720e-16</td>\n",
       "      <td>-5.297451e-15</td>\n",
       "      <td>-1.551459e-14</td>\n",
       "      <td>3.651185e-15</td>\n",
       "      <td>-1.059085e-14</td>\n",
       "      <td>4.064706e-15</td>\n",
       "      <td>-1.942904e-15</td>\n",
       "      <td>9.415338e-16</td>\n",
       "    </tr>\n",
       "    <tr>\n",
       "      <td>std</td>\n",
       "      <td>1.000006e+00</td>\n",
       "      <td>1.000006e+00</td>\n",
       "      <td>1.000006e+00</td>\n",
       "      <td>1.000006e+00</td>\n",
       "      <td>1.000006e+00</td>\n",
       "      <td>1.000006e+00</td>\n",
       "      <td>1.000006e+00</td>\n",
       "      <td>1.000006e+00</td>\n",
       "      <td>1.000006e+00</td>\n",
       "      <td>1.000006e+00</td>\n",
       "      <td>...</td>\n",
       "      <td>1.000006e+00</td>\n",
       "      <td>1.000006e+00</td>\n",
       "      <td>1.000006e+00</td>\n",
       "      <td>1.000006e+00</td>\n",
       "      <td>1.000006e+00</td>\n",
       "      <td>1.000006e+00</td>\n",
       "      <td>1.000006e+00</td>\n",
       "      <td>1.000006e+00</td>\n",
       "      <td>1.000006e+00</td>\n",
       "      <td>1.000006e+00</td>\n",
       "    </tr>\n",
       "    <tr>\n",
       "      <td>min</td>\n",
       "      <td>-5.069152e+00</td>\n",
       "      <td>-5.186115e+00</td>\n",
       "      <td>-5.273953e+00</td>\n",
       "      <td>-5.289202e+00</td>\n",
       "      <td>-5.042643e+00</td>\n",
       "      <td>-5.060474e+00</td>\n",
       "      <td>-5.270989e+00</td>\n",
       "      <td>-5.054705e+00</td>\n",
       "      <td>-5.314144e+00</td>\n",
       "      <td>-5.232807e+00</td>\n",
       "      <td>...</td>\n",
       "      <td>-5.286133e+00</td>\n",
       "      <td>-5.284920e+00</td>\n",
       "      <td>-5.252029e+00</td>\n",
       "      <td>-2.134872e+00</td>\n",
       "      <td>-1.738422e+00</td>\n",
       "      <td>-2.453660e+00</td>\n",
       "      <td>-2.135382e+00</td>\n",
       "      <td>-5.318400e+00</td>\n",
       "      <td>-4.808491e+00</td>\n",
       "      <td>-5.272228e+00</td>\n",
       "    </tr>\n",
       "    <tr>\n",
       "      <td>25%</td>\n",
       "      <td>-6.345762e-01</td>\n",
       "      <td>-6.989612e-01</td>\n",
       "      <td>-7.402818e-01</td>\n",
       "      <td>-6.775422e-01</td>\n",
       "      <td>-6.418268e-01</td>\n",
       "      <td>-6.454230e-01</td>\n",
       "      <td>-6.841011e-01</td>\n",
       "      <td>-6.415389e-01</td>\n",
       "      <td>-7.250155e-01</td>\n",
       "      <td>-6.840880e-01</td>\n",
       "      <td>...</td>\n",
       "      <td>-6.873525e-01</td>\n",
       "      <td>-6.831511e-01</td>\n",
       "      <td>-6.821325e-01</td>\n",
       "      <td>-8.306628e-01</td>\n",
       "      <td>2.713426e-01</td>\n",
       "      <td>-5.698101e-01</td>\n",
       "      <td>-8.284289e-01</td>\n",
       "      <td>-6.927069e-01</td>\n",
       "      <td>-6.428358e-01</td>\n",
       "      <td>-6.848802e-01</td>\n",
       "    </tr>\n",
       "    <tr>\n",
       "      <td>50%</td>\n",
       "      <td>4.935162e-02</td>\n",
       "      <td>4.795176e-02</td>\n",
       "      <td>-3.688269e-02</td>\n",
       "      <td>7.111160e-03</td>\n",
       "      <td>1.393053e-02</td>\n",
       "      <td>1.296978e-02</td>\n",
       "      <td>-8.310080e-03</td>\n",
       "      <td>1.095136e-02</td>\n",
       "      <td>3.233958e-02</td>\n",
       "      <td>1.107520e-03</td>\n",
       "      <td>...</td>\n",
       "      <td>2.608732e-03</td>\n",
       "      <td>1.586707e-03</td>\n",
       "      <td>-2.597389e-04</td>\n",
       "      <td>7.697558e-01</td>\n",
       "      <td>2.713426e-01</td>\n",
       "      <td>-2.874184e-01</td>\n",
       "      <td>7.753567e-01</td>\n",
       "      <td>-2.386878e-01</td>\n",
       "      <td>-1.441104e-02</td>\n",
       "      <td>1.293279e-03</td>\n",
       "    </tr>\n",
       "    <tr>\n",
       "      <td>75%</td>\n",
       "      <td>6.809899e-01</td>\n",
       "      <td>6.778318e-01</td>\n",
       "      <td>7.104366e-01</td>\n",
       "      <td>6.820078e-01</td>\n",
       "      <td>6.705438e-01</td>\n",
       "      <td>6.634533e-01</td>\n",
       "      <td>6.779628e-01</td>\n",
       "      <td>6.674399e-01</td>\n",
       "      <td>7.047977e-01</td>\n",
       "      <td>6.733857e-01</td>\n",
       "      <td>...</td>\n",
       "      <td>6.888602e-01</td>\n",
       "      <td>6.876781e-01</td>\n",
       "      <td>6.833109e-01</td>\n",
       "      <td>7.697558e-01</td>\n",
       "      <td>7.002788e-01</td>\n",
       "      <td>-5.813050e-03</td>\n",
       "      <td>7.753567e-01</td>\n",
       "      <td>6.803145e-01</td>\n",
       "      <td>5.931047e-01</td>\n",
       "      <td>6.860900e-01</td>\n",
       "    </tr>\n",
       "    <tr>\n",
       "      <td>max</td>\n",
       "      <td>5.069072e+00</td>\n",
       "      <td>5.181005e+00</td>\n",
       "      <td>5.277279e+00</td>\n",
       "      <td>5.290448e+00</td>\n",
       "      <td>5.070992e+00</td>\n",
       "      <td>5.081069e+00</td>\n",
       "      <td>5.274912e+00</td>\n",
       "      <td>5.079692e+00</td>\n",
       "      <td>5.326998e+00</td>\n",
       "      <td>5.229927e+00</td>\n",
       "      <td>...</td>\n",
       "      <td>5.288358e+00</td>\n",
       "      <td>5.287453e+00</td>\n",
       "      <td>5.253740e+00</td>\n",
       "      <td>7.697558e-01</td>\n",
       "      <td>2.489234e+00</td>\n",
       "      <td>1.880566e+00</td>\n",
       "      <td>7.753567e-01</td>\n",
       "      <td>5.310994e+00</td>\n",
       "      <td>4.765853e+00</td>\n",
       "      <td>5.274918e+00</td>\n",
       "    </tr>\n",
       "  </tbody>\n",
       "</table>\n",
       "<p>8 rows × 24 columns</p>\n",
       "</div>"
      ],
      "text/plain": [
       "       estimated_delivery_time  effective_delivery_time  \\\n",
       "count             8.708600e+04             8.708600e+04   \n",
       "mean             -5.053703e-14             3.344055e-16   \n",
       "std               1.000006e+00             1.000006e+00   \n",
       "min              -5.069152e+00            -5.186115e+00   \n",
       "25%              -6.345762e-01            -6.989612e-01   \n",
       "50%               4.935162e-02             4.795176e-02   \n",
       "75%               6.809899e-01             6.778318e-01   \n",
       "max               5.069072e+00             5.181005e+00   \n",
       "\n",
       "       delivery_vs_estimated   total_price  total_freight  freight_percentage  \\\n",
       "count           8.708600e+04  8.708600e+04   8.708600e+04        8.708600e+04   \n",
       "mean           -1.724121e-14 -1.111549e-16  -2.945079e-16       -1.905939e-16   \n",
       "std             1.000006e+00  1.000006e+00   1.000006e+00        1.000006e+00   \n",
       "min            -5.273953e+00 -5.289202e+00  -5.042643e+00       -5.060474e+00   \n",
       "25%            -7.402818e-01 -6.775422e-01  -6.418268e-01       -6.454230e-01   \n",
       "50%            -3.688269e-02  7.111160e-03   1.393053e-02        1.296978e-02   \n",
       "75%             7.104366e-01  6.820078e-01   6.705438e-01        6.634533e-01   \n",
       "max             5.277279e+00  5.290448e+00   5.070992e+00        5.081069e+00   \n",
       "\n",
       "       product_price  product_freight  product_name_length  \\\n",
       "count   8.708600e+04     8.708600e+04         8.708600e+04   \n",
       "mean    1.066011e-16    -3.301704e-16        -8.556830e-15   \n",
       "std     1.000006e+00     1.000006e+00         1.000006e+00   \n",
       "min    -5.270989e+00    -5.054705e+00        -5.314144e+00   \n",
       "25%    -6.841011e-01    -6.415389e-01        -7.250155e-01   \n",
       "50%    -8.310080e-03     1.095136e-02         3.233958e-02   \n",
       "75%     6.779628e-01     6.674399e-01         7.047977e-01   \n",
       "max     5.274912e+00     5.079692e+00         5.326998e+00   \n",
       "\n",
       "       product_description_length  ...  main_payment_value  payment_total  \\\n",
       "count                8.708600e+04  ...        8.708600e+04   8.708600e+04   \n",
       "mean                 3.224619e-15  ...        1.346352e-16  -2.868941e-17   \n",
       "std                  1.000006e+00  ...        1.000006e+00   1.000006e+00   \n",
       "min                 -5.232807e+00  ...       -5.286133e+00  -5.284920e+00   \n",
       "25%                 -6.840880e-01  ...       -6.873525e-01  -6.831511e-01   \n",
       "50%                  1.107520e-03  ...        2.608732e-03   1.586707e-03   \n",
       "75%                  6.733857e-01  ...        6.888602e-01   6.876781e-01   \n",
       "max                  5.229927e+00  ...        5.288358e+00   5.287453e+00   \n",
       "\n",
       "       cust_sell_dist  review_score  review_answer_delay  product_review_mean  \\\n",
       "count    8.708600e+04  8.708600e+04         8.708600e+04         8.708600e+04   \n",
       "mean    -2.478720e-16 -5.297451e-15        -1.551459e-14         3.651185e-15   \n",
       "std      1.000006e+00  1.000006e+00         1.000006e+00         1.000006e+00   \n",
       "min     -5.252029e+00 -2.134872e+00        -1.738422e+00        -2.453660e+00   \n",
       "25%     -6.821325e-01 -8.306628e-01         2.713426e-01        -5.698101e-01   \n",
       "50%     -2.597389e-04  7.697558e-01         2.713426e-01        -2.874184e-01   \n",
       "75%      6.833109e-01  7.697558e-01         7.002788e-01        -5.813050e-03   \n",
       "max      5.253740e+00  7.697558e-01         2.489234e+00         1.880566e+00   \n",
       "\n",
       "       customer_review_mean    review_gap  seller_revenue  product_revenue  \n",
       "count          8.708600e+04  8.708600e+04    8.708600e+04     8.708600e+04  \n",
       "mean          -1.059085e-14  4.064706e-15   -1.942904e-15     9.415338e-16  \n",
       "std            1.000006e+00  1.000006e+00    1.000006e+00     1.000006e+00  \n",
       "min           -2.135382e+00 -5.318400e+00   -4.808491e+00    -5.272228e+00  \n",
       "25%           -8.284289e-01 -6.927069e-01   -6.428358e-01    -6.848802e-01  \n",
       "50%            7.753567e-01 -2.386878e-01   -1.441104e-02     1.293279e-03  \n",
       "75%            7.753567e-01  6.803145e-01    5.931047e-01     6.860900e-01  \n",
       "max            7.753567e-01  5.310994e+00    4.765853e+00     5.274918e+00  \n",
       "\n",
       "[8 rows x 24 columns]"
      ]
     },
     "execution_count": 151,
     "metadata": {},
     "output_type": "execute_result"
    }
   ],
   "source": [
    "data_preped.describe()"
   ]
  },
  {
   "cell_type": "code",
   "execution_count": 158,
   "metadata": {},
   "outputs": [
    {
     "data": {
      "text/plain": [
       "(8708, 24)"
      ]
     },
     "execution_count": 158,
     "metadata": {},
     "output_type": "execute_result"
    }
   ],
   "source": [
    "# echantillonnage (10%)\n",
    "data_sample = pd.DataFrame(data_preped).sample(\n",
    "    int(data.shape[0]/10),\n",
    "    random_state=42)\n",
    "data_sample.shape"
   ]
  },
  {
   "cell_type": "code",
   "execution_count": 162,
   "metadata": {},
   "outputs": [],
   "source": [
    "# features review sur data_preped\n",
    "review_features = data_sample.columns[data_sample.columns.str.contains('review')]"
   ]
  },
  {
   "cell_type": "code",
   "execution_count": 163,
   "metadata": {},
   "outputs": [
    {
     "data": {
      "text/plain": [
       "(8708, 5)"
      ]
     },
     "execution_count": 163,
     "metadata": {},
     "output_type": "execute_result"
    }
   ],
   "source": [
    "# create a dedicated df\n",
    "data_review = data_sample.filter(review_features)\n",
    "data_review.shape"
   ]
  },
  {
   "cell_type": "code",
   "execution_count": 164,
   "metadata": {},
   "outputs": [
    {
     "name": "stdout",
     "output_type": "stream",
     "text": [
      "nclusters : 2\n",
      "['customer_review_mean', 'review_score', 'review_gap', 'product_review_mean', 'review_answer_delay']\n",
      "[0.907683740600837, 0.9020217291347516, 0.6875570686368814, 0.5969669830674265, 0.4781318235169154]\n",
      "nclusters : 3\n",
      "['review_score', 'customer_review_mean', 'product_review_mean', 'review_gap', 'review_answer_delay']\n",
      "[0.9813504481699217, 0.9723295097179699, 0.8096398313118957, 0.7136290797047509, 0.5192186183980061]\n",
      "nclusters : 4\n",
      "['review_score', 'customer_review_mean', 'product_review_mean', 'review_gap', 'review_answer_delay']\n",
      "[0.981005788681305, 0.9771722080664643, 0.8460340561946843, 0.7263292672256313, 0.5306767500162374]\n",
      "nclusters : 5\n",
      "['review_score', 'customer_review_mean', 'product_review_mean', 'review_gap', 'review_answer_delay']\n",
      "[1.0, 0.9707992576093625, 0.8613633192052761, 0.6801861377503323, 0.5736432132781103]\n"
     ]
    },
    {
     "name": "stderr",
     "output_type": "stream",
     "text": [
      "C:\\Users\\etien\\Anaconda3\\lib\\site-packages\\sklearn\\cluster\\_kmeans.py:1122: ConvergenceWarning: Number of distinct clusters (5) found smaller than n_clusters (6). Possibly due to duplicate points in X.\n",
      "  return self.fit(X, sample_weight=sample_weight).labels_\n"
     ]
    },
    {
     "name": "stdout",
     "output_type": "stream",
     "text": [
      "nclusters : 6\n",
      "['review_score', 'customer_review_mean', 'review_answer_delay', 'product_review_mean', 'review_gap']\n",
      "[1.0, 0.9775357244575362, 0.8663910547702405, 0.7045835616590068, 0.6234266963829013]\n"
     ]
    },
    {
     "name": "stderr",
     "output_type": "stream",
     "text": [
      "C:\\Users\\etien\\Anaconda3\\lib\\site-packages\\sklearn\\cluster\\_kmeans.py:1122: ConvergenceWarning: Number of distinct clusters (5) found smaller than n_clusters (7). Possibly due to duplicate points in X.\n",
      "  return self.fit(X, sample_weight=sample_weight).labels_\n"
     ]
    },
    {
     "name": "stdout",
     "output_type": "stream",
     "text": [
      "nclusters : 7\n",
      "['review_score', 'customer_review_mean', 'review_answer_delay', 'product_review_mean', 'review_gap']\n",
      "[1.0, 0.9947836855554502, 0.7862688733234394, 0.7558880752935025, 0.6469919013782858]\n"
     ]
    },
    {
     "name": "stderr",
     "output_type": "stream",
     "text": [
      "C:\\Users\\etien\\Anaconda3\\lib\\site-packages\\sklearn\\cluster\\_kmeans.py:1122: ConvergenceWarning: Number of distinct clusters (5) found smaller than n_clusters (8). Possibly due to duplicate points in X.\n",
      "  return self.fit(X, sample_weight=sample_weight).labels_\n"
     ]
    },
    {
     "name": "stdout",
     "output_type": "stream",
     "text": [
      "nclusters : 8\n",
      "['review_score', 'customer_review_mean', 'review_answer_delay', 'product_review_mean', 'review_gap']\n",
      "[1.0, 0.9941823843996026, 0.7266977487785962, 0.7742843757207895, 0.6020947542830144]\n"
     ]
    }
   ],
   "source": [
    "for n in range(2, 6):\n",
    "    sisc_forward_selection(n, data_sample[review_features], 0)"
   ]
  },
  {
   "cell_type": "code",
   "execution_count": 124,
   "metadata": {},
   "outputs": [
    {
     "name": "stdout",
     "output_type": "stream",
     "text": [
      "nclusters : 2\n",
      "['product_review_mean', 'review_gap', 'customer_review_mean']\n",
      "[0.12317308973507242, 0.44598403690891586, 0.8108696821918842]\n",
      "nclusters : 3\n",
      "['customer_review_mean', 'product_review_mean', 'review_gap']\n",
      "[0.05079329454268558, 0.33811112157521334, 0.4599090989299384]\n",
      "nclusters : 4\n",
      "['customer_review_mean', 'product_review_mean', 'review_gap']\n",
      "[0.11411929424475142, 0.42956190189773186, 0.6185184112609947]\n",
      "nclusters : 5\n",
      "['customer_review_mean', 'product_review_mean', 'review_gap']\n",
      "[0.023438033505953308, 0.2557565793783737, 0.6105672408434686]\n",
      "nclusters : 6\n",
      "['customer_review_mean', 'product_review_mean', 'review_gap']\n",
      "[0.018309638650289752, 0.33991128275745286, 0.6027737952963097]\n",
      "nclusters : 7\n",
      "['customer_review_mean', 'product_review_mean', 'review_gap']\n",
      "[0.007538437817414228, 0.4252555255222132, 0.46758956239611854]\n",
      "nclusters : 8\n",
      "['customer_review_mean', 'product_review_mean', 'review_gap']\n",
      "[0.024167947512430166, 0.42735699793376164, 0.48838335597824123]\n"
     ]
    }
   ],
   "source": [
    "# for n in range(2, 9):\n",
    "#    dbsc_forward_selection(n, data_sample[test_features], 10)"
   ]
  },
  {
   "cell_type": "code",
   "execution_count": 166,
   "metadata": {
    "scrolled": false
   },
   "outputs": [
    {
     "name": "stdout",
     "output_type": "stream",
     "text": [
      "nclusters : 2\n",
      "['review_answer_delay', 'product_review_mean']\n",
      "[0.10267229154843813, 0.6980639226569056]\n",
      "nclusters : 3\n",
      "['review_score', 'customer_review_mean', 'product_review_mean', 'review_gap', 'review_answer_delay']\n",
      "[0.05046228455459626, 0.07037846727359794, 0.3024529067890649, 0.41396848295147376, 0.7506094726184193]\n",
      "nclusters : 4\n",
      "['review_score', 'customer_review_mean', 'product_review_mean', 'review_gap', 'review_answer_delay']\n",
      "[0.10504620951376471, 0.0814093630791572, 0.32952225046379036, 0.518697519726913, 0.845226358085415]\n",
      "nclusters : 5\n",
      "['review_score', 'customer_review_mean', 'product_review_mean', 'review_gap', 'review_answer_delay']\n",
      "[4.458753946426513e-08, 0.13296145252513583, 0.21021366559243723, 0.570465413768845, 0.7057210456551128]\n"
     ]
    },
    {
     "name": "stderr",
     "output_type": "stream",
     "text": [
      "C:\\Users\\etien\\Anaconda3\\lib\\site-packages\\sklearn\\cluster\\_kmeans.py:1122: ConvergenceWarning: Number of distinct clusters (5) found smaller than n_clusters (6). Possibly due to duplicate points in X.\n",
      "  return self.fit(X, sample_weight=sample_weight).labels_\n"
     ]
    },
    {
     "name": "stdout",
     "output_type": "stream",
     "text": [
      "nclusters : 6\n",
      "['review_score', 'customer_review_mean', 'review_answer_delay', 'product_review_mean', 'review_gap']\n",
      "[4.458753946426513e-08, 0.1011527793277956, 0.20369903362320999, 0.5823357240218392, 0.6758933973353779]\n"
     ]
    },
    {
     "name": "stderr",
     "output_type": "stream",
     "text": [
      "C:\\Users\\etien\\Anaconda3\\lib\\site-packages\\sklearn\\cluster\\_kmeans.py:1122: ConvergenceWarning: Number of distinct clusters (5) found smaller than n_clusters (7). Possibly due to duplicate points in X.\n",
      "  return self.fit(X, sample_weight=sample_weight).labels_\n"
     ]
    },
    {
     "name": "stdout",
     "output_type": "stream",
     "text": [
      "nclusters : 7\n",
      "['review_score', 'customer_review_mean', 'review_answer_delay', 'product_review_mean', 'review_gap']\n",
      "[4.458753946426513e-08, 0.04066255592304053, 0.29845800976925746, 0.4371922337175117, 0.5820031354750499]\n"
     ]
    },
    {
     "name": "stderr",
     "output_type": "stream",
     "text": [
      "C:\\Users\\etien\\Anaconda3\\lib\\site-packages\\sklearn\\cluster\\_kmeans.py:1122: ConvergenceWarning: Number of distinct clusters (5) found smaller than n_clusters (8). Possibly due to duplicate points in X.\n",
      "  return self.fit(X, sample_weight=sample_weight).labels_\n"
     ]
    },
    {
     "name": "stdout",
     "output_type": "stream",
     "text": [
      "nclusters : 8\n",
      "['review_score', 'customer_review_mean', 'review_answer_delay', 'product_review_mean', 'review_gap']\n",
      "[4.4587539464265135e-08, 0.09975326630365289, 0.3874082665366513, 0.40406326084002675, 0.6388046771819151]\n"
     ]
    }
   ],
   "source": [
    "for n in range(2, 6):\n",
    "    dbsc_forward_selection(n, data_sample[review_features], 1)"
   ]
  },
  {
   "cell_type": "code",
   "execution_count": 167,
   "metadata": {
    "scrolled": true
   },
   "outputs": [
    {
     "data": {
      "text/plain": [
       "Index(['estimated_delivery_time', 'effective_delivery_time',\n",
       "       'delivery_vs_estimated', 'total_price', 'total_freight',\n",
       "       'freight_percentage', 'product_price', 'product_freight',\n",
       "       'product_name_length', 'product_description_length', 'product_weight_g',\n",
       "       'product_size', 'product_qlty_index', 'product_density',\n",
       "       'main_payment_value', 'payment_total', 'cust_sell_dist', 'review_score',\n",
       "       'review_answer_delay', 'product_review_mean', 'customer_review_mean',\n",
       "       'review_gap', 'seller_revenue', 'product_revenue'],\n",
       "      dtype='object')"
      ]
     },
     "execution_count": 167,
     "metadata": {},
     "output_type": "execute_result"
    }
   ],
   "source": [
    "data_sample.columns"
   ]
  },
  {
   "cell_type": "code",
   "execution_count": 168,
   "metadata": {},
   "outputs": [],
   "source": [
    "numerical_features = ['estimated_delivery_time',\n",
    "                      'effective_delivery_time',\n",
    "                      'delivery_vs_estimated',\n",
    "                      'total_price',\n",
    "                      'total_freight',\n",
    "                      'freight_percentage',\n",
    "                      'product_price',\n",
    "                      'product_freight',\n",
    "                      'product_name_length',\n",
    "                      'product_description_length',\n",
    "                      'product_weight_g',\n",
    "                      'product_size',\n",
    "                      'product_qlty_index',\n",
    "                      'product_density',\n",
    "                      'main_payment_value',\n",
    "                      'payment_total',\n",
    "                      'cust_sell_dist',\n",
    "                      'review_gap',\n",
    "                      'seller_revenue',\n",
    "                      'product_revenue']"
   ]
  },
  {
   "cell_type": "code",
   "execution_count": 169,
   "metadata": {},
   "outputs": [
    {
     "name": "stdout",
     "output_type": "stream",
     "text": [
      "nclusters : 2\n",
      "['product_revenue', 'seller_revenue']\n",
      "[0.5919131619338575, 0.9223529772917183]\n",
      "nclusters : 3\n",
      "['product_name_length', 'product_size']\n",
      "[0.543183856437953, 0.9094031940522106]\n",
      "nclusters : 4\n",
      "['seller_revenue', 'product_revenue']\n",
      "[0.44383274095820685, 0.9001652208395101]\n",
      "nclusters : 5\n",
      "['total_freight', 'product_freight', 'freight_percentage', 'product_price', 'payment_total']\n",
      "[0.45179147113640195, 0.520767384654642, 0.7616430091424018, 0.7986165548792319, 0.9812377082654518]\n",
      "nclusters : 6\n",
      "['product_freight', 'total_freight', 'cust_sell_dist', 'estimated_delivery_time']\n",
      "[0.44943855608877153, 0.5411375763380185, 0.7971221675559766, 0.9776668051316872]\n",
      "nclusters : 7\n",
      "['total_freight', 'product_freight', 'product_size', 'product_density']\n",
      "[0.4462322017687156, 0.5290928616896754, 0.8117795273447463, 0.950521418142826]\n",
      "nclusters : 8\n",
      "['total_freight', 'product_freight', 'seller_revenue', 'main_payment_value']\n",
      "[0.45184962683510244, 0.5214230725433522, 0.7633646710181472, 0.9709044271040181]\n"
     ]
    }
   ],
   "source": [
    "for n in range(2, 9):\n",
    "    dbsc_forward_selection(n, data_sample[numerical_features], 1)"
   ]
  },
  {
   "cell_type": "code",
   "execution_count": 170,
   "metadata": {},
   "outputs": [
    {
     "ename": "KeyboardInterrupt",
     "evalue": "",
     "output_type": "error",
     "traceback": [
      "\u001b[1;31m---------------------------------------------------------------------------\u001b[0m",
      "\u001b[1;31mKeyboardInterrupt\u001b[0m                         Traceback (most recent call last)",
      "\u001b[1;32m<ipython-input-170-dfdd40193cad>\u001b[0m in \u001b[0;36m<module>\u001b[1;34m\u001b[0m\n\u001b[0;32m      1\u001b[0m \u001b[1;32mfor\u001b[0m \u001b[0mn\u001b[0m \u001b[1;32min\u001b[0m \u001b[0mrange\u001b[0m\u001b[1;33m(\u001b[0m\u001b[1;36m2\u001b[0m\u001b[1;33m,\u001b[0m \u001b[1;36m9\u001b[0m\u001b[1;33m)\u001b[0m\u001b[1;33m:\u001b[0m\u001b[1;33m\u001b[0m\u001b[1;33m\u001b[0m\u001b[0m\n\u001b[1;32m----> 2\u001b[1;33m     \u001b[0msisc_forward_selection\u001b[0m\u001b[1;33m(\u001b[0m\u001b[0mn\u001b[0m\u001b[1;33m,\u001b[0m \u001b[0mdata_sample\u001b[0m\u001b[1;33m[\u001b[0m\u001b[0mnumerical_features\u001b[0m\u001b[1;33m]\u001b[0m\u001b[1;33m,\u001b[0m \u001b[1;36m0\u001b[0m\u001b[1;33m)\u001b[0m\u001b[1;33m\u001b[0m\u001b[1;33m\u001b[0m\u001b[0m\n\u001b[0m",
      "\u001b[1;32m<ipython-input-161-0d165619baad>\u001b[0m in \u001b[0;36msisc_forward_selection\u001b[1;34m(n, data, score_threshold)\u001b[0m\n\u001b[0;32m     19\u001b[0m             new_sisc[new_column] = sisc(\n\u001b[0;32m     20\u001b[0m                 \u001b[0mdata\u001b[0m\u001b[1;33m[\u001b[0m\u001b[0mbest_features\u001b[0m\u001b[1;33m+\u001b[0m\u001b[1;33m[\u001b[0m\u001b[0mnew_column\u001b[0m\u001b[1;33m]\u001b[0m\u001b[1;33m]\u001b[0m\u001b[1;33m,\u001b[0m\u001b[1;33m\u001b[0m\u001b[1;33m\u001b[0m\u001b[0m\n\u001b[1;32m---> 21\u001b[1;33m                 \u001b[0mkmeans\u001b[0m\u001b[1;33m.\u001b[0m\u001b[0mfit_predict\u001b[0m\u001b[1;33m(\u001b[0m\u001b[0mdata\u001b[0m\u001b[1;33m[\u001b[0m\u001b[0mbest_features\u001b[0m\u001b[1;33m+\u001b[0m\u001b[1;33m[\u001b[0m\u001b[0mnew_column\u001b[0m\u001b[1;33m]\u001b[0m\u001b[1;33m]\u001b[0m\u001b[1;33m)\u001b[0m\u001b[1;33m\u001b[0m\u001b[1;33m\u001b[0m\u001b[0m\n\u001b[0m\u001b[0;32m     22\u001b[0m             )\n\u001b[0;32m     23\u001b[0m         \u001b[0mmax_sisc\u001b[0m \u001b[1;33m=\u001b[0m \u001b[0mnew_sisc\u001b[0m\u001b[1;33m.\u001b[0m\u001b[0mmax\u001b[0m\u001b[1;33m(\u001b[0m\u001b[1;33m)\u001b[0m\u001b[1;33m\u001b[0m\u001b[1;33m\u001b[0m\u001b[0m\n",
      "\u001b[1;32m~\\Anaconda3\\lib\\site-packages\\sklearn\\utils\\validation.py\u001b[0m in \u001b[0;36minner_f\u001b[1;34m(*args, **kwargs)\u001b[0m\n\u001b[0;32m     70\u001b[0m                           FutureWarning)\n\u001b[0;32m     71\u001b[0m         \u001b[0mkwargs\u001b[0m\u001b[1;33m.\u001b[0m\u001b[0mupdate\u001b[0m\u001b[1;33m(\u001b[0m\u001b[1;33m{\u001b[0m\u001b[0mk\u001b[0m\u001b[1;33m:\u001b[0m \u001b[0marg\u001b[0m \u001b[1;32mfor\u001b[0m \u001b[0mk\u001b[0m\u001b[1;33m,\u001b[0m \u001b[0marg\u001b[0m \u001b[1;32min\u001b[0m \u001b[0mzip\u001b[0m\u001b[1;33m(\u001b[0m\u001b[0msig\u001b[0m\u001b[1;33m.\u001b[0m\u001b[0mparameters\u001b[0m\u001b[1;33m,\u001b[0m \u001b[0margs\u001b[0m\u001b[1;33m)\u001b[0m\u001b[1;33m}\u001b[0m\u001b[1;33m)\u001b[0m\u001b[1;33m\u001b[0m\u001b[1;33m\u001b[0m\u001b[0m\n\u001b[1;32m---> 72\u001b[1;33m         \u001b[1;32mreturn\u001b[0m \u001b[0mf\u001b[0m\u001b[1;33m(\u001b[0m\u001b[1;33m**\u001b[0m\u001b[0mkwargs\u001b[0m\u001b[1;33m)\u001b[0m\u001b[1;33m\u001b[0m\u001b[1;33m\u001b[0m\u001b[0m\n\u001b[0m\u001b[0;32m     73\u001b[0m     \u001b[1;32mreturn\u001b[0m \u001b[0minner_f\u001b[0m\u001b[1;33m\u001b[0m\u001b[1;33m\u001b[0m\u001b[0m\n\u001b[0;32m     74\u001b[0m \u001b[1;33m\u001b[0m\u001b[0m\n",
      "\u001b[1;32m~\\Anaconda3\\lib\\site-packages\\sklearn\\metrics\\cluster\\_unsupervised.py\u001b[0m in \u001b[0;36msilhouette_score\u001b[1;34m(X, labels, metric, sample_size, random_state, **kwds)\u001b[0m\n\u001b[0;32m    115\u001b[0m         \u001b[1;32melse\u001b[0m\u001b[1;33m:\u001b[0m\u001b[1;33m\u001b[0m\u001b[1;33m\u001b[0m\u001b[0m\n\u001b[0;32m    116\u001b[0m             \u001b[0mX\u001b[0m\u001b[1;33m,\u001b[0m \u001b[0mlabels\u001b[0m \u001b[1;33m=\u001b[0m \u001b[0mX\u001b[0m\u001b[1;33m[\u001b[0m\u001b[0mindices\u001b[0m\u001b[1;33m]\u001b[0m\u001b[1;33m,\u001b[0m \u001b[0mlabels\u001b[0m\u001b[1;33m[\u001b[0m\u001b[0mindices\u001b[0m\u001b[1;33m]\u001b[0m\u001b[1;33m\u001b[0m\u001b[1;33m\u001b[0m\u001b[0m\n\u001b[1;32m--> 117\u001b[1;33m     \u001b[1;32mreturn\u001b[0m \u001b[0mnp\u001b[0m\u001b[1;33m.\u001b[0m\u001b[0mmean\u001b[0m\u001b[1;33m(\u001b[0m\u001b[0msilhouette_samples\u001b[0m\u001b[1;33m(\u001b[0m\u001b[0mX\u001b[0m\u001b[1;33m,\u001b[0m \u001b[0mlabels\u001b[0m\u001b[1;33m,\u001b[0m \u001b[0mmetric\u001b[0m\u001b[1;33m=\u001b[0m\u001b[0mmetric\u001b[0m\u001b[1;33m,\u001b[0m \u001b[1;33m**\u001b[0m\u001b[0mkwds\u001b[0m\u001b[1;33m)\u001b[0m\u001b[1;33m)\u001b[0m\u001b[1;33m\u001b[0m\u001b[1;33m\u001b[0m\u001b[0m\n\u001b[0m\u001b[0;32m    118\u001b[0m \u001b[1;33m\u001b[0m\u001b[0m\n\u001b[0;32m    119\u001b[0m \u001b[1;33m\u001b[0m\u001b[0m\n",
      "\u001b[1;32m~\\Anaconda3\\lib\\site-packages\\sklearn\\utils\\validation.py\u001b[0m in \u001b[0;36minner_f\u001b[1;34m(*args, **kwargs)\u001b[0m\n\u001b[0;32m     70\u001b[0m                           FutureWarning)\n\u001b[0;32m     71\u001b[0m         \u001b[0mkwargs\u001b[0m\u001b[1;33m.\u001b[0m\u001b[0mupdate\u001b[0m\u001b[1;33m(\u001b[0m\u001b[1;33m{\u001b[0m\u001b[0mk\u001b[0m\u001b[1;33m:\u001b[0m \u001b[0marg\u001b[0m \u001b[1;32mfor\u001b[0m \u001b[0mk\u001b[0m\u001b[1;33m,\u001b[0m \u001b[0marg\u001b[0m \u001b[1;32min\u001b[0m \u001b[0mzip\u001b[0m\u001b[1;33m(\u001b[0m\u001b[0msig\u001b[0m\u001b[1;33m.\u001b[0m\u001b[0mparameters\u001b[0m\u001b[1;33m,\u001b[0m \u001b[0margs\u001b[0m\u001b[1;33m)\u001b[0m\u001b[1;33m}\u001b[0m\u001b[1;33m)\u001b[0m\u001b[1;33m\u001b[0m\u001b[1;33m\u001b[0m\u001b[0m\n\u001b[1;32m---> 72\u001b[1;33m         \u001b[1;32mreturn\u001b[0m \u001b[0mf\u001b[0m\u001b[1;33m(\u001b[0m\u001b[1;33m**\u001b[0m\u001b[0mkwargs\u001b[0m\u001b[1;33m)\u001b[0m\u001b[1;33m\u001b[0m\u001b[1;33m\u001b[0m\u001b[0m\n\u001b[0m\u001b[0;32m     73\u001b[0m     \u001b[1;32mreturn\u001b[0m \u001b[0minner_f\u001b[0m\u001b[1;33m\u001b[0m\u001b[1;33m\u001b[0m\u001b[0m\n\u001b[0;32m     74\u001b[0m \u001b[1;33m\u001b[0m\u001b[0m\n",
      "\u001b[1;32m~\\Anaconda3\\lib\\site-packages\\sklearn\\metrics\\cluster\\_unsupervised.py\u001b[0m in \u001b[0;36msilhouette_samples\u001b[1;34m(X, labels, metric, **kwds)\u001b[0m\n\u001b[0;32m    233\u001b[0m                                     labels=labels, label_freqs=label_freqs)\n\u001b[0;32m    234\u001b[0m     results = zip(*pairwise_distances_chunked(X, reduce_func=reduce_func,\n\u001b[1;32m--> 235\u001b[1;33m                                               **kwds))\n\u001b[0m\u001b[0;32m    236\u001b[0m     \u001b[0mintra_clust_dists\u001b[0m\u001b[1;33m,\u001b[0m \u001b[0minter_clust_dists\u001b[0m \u001b[1;33m=\u001b[0m \u001b[0mresults\u001b[0m\u001b[1;33m\u001b[0m\u001b[1;33m\u001b[0m\u001b[0m\n\u001b[0;32m    237\u001b[0m     \u001b[0mintra_clust_dists\u001b[0m \u001b[1;33m=\u001b[0m \u001b[0mnp\u001b[0m\u001b[1;33m.\u001b[0m\u001b[0mconcatenate\u001b[0m\u001b[1;33m(\u001b[0m\u001b[0mintra_clust_dists\u001b[0m\u001b[1;33m)\u001b[0m\u001b[1;33m\u001b[0m\u001b[1;33m\u001b[0m\u001b[0m\n",
      "\u001b[1;32m~\\Anaconda3\\lib\\site-packages\\sklearn\\metrics\\pairwise.py\u001b[0m in \u001b[0;36mpairwise_distances_chunked\u001b[1;34m(X, Y, reduce_func, metric, n_jobs, working_memory, **kwds)\u001b[0m\n\u001b[0;32m   1615\u001b[0m             \u001b[0mX_chunk\u001b[0m \u001b[1;33m=\u001b[0m \u001b[0mX\u001b[0m\u001b[1;33m[\u001b[0m\u001b[0msl\u001b[0m\u001b[1;33m]\u001b[0m\u001b[1;33m\u001b[0m\u001b[1;33m\u001b[0m\u001b[0m\n\u001b[0;32m   1616\u001b[0m         D_chunk = pairwise_distances(X_chunk, Y, metric=metric,\n\u001b[1;32m-> 1617\u001b[1;33m                                      n_jobs=n_jobs, **kwds)\n\u001b[0m\u001b[0;32m   1618\u001b[0m         if ((X is Y or Y is None)\n\u001b[0;32m   1619\u001b[0m                 \u001b[1;32mand\u001b[0m \u001b[0mPAIRWISE_DISTANCE_FUNCTIONS\u001b[0m\u001b[1;33m.\u001b[0m\u001b[0mget\u001b[0m\u001b[1;33m(\u001b[0m\u001b[0mmetric\u001b[0m\u001b[1;33m,\u001b[0m \u001b[1;32mNone\u001b[0m\u001b[1;33m)\u001b[0m\u001b[1;33m\u001b[0m\u001b[1;33m\u001b[0m\u001b[0m\n",
      "\u001b[1;32m~\\Anaconda3\\lib\\site-packages\\sklearn\\utils\\validation.py\u001b[0m in \u001b[0;36minner_f\u001b[1;34m(*args, **kwargs)\u001b[0m\n\u001b[0;32m     70\u001b[0m                           FutureWarning)\n\u001b[0;32m     71\u001b[0m         \u001b[0mkwargs\u001b[0m\u001b[1;33m.\u001b[0m\u001b[0mupdate\u001b[0m\u001b[1;33m(\u001b[0m\u001b[1;33m{\u001b[0m\u001b[0mk\u001b[0m\u001b[1;33m:\u001b[0m \u001b[0marg\u001b[0m \u001b[1;32mfor\u001b[0m \u001b[0mk\u001b[0m\u001b[1;33m,\u001b[0m \u001b[0marg\u001b[0m \u001b[1;32min\u001b[0m \u001b[0mzip\u001b[0m\u001b[1;33m(\u001b[0m\u001b[0msig\u001b[0m\u001b[1;33m.\u001b[0m\u001b[0mparameters\u001b[0m\u001b[1;33m,\u001b[0m \u001b[0margs\u001b[0m\u001b[1;33m)\u001b[0m\u001b[1;33m}\u001b[0m\u001b[1;33m)\u001b[0m\u001b[1;33m\u001b[0m\u001b[1;33m\u001b[0m\u001b[0m\n\u001b[1;32m---> 72\u001b[1;33m         \u001b[1;32mreturn\u001b[0m \u001b[0mf\u001b[0m\u001b[1;33m(\u001b[0m\u001b[1;33m**\u001b[0m\u001b[0mkwargs\u001b[0m\u001b[1;33m)\u001b[0m\u001b[1;33m\u001b[0m\u001b[1;33m\u001b[0m\u001b[0m\n\u001b[0m\u001b[0;32m     73\u001b[0m     \u001b[1;32mreturn\u001b[0m \u001b[0minner_f\u001b[0m\u001b[1;33m\u001b[0m\u001b[1;33m\u001b[0m\u001b[0m\n\u001b[0;32m     74\u001b[0m \u001b[1;33m\u001b[0m\u001b[0m\n",
      "\u001b[1;32m~\\Anaconda3\\lib\\site-packages\\sklearn\\metrics\\pairwise.py\u001b[0m in \u001b[0;36mpairwise_distances\u001b[1;34m(X, Y, metric, n_jobs, force_all_finite, **kwds)\u001b[0m\n\u001b[0;32m   1777\u001b[0m         \u001b[0mfunc\u001b[0m \u001b[1;33m=\u001b[0m \u001b[0mpartial\u001b[0m\u001b[1;33m(\u001b[0m\u001b[0mdistance\u001b[0m\u001b[1;33m.\u001b[0m\u001b[0mcdist\u001b[0m\u001b[1;33m,\u001b[0m \u001b[0mmetric\u001b[0m\u001b[1;33m=\u001b[0m\u001b[0mmetric\u001b[0m\u001b[1;33m,\u001b[0m \u001b[1;33m**\u001b[0m\u001b[0mkwds\u001b[0m\u001b[1;33m)\u001b[0m\u001b[1;33m\u001b[0m\u001b[1;33m\u001b[0m\u001b[0m\n\u001b[0;32m   1778\u001b[0m \u001b[1;33m\u001b[0m\u001b[0m\n\u001b[1;32m-> 1779\u001b[1;33m     \u001b[1;32mreturn\u001b[0m \u001b[0m_parallel_pairwise\u001b[0m\u001b[1;33m(\u001b[0m\u001b[0mX\u001b[0m\u001b[1;33m,\u001b[0m \u001b[0mY\u001b[0m\u001b[1;33m,\u001b[0m \u001b[0mfunc\u001b[0m\u001b[1;33m,\u001b[0m \u001b[0mn_jobs\u001b[0m\u001b[1;33m,\u001b[0m \u001b[1;33m**\u001b[0m\u001b[0mkwds\u001b[0m\u001b[1;33m)\u001b[0m\u001b[1;33m\u001b[0m\u001b[1;33m\u001b[0m\u001b[0m\n\u001b[0m\u001b[0;32m   1780\u001b[0m \u001b[1;33m\u001b[0m\u001b[0m\n\u001b[0;32m   1781\u001b[0m \u001b[1;33m\u001b[0m\u001b[0m\n",
      "\u001b[1;32m~\\Anaconda3\\lib\\site-packages\\sklearn\\metrics\\pairwise.py\u001b[0m in \u001b[0;36m_parallel_pairwise\u001b[1;34m(X, Y, func, n_jobs, **kwds)\u001b[0m\n\u001b[0;32m   1358\u001b[0m \u001b[1;33m\u001b[0m\u001b[0m\n\u001b[0;32m   1359\u001b[0m     \u001b[1;32mif\u001b[0m \u001b[0meffective_n_jobs\u001b[0m\u001b[1;33m(\u001b[0m\u001b[0mn_jobs\u001b[0m\u001b[1;33m)\u001b[0m \u001b[1;33m==\u001b[0m \u001b[1;36m1\u001b[0m\u001b[1;33m:\u001b[0m\u001b[1;33m\u001b[0m\u001b[1;33m\u001b[0m\u001b[0m\n\u001b[1;32m-> 1360\u001b[1;33m         \u001b[1;32mreturn\u001b[0m \u001b[0mfunc\u001b[0m\u001b[1;33m(\u001b[0m\u001b[0mX\u001b[0m\u001b[1;33m,\u001b[0m \u001b[0mY\u001b[0m\u001b[1;33m,\u001b[0m \u001b[1;33m**\u001b[0m\u001b[0mkwds\u001b[0m\u001b[1;33m)\u001b[0m\u001b[1;33m\u001b[0m\u001b[1;33m\u001b[0m\u001b[0m\n\u001b[0m\u001b[0;32m   1361\u001b[0m \u001b[1;33m\u001b[0m\u001b[0m\n\u001b[0;32m   1362\u001b[0m     \u001b[1;31m# enforce a threading backend to prevent data communication overhead\u001b[0m\u001b[1;33m\u001b[0m\u001b[1;33m\u001b[0m\u001b[1;33m\u001b[0m\u001b[0m\n",
      "\u001b[1;32m~\\Anaconda3\\lib\\site-packages\\sklearn\\utils\\validation.py\u001b[0m in \u001b[0;36minner_f\u001b[1;34m(*args, **kwargs)\u001b[0m\n\u001b[0;32m     70\u001b[0m                           FutureWarning)\n\u001b[0;32m     71\u001b[0m         \u001b[0mkwargs\u001b[0m\u001b[1;33m.\u001b[0m\u001b[0mupdate\u001b[0m\u001b[1;33m(\u001b[0m\u001b[1;33m{\u001b[0m\u001b[0mk\u001b[0m\u001b[1;33m:\u001b[0m \u001b[0marg\u001b[0m \u001b[1;32mfor\u001b[0m \u001b[0mk\u001b[0m\u001b[1;33m,\u001b[0m \u001b[0marg\u001b[0m \u001b[1;32min\u001b[0m \u001b[0mzip\u001b[0m\u001b[1;33m(\u001b[0m\u001b[0msig\u001b[0m\u001b[1;33m.\u001b[0m\u001b[0mparameters\u001b[0m\u001b[1;33m,\u001b[0m \u001b[0margs\u001b[0m\u001b[1;33m)\u001b[0m\u001b[1;33m}\u001b[0m\u001b[1;33m)\u001b[0m\u001b[1;33m\u001b[0m\u001b[1;33m\u001b[0m\u001b[0m\n\u001b[1;32m---> 72\u001b[1;33m         \u001b[1;32mreturn\u001b[0m \u001b[0mf\u001b[0m\u001b[1;33m(\u001b[0m\u001b[1;33m**\u001b[0m\u001b[0mkwargs\u001b[0m\u001b[1;33m)\u001b[0m\u001b[1;33m\u001b[0m\u001b[1;33m\u001b[0m\u001b[0m\n\u001b[0m\u001b[0;32m     73\u001b[0m     \u001b[1;32mreturn\u001b[0m \u001b[0minner_f\u001b[0m\u001b[1;33m\u001b[0m\u001b[1;33m\u001b[0m\u001b[0m\n\u001b[0;32m     74\u001b[0m \u001b[1;33m\u001b[0m\u001b[0m\n",
      "\u001b[1;32m~\\Anaconda3\\lib\\site-packages\\sklearn\\metrics\\pairwise.py\u001b[0m in \u001b[0;36meuclidean_distances\u001b[1;34m(X, Y, Y_norm_squared, squared, X_norm_squared)\u001b[0m\n\u001b[0;32m    308\u001b[0m     \u001b[1;32melse\u001b[0m\u001b[1;33m:\u001b[0m\u001b[1;33m\u001b[0m\u001b[1;33m\u001b[0m\u001b[0m\n\u001b[0;32m    309\u001b[0m         \u001b[1;31m# if dtype is already float64, no need to chunk and upcast\u001b[0m\u001b[1;33m\u001b[0m\u001b[1;33m\u001b[0m\u001b[1;33m\u001b[0m\u001b[0m\n\u001b[1;32m--> 310\u001b[1;33m         \u001b[0mdistances\u001b[0m \u001b[1;33m=\u001b[0m \u001b[1;33m-\u001b[0m \u001b[1;36m2\u001b[0m \u001b[1;33m*\u001b[0m \u001b[0msafe_sparse_dot\u001b[0m\u001b[1;33m(\u001b[0m\u001b[0mX\u001b[0m\u001b[1;33m,\u001b[0m \u001b[0mY\u001b[0m\u001b[1;33m.\u001b[0m\u001b[0mT\u001b[0m\u001b[1;33m,\u001b[0m \u001b[0mdense_output\u001b[0m\u001b[1;33m=\u001b[0m\u001b[1;32mTrue\u001b[0m\u001b[1;33m)\u001b[0m\u001b[1;33m\u001b[0m\u001b[1;33m\u001b[0m\u001b[0m\n\u001b[0m\u001b[0;32m    311\u001b[0m         \u001b[0mdistances\u001b[0m \u001b[1;33m+=\u001b[0m \u001b[0mXX\u001b[0m\u001b[1;33m\u001b[0m\u001b[1;33m\u001b[0m\u001b[0m\n\u001b[0;32m    312\u001b[0m         \u001b[0mdistances\u001b[0m \u001b[1;33m+=\u001b[0m \u001b[0mYY\u001b[0m\u001b[1;33m\u001b[0m\u001b[1;33m\u001b[0m\u001b[0m\n",
      "\u001b[1;32m~\\Anaconda3\\lib\\site-packages\\sklearn\\utils\\validation.py\u001b[0m in \u001b[0;36minner_f\u001b[1;34m(*args, **kwargs)\u001b[0m\n\u001b[0;32m     70\u001b[0m                           FutureWarning)\n\u001b[0;32m     71\u001b[0m         \u001b[0mkwargs\u001b[0m\u001b[1;33m.\u001b[0m\u001b[0mupdate\u001b[0m\u001b[1;33m(\u001b[0m\u001b[1;33m{\u001b[0m\u001b[0mk\u001b[0m\u001b[1;33m:\u001b[0m \u001b[0marg\u001b[0m \u001b[1;32mfor\u001b[0m \u001b[0mk\u001b[0m\u001b[1;33m,\u001b[0m \u001b[0marg\u001b[0m \u001b[1;32min\u001b[0m \u001b[0mzip\u001b[0m\u001b[1;33m(\u001b[0m\u001b[0msig\u001b[0m\u001b[1;33m.\u001b[0m\u001b[0mparameters\u001b[0m\u001b[1;33m,\u001b[0m \u001b[0margs\u001b[0m\u001b[1;33m)\u001b[0m\u001b[1;33m}\u001b[0m\u001b[1;33m)\u001b[0m\u001b[1;33m\u001b[0m\u001b[1;33m\u001b[0m\u001b[0m\n\u001b[1;32m---> 72\u001b[1;33m         \u001b[1;32mreturn\u001b[0m \u001b[0mf\u001b[0m\u001b[1;33m(\u001b[0m\u001b[1;33m**\u001b[0m\u001b[0mkwargs\u001b[0m\u001b[1;33m)\u001b[0m\u001b[1;33m\u001b[0m\u001b[1;33m\u001b[0m\u001b[0m\n\u001b[0m\u001b[0;32m     73\u001b[0m     \u001b[1;32mreturn\u001b[0m \u001b[0minner_f\u001b[0m\u001b[1;33m\u001b[0m\u001b[1;33m\u001b[0m\u001b[0m\n\u001b[0;32m     74\u001b[0m \u001b[1;33m\u001b[0m\u001b[0m\n",
      "\u001b[1;32m~\\Anaconda3\\lib\\site-packages\\sklearn\\utils\\extmath.py\u001b[0m in \u001b[0;36msafe_sparse_dot\u001b[1;34m(a, b, dense_output)\u001b[0m\n\u001b[0;32m    151\u001b[0m             \u001b[0mret\u001b[0m \u001b[1;33m=\u001b[0m \u001b[0mnp\u001b[0m\u001b[1;33m.\u001b[0m\u001b[0mdot\u001b[0m\u001b[1;33m(\u001b[0m\u001b[0ma\u001b[0m\u001b[1;33m,\u001b[0m \u001b[0mb\u001b[0m\u001b[1;33m)\u001b[0m\u001b[1;33m\u001b[0m\u001b[1;33m\u001b[0m\u001b[0m\n\u001b[0;32m    152\u001b[0m     \u001b[1;32melse\u001b[0m\u001b[1;33m:\u001b[0m\u001b[1;33m\u001b[0m\u001b[1;33m\u001b[0m\u001b[0m\n\u001b[1;32m--> 153\u001b[1;33m         \u001b[0mret\u001b[0m \u001b[1;33m=\u001b[0m \u001b[0ma\u001b[0m \u001b[1;33m@\u001b[0m \u001b[0mb\u001b[0m\u001b[1;33m\u001b[0m\u001b[1;33m\u001b[0m\u001b[0m\n\u001b[0m\u001b[0;32m    154\u001b[0m \u001b[1;33m\u001b[0m\u001b[0m\n\u001b[0;32m    155\u001b[0m     if (sparse.issparse(a) and sparse.issparse(b)\n",
      "\u001b[1;31mKeyboardInterrupt\u001b[0m: "
     ]
    }
   ],
   "source": [
    "for n in range(2, 9):\n",
    "    sisc_forward_selection(n, data_sample[numerical_features], 0)"
   ]
  },
  {
   "cell_type": "code",
   "execution_count": 126,
   "metadata": {},
   "outputs": [
    {
     "data": {
      "text/plain": [
       "4"
      ]
     },
     "execution_count": 126,
     "metadata": {},
     "output_type": "execute_result"
    },
    {
     "name": "stderr",
     "output_type": "stream",
     "text": [
      "8:1: E305 expected 2 blank lines after class or function definition, found 1\n"
     ]
    }
   ],
   "source": [
    "# feature combination\n",
    "def rSubset(arr, r):\n",
    "    # return list of all subsets of length r\n",
    "    # to deal with duplicate subsets use\n",
    "    # set(list(combinations(arr, r)))\n",
    "    return list(combinations(arr, r))\n",
    "\n",
    "test_list = ['effective_delivery_time',\n",
    "             'delivery_vs_estimated',\n",
    "             'total_price',\n",
    "             'freight_percentage']\n",
    "iterable = rSubset(test_list, 3)\n",
    "len(iterable)\n"
   ]
  },
  {
   "cell_type": "code",
   "execution_count": null,
   "metadata": {},
   "outputs": [],
   "source": []
  },
  {
   "cell_type": "code",
   "execution_count": 6,
   "metadata": {},
   "outputs": [],
   "source": [
    "# subset restriction (move to object dtypes)\n",
    "for i in ['order_purchase_year',\n",
    "          'order_purchase_month',\n",
    "          'order_purchase_day',\n",
    "          'order_purchase_dayofweek',\n",
    "          'order_purchase_hour',\n",
    "          'product_photos_qty',\n",
    "          'product_photos_qty_lvl',\n",
    "          'payment_sequence_size',\n",
    "          'payment_installments_size',\n",
    "          'charm_price',\n",
    "          'seller_sales_count',\n",
    "          'mean_seller_charm_price',\n",
    "          'product_sales_count',\n",
    "          'seller_lat',\n",
    "          'seller_lng',\n",
    "          'order_count',\n",
    "          'customer_lat',\n",
    "          'customer_lng',\n",
    "          'mean_seller_product_price',\n",
    "          'product_sales_count',\n",
    "          'product_review_count',\n",
    "          'customer_review_count']:\n",
    "    data[i] = data[i].astype('object')\n",
    "numerical_features = data.select_dtypes(include='number').columns"
   ]
  }
 ],
 "metadata": {
  "kernelspec": {
   "display_name": "Python 3",
   "language": "python",
   "name": "python3"
  },
  "language_info": {
   "codemirror_mode": {
    "name": "ipython",
    "version": 3
   },
   "file_extension": ".py",
   "mimetype": "text/x-python",
   "name": "python",
   "nbconvert_exporter": "python",
   "pygments_lexer": "ipython3",
   "version": "3.7.4"
  }
 },
 "nbformat": 4,
 "nbformat_minor": 2
}
