{
 "cells": [
  {
   "cell_type": "code",
   "execution_count": 1,
   "metadata": {},
   "outputs": [],
   "source": [
    "%load_ext pycodestyle_magic\n",
    "%flake8_on\n",
    "# la convention PEP8 est ainsi testée"
   ]
  },
  {
   "cell_type": "code",
   "execution_count": 2,
   "metadata": {
    "scrolled": true
   },
   "outputs": [
    {
     "name": "stderr",
     "output_type": "stream",
     "text": [
      "10:80: E501 line too long (98 > 79 characters)\n",
      "14:80: E501 line too long (92 > 79 characters)\n",
      "1: E999 SyntaxError: invalid syntax\n"
     ]
    }
   ],
   "source": [
    "# importer les packages\n",
    "# common\n",
    "import pandas as pd\n",
    "import numpy as np\n",
    "import math\n",
    "import matplotlib.pyplot as plt\n",
    "import seaborn as sns\n",
    "import plotly.graph_objects as go\n",
    "# ml\n",
    "from sklearn.preprocessing import StandardScaler, QuantileTransformer, LabelEncoder, OneHotEncoder\n",
    "from sklearn.decomposition import PCA\n",
    "from sklearn.decomposition import KernelPCA\n",
    "from sklearn.decomposition import FactorAnalysis\n",
    "from sklearn.compose import ColumnTransformer, make_column_transformer, make_column_selector\n",
    "from sklearn.pipeline import make_pipeline\n",
    "from sklearn.pipeline import Pipeline\n",
    "from sklearn.model_selection import GridSearchCV, ShuffleSplit\n",
    "from scipy.cluster.hierarchy import linkage, dendrogram, fcluster\n",
    "from sklearn.cluster import AgglomerativeClustering\n",
    "from sklearn.manifold import TSNE\n",
    "from sklearn.cluster import KMeans, DBSCAN\n",
    "from sklearn import metrics\n",
    "from sklearn.metrics import make_scorer\n",
    "from sklearn.metrics import davies_bouldin_score as dbsc\n",
    "from clusteval import clusteval\n",
    "from kmodes.kmodes import KModes\n",
    "# plot\n",
    "from matplotlib import cm\n",
    "from mpl_toolkits.mplot3d import Axes3D\n",
    "sns.set_style('whitegrid')\n",
    "%matplotlib inline"
   ]
  },
  {
   "cell_type": "code",
   "execution_count": 3,
   "metadata": {},
   "outputs": [
    {
     "data": {
      "text/plain": [
       "'0.23.2'"
      ]
     },
     "execution_count": 3,
     "metadata": {},
     "output_type": "execute_result"
    }
   ],
   "source": [
    "import sklearn\n",
    "sklearn.__version__"
   ]
  },
  {
   "cell_type": "code",
   "execution_count": 4,
   "metadata": {},
   "outputs": [],
   "source": [
    "# récupérer les données\n",
    "data = pd.read_csv('Data/data.csv')"
   ]
  },
  {
   "cell_type": "markdown",
   "metadata": {},
   "source": [
    "Attention si on veut conserver le feature customer_unique_id car il a disparu (nouvel index)"
   ]
  },
  {
   "cell_type": "code",
   "execution_count": 5,
   "metadata": {
    "scrolled": true
   },
   "outputs": [
    {
     "data": {
      "text/html": [
       "<div>\n",
       "<style scoped>\n",
       "    .dataframe tbody tr th:only-of-type {\n",
       "        vertical-align: middle;\n",
       "    }\n",
       "\n",
       "    .dataframe tbody tr th {\n",
       "        vertical-align: top;\n",
       "    }\n",
       "\n",
       "    .dataframe thead th {\n",
       "        text-align: right;\n",
       "    }\n",
       "</style>\n",
       "<table border=\"1\" class=\"dataframe\">\n",
       "  <thead>\n",
       "    <tr style=\"text-align: right;\">\n",
       "      <th></th>\n",
       "      <th>order_purchase_year</th>\n",
       "      <th>order_purchase_month</th>\n",
       "      <th>purchase_time_zone_cat</th>\n",
       "      <th>effective_delivery_time</th>\n",
       "      <th>delivery_vs_estimated</th>\n",
       "      <th>delivery_vs_estimated_lvl</th>\n",
       "      <th>items_qty</th>\n",
       "      <th>products_qty</th>\n",
       "      <th>total_price</th>\n",
       "      <th>freight_percentage</th>\n",
       "      <th>...</th>\n",
       "      <th>customer_state</th>\n",
       "      <th>cust_sell_dist</th>\n",
       "      <th>cust_sell_dist_lvl</th>\n",
       "      <th>review_answer_delay</th>\n",
       "      <th>review_answer_delay_lvl</th>\n",
       "      <th>product_review_mean</th>\n",
       "      <th>product_review_mean_lvl</th>\n",
       "      <th>customer_review_mean</th>\n",
       "      <th>review_gap</th>\n",
       "      <th>review_gap_lvl</th>\n",
       "    </tr>\n",
       "  </thead>\n",
       "  <tbody>\n",
       "    <tr>\n",
       "      <td>14519</td>\n",
       "      <td>2018</td>\n",
       "      <td>6</td>\n",
       "      <td>WE</td>\n",
       "      <td>5</td>\n",
       "      <td>26</td>\n",
       "      <td>Sooner_Delivery</td>\n",
       "      <td>single_item</td>\n",
       "      <td>single_product</td>\n",
       "      <td>79.9</td>\n",
       "      <td>19.819368</td>\n",
       "      <td>...</td>\n",
       "      <td>SP</td>\n",
       "      <td>829.801486</td>\n",
       "      <td>Far_Dist</td>\n",
       "      <td>0</td>\n",
       "      <td>Early_Answer</td>\n",
       "      <td>5.000000</td>\n",
       "      <td>Top_Score</td>\n",
       "      <td>5.0</td>\n",
       "      <td>0.000000</td>\n",
       "      <td>Same_Review</td>\n",
       "    </tr>\n",
       "    <tr>\n",
       "      <td>6300</td>\n",
       "      <td>2018</td>\n",
       "      <td>7</td>\n",
       "      <td>AM-WD</td>\n",
       "      <td>3</td>\n",
       "      <td>12</td>\n",
       "      <td>Nominal_Delivery</td>\n",
       "      <td>multi_items</td>\n",
       "      <td>single_product</td>\n",
       "      <td>106.4</td>\n",
       "      <td>20.774386</td>\n",
       "      <td>...</td>\n",
       "      <td>SP</td>\n",
       "      <td>221.321339</td>\n",
       "      <td>Near_Dist</td>\n",
       "      <td>3</td>\n",
       "      <td>Late_Answer</td>\n",
       "      <td>3.666667</td>\n",
       "      <td>Low_Score</td>\n",
       "      <td>5.0</td>\n",
       "      <td>1.333333</td>\n",
       "      <td>Better_Review</td>\n",
       "    </tr>\n",
       "    <tr>\n",
       "      <td>7001</td>\n",
       "      <td>2018</td>\n",
       "      <td>7</td>\n",
       "      <td>PM-WD</td>\n",
       "      <td>10</td>\n",
       "      <td>8</td>\n",
       "      <td>Later_Delivery</td>\n",
       "      <td>single_item</td>\n",
       "      <td>single_product</td>\n",
       "      <td>199.0</td>\n",
       "      <td>15.584966</td>\n",
       "      <td>...</td>\n",
       "      <td>SC</td>\n",
       "      <td>572.389783</td>\n",
       "      <td>AroundMed_Dist</td>\n",
       "      <td>0</td>\n",
       "      <td>Early_Answer</td>\n",
       "      <td>4.666667</td>\n",
       "      <td>Top_Score</td>\n",
       "      <td>5.0</td>\n",
       "      <td>0.333333</td>\n",
       "      <td>Better_Review</td>\n",
       "    </tr>\n",
       "  </tbody>\n",
       "</table>\n",
       "<p>3 rows × 38 columns</p>\n",
       "</div>"
      ],
      "text/plain": [
       "       order_purchase_year  order_purchase_month purchase_time_zone_cat  \\\n",
       "14519                 2018                     6                     WE   \n",
       "6300                  2018                     7                  AM-WD   \n",
       "7001                  2018                     7                  PM-WD   \n",
       "\n",
       "       effective_delivery_time  delivery_vs_estimated  \\\n",
       "14519                        5                     26   \n",
       "6300                         3                     12   \n",
       "7001                        10                      8   \n",
       "\n",
       "      delivery_vs_estimated_lvl    items_qty    products_qty  total_price  \\\n",
       "14519           Sooner_Delivery  single_item  single_product         79.9   \n",
       "6300           Nominal_Delivery  multi_items  single_product        106.4   \n",
       "7001             Later_Delivery  single_item  single_product        199.0   \n",
       "\n",
       "       freight_percentage  ... customer_state cust_sell_dist  \\\n",
       "14519           19.819368  ...             SP     829.801486   \n",
       "6300            20.774386  ...             SP     221.321339   \n",
       "7001            15.584966  ...             SC     572.389783   \n",
       "\n",
       "      cust_sell_dist_lvl  review_answer_delay  review_answer_delay_lvl  \\\n",
       "14519           Far_Dist                    0             Early_Answer   \n",
       "6300           Near_Dist                    3              Late_Answer   \n",
       "7001      AroundMed_Dist                    0             Early_Answer   \n",
       "\n",
       "       product_review_mean  product_review_mean_lvl  customer_review_mean  \\\n",
       "14519             5.000000                Top_Score                   5.0   \n",
       "6300              3.666667                Low_Score                   5.0   \n",
       "7001              4.666667                Top_Score                   5.0   \n",
       "\n",
       "       review_gap review_gap_lvl  \n",
       "14519    0.000000    Same_Review  \n",
       "6300     1.333333  Better_Review  \n",
       "7001     0.333333  Better_Review  \n",
       "\n",
       "[3 rows x 38 columns]"
      ]
     },
     "execution_count": 5,
     "metadata": {},
     "output_type": "execute_result"
    }
   ],
   "source": [
    "data.sample(3)"
   ]
  },
  {
   "cell_type": "code",
   "execution_count": 6,
   "metadata": {},
   "outputs": [],
   "source": [
    "# répartition des ventes par catégorie de produit\n",
    "df_sales_categ = data.groupby(\n",
    "    'product_cat',\n",
    "    as_index=False).agg({'total_price': ['sum']})\n",
    "df_sales_categ.columns = ['product_cat',\n",
    "                          'sales']\n",
    "df_sales_categ = df_sales_categ.sort_values(by=['sales'],\n",
    "                                            ascending=False)\n"
   ]
  },
  {
   "cell_type": "code",
   "execution_count": 7,
   "metadata": {},
   "outputs": [
    {
     "data": {
      "text/html": [
       "<div>\n",
       "<style scoped>\n",
       "    .dataframe tbody tr th:only-of-type {\n",
       "        vertical-align: middle;\n",
       "    }\n",
       "\n",
       "    .dataframe tbody tr th {\n",
       "        vertical-align: top;\n",
       "    }\n",
       "\n",
       "    .dataframe thead th {\n",
       "        text-align: right;\n",
       "    }\n",
       "</style>\n",
       "<table border=\"1\" class=\"dataframe\">\n",
       "  <thead>\n",
       "    <tr style=\"text-align: right;\">\n",
       "      <th></th>\n",
       "      <th>product_cat</th>\n",
       "      <th>sales</th>\n",
       "    </tr>\n",
       "  </thead>\n",
       "  <tbody>\n",
       "    <tr>\n",
       "      <td>0</td>\n",
       "      <td>Auto</td>\n",
       "      <td>525320.20</td>\n",
       "    </tr>\n",
       "    <tr>\n",
       "      <td>1</td>\n",
       "      <td>Construction &amp; Tools</td>\n",
       "      <td>738532.93</td>\n",
       "    </tr>\n",
       "    <tr>\n",
       "      <td>2</td>\n",
       "      <td>Corporate</td>\n",
       "      <td>142441.11</td>\n",
       "    </tr>\n",
       "    <tr>\n",
       "      <td>3</td>\n",
       "      <td>Electronics Computers &amp; Accessories</td>\n",
       "      <td>1149637.73</td>\n",
       "    </tr>\n",
       "    <tr>\n",
       "      <td>4</td>\n",
       "      <td>Entertainement</td>\n",
       "      <td>457758.16</td>\n",
       "    </tr>\n",
       "    <tr>\n",
       "      <td>5</td>\n",
       "      <td>Fashion</td>\n",
       "      <td>294877.82</td>\n",
       "    </tr>\n",
       "    <tr>\n",
       "      <td>6</td>\n",
       "      <td>Food Drink &amp; Pets</td>\n",
       "      <td>251918.07</td>\n",
       "    </tr>\n",
       "    <tr>\n",
       "      <td>7</td>\n",
       "      <td>Furniture</td>\n",
       "      <td>946629.74</td>\n",
       "    </tr>\n",
       "    <tr>\n",
       "      <td>8</td>\n",
       "      <td>Health Beauty Baby</td>\n",
       "      <td>1856578.31</td>\n",
       "    </tr>\n",
       "    <tr>\n",
       "      <td>9</td>\n",
       "      <td>Home Accessories</td>\n",
       "      <td>882485.06</td>\n",
       "    </tr>\n",
       "    <tr>\n",
       "      <td>10</td>\n",
       "      <td>Home Appliances</td>\n",
       "      <td>998317.08</td>\n",
       "    </tr>\n",
       "    <tr>\n",
       "      <td>11</td>\n",
       "      <td>Sports Leisure</td>\n",
       "      <td>863251.93</td>\n",
       "    </tr>\n",
       "    <tr>\n",
       "      <td>12</td>\n",
       "      <td>Supplies</td>\n",
       "      <td>783549.03</td>\n",
       "    </tr>\n",
       "    <tr>\n",
       "      <td>13</td>\n",
       "      <td>Telephony</td>\n",
       "      <td>336773.05</td>\n",
       "    </tr>\n",
       "    <tr>\n",
       "      <td>14</td>\n",
       "      <td>Watches Gifts Toys</td>\n",
       "      <td>1501406.39</td>\n",
       "    </tr>\n",
       "  </tbody>\n",
       "</table>\n",
       "</div>"
      ],
      "text/plain": [
       "                            product_cat       sales\n",
       "0                                  Auto   525320.20\n",
       "1                  Construction & Tools   738532.93\n",
       "2                             Corporate   142441.11\n",
       "3   Electronics Computers & Accessories  1149637.73\n",
       "4                        Entertainement   457758.16\n",
       "5                               Fashion   294877.82\n",
       "6                     Food Drink & Pets   251918.07\n",
       "7                             Furniture   946629.74\n",
       "8                    Health Beauty Baby  1856578.31\n",
       "9                      Home Accessories   882485.06\n",
       "10                      Home Appliances   998317.08\n",
       "11                       Sports Leisure   863251.93\n",
       "12                             Supplies   783549.03\n",
       "13                            Telephony   336773.05\n",
       "14                   Watches Gifts Toys  1501406.39"
      ]
     },
     "execution_count": 7,
     "metadata": {},
     "output_type": "execute_result"
    }
   ],
   "source": [
    "df_sales_categ.reindex(np.arange(len(df_sales_categ.index)))"
   ]
  },
  {
   "cell_type": "code",
   "execution_count": 8,
   "metadata": {},
   "outputs": [
    {
     "data": {
      "text/plain": [
       "[Text(0, 0.5, 'Products Categories'),\n",
       " Text(0.5, 0, 'Sales Revenue'),\n",
       " Text(0.5, 1.0, 'Sales by Category')]"
      ]
     },
     "execution_count": 8,
     "metadata": {},
     "output_type": "execute_result"
    },
    {
     "data": {
      "image/png": "[encoded data removed]",
      "text/plain": [
       "<Figure size 360x720 with 1 Axes>"
      ]
     },
     "metadata": {
      "needs_background": "light"
     },
     "output_type": "display_data"
    },
    {
     "name": "stderr",
     "output_type": "stream",
     "text": [
      "5:80: E501 line too long (80 > 79 characters)\n"
     ]
    }
   ],
   "source": [
    "fig, ax = plt.subplots(figsize=(5, 10))\n",
    "ax = sns.barplot(y='product_cat',\n",
    "                 x='sales',\n",
    "                 color='Steelblue',\n",
    "                 data=df_sales_categ.sort_values(by=['sales'], ascending=False))\n",
    "ax.set(xlabel='Sales Revenue',\n",
    "       ylabel='Products Categories',\n",
    "       title='Sales by Category')"
   ]
  },
  {
   "cell_type": "code",
   "execution_count": 9,
   "metadata": {},
   "outputs": [
    {
     "data": {
      "text/plain": [
       "Index(['order_purchase_year', 'order_purchase_month',\n",
       "       'effective_delivery_time', 'delivery_vs_estimated', 'total_price',\n",
       "       'freight_percentage', 'product_name_length',\n",
       "       'product_description_length', 'product_photos_qty', 'product_weight_g',\n",
       "       'product_size', 'product_photos_qty_lvl', 'payment_sequence_size',\n",
       "       'payment_installments_size', 'cust_sell_dist', 'review_answer_delay',\n",
       "       'product_review_mean', 'customer_review_mean', 'review_gap'],\n",
       "      dtype='object')"
      ]
     },
     "execution_count": 9,
     "metadata": {},
     "output_type": "execute_result"
    }
   ],
   "source": [
    "# vérifier les colonnes numériques\n",
    "data.select_dtypes(include='number').columns"
   ]
  },
  {
   "cell_type": "code",
   "execution_count": 10,
   "metadata": {},
   "outputs": [],
   "source": [
    "# sortie du type number mois et année - pour découpages temporels\n",
    "for i in ['order_purchase_year',\n",
    "          'order_purchase_month']:\n",
    "    data[i] = data[i].astype('object')"
   ]
  },
  {
   "cell_type": "code",
   "execution_count": 11,
   "metadata": {},
   "outputs": [],
   "source": [
    "lvl_features = data.columns[data.columns.str.contains('_lvl')].tolist()"
   ]
  },
  {
   "cell_type": "code",
   "execution_count": 12,
   "metadata": {},
   "outputs": [],
   "source": [
    "# ranger en catégoriel\n",
    "for i in lvl_features:\n",
    "    data[i] = data[i].astype('category')"
   ]
  },
  {
   "cell_type": "code",
   "execution_count": 13,
   "metadata": {},
   "outputs": [],
   "source": [
    "# features catégoriels\n",
    "cat_features = data.columns[data.columns.str.contains('_cat')].tolist()"
   ]
  },
  {
   "cell_type": "code",
   "execution_count": 14,
   "metadata": {},
   "outputs": [],
   "source": [
    "# ranger en catégoriel\n",
    "for i in cat_features:\n",
    "    data[i] = data[i].astype('category')"
   ]
  },
  {
   "cell_type": "code",
   "execution_count": 15,
   "metadata": {},
   "outputs": [
    {
     "data": {
      "text/plain": [
       "15"
      ]
     },
     "execution_count": 15,
     "metadata": {},
     "output_type": "execute_result"
    }
   ],
   "source": [
    "data.select_dtypes(include='category').columns.size"
   ]
  },
  {
   "cell_type": "code",
   "execution_count": 16,
   "metadata": {},
   "outputs": [],
   "source": [
    "numerical_features = data.select_dtypes(include='number').columns"
   ]
  },
  {
   "cell_type": "code",
   "execution_count": 17,
   "metadata": {},
   "outputs": [],
   "source": [
    "categorical_features = data.select_dtypes(include='category').columns"
   ]
  },
  {
   "cell_type": "code",
   "execution_count": 18,
   "metadata": {},
   "outputs": [],
   "source": [
    "numerical_pipeline = Pipeline(steps=[\n",
    "    ('rankgauss', QuantileTransformer(n_quantiles=100,\n",
    "                                      random_state=1111,\n",
    "                                      output_distribution='normal'))])\n",
    "categorical_pipeline = Pipeline(steps=[\n",
    "    ('onehot', OneHotEncoder(handle_unknown='ignore'))])"
   ]
  },
  {
   "cell_type": "code",
   "execution_count": 19,
   "metadata": {},
   "outputs": [],
   "source": [
    "# step de transformation selon la nature des features\n",
    "mytransformer = ColumnTransformer(\n",
    "    transformers=[\n",
    "        ('num', numerical_pipeline, numerical_features),\n",
    "        ('cat', categorical_pipeline, categorical_features)])\n"
   ]
  },
  {
   "cell_type": "code",
   "execution_count": 20,
   "metadata": {},
   "outputs": [],
   "source": [
    "myclusterer = Pipeline(\n",
    "    [\n",
    "        (\n",
    "            'hclust',\n",
    "            AgglomerativeClustering(n_clusters=3)\n",
    "        ),\n",
    "    ])"
   ]
  },
  {
   "cell_type": "code",
   "execution_count": 21,
   "metadata": {},
   "outputs": [],
   "source": [
    "# définition du pipe 2 steps\n",
    "mypipe = Pipeline(steps=[('transformer', mytransformer),\n",
    "                         ('clusterer', myclusterer)])"
   ]
  },
  {
   "cell_type": "code",
   "execution_count": 22,
   "metadata": {},
   "outputs": [],
   "source": [
    "data = data.select_dtypes(include=['number', 'category'])"
   ]
  },
  {
   "cell_type": "code",
   "execution_count": 23,
   "metadata": {},
   "outputs": [
    {
     "data": {
      "text/html": [
       "<div>\n",
       "<style scoped>\n",
       "    .dataframe tbody tr th:only-of-type {\n",
       "        vertical-align: middle;\n",
       "    }\n",
       "\n",
       "    .dataframe tbody tr th {\n",
       "        vertical-align: top;\n",
       "    }\n",
       "\n",
       "    .dataframe thead th {\n",
       "        text-align: right;\n",
       "    }\n",
       "</style>\n",
       "<table border=\"1\" class=\"dataframe\">\n",
       "  <thead>\n",
       "    <tr style=\"text-align: right;\">\n",
       "      <th></th>\n",
       "      <th>purchase_time_zone_cat</th>\n",
       "      <th>effective_delivery_time</th>\n",
       "      <th>delivery_vs_estimated</th>\n",
       "      <th>delivery_vs_estimated_lvl</th>\n",
       "      <th>total_price</th>\n",
       "      <th>freight_percentage</th>\n",
       "      <th>freight_percentage_lvl</th>\n",
       "      <th>total_price_lvl</th>\n",
       "      <th>charmed_price_cat</th>\n",
       "      <th>product_name_length</th>\n",
       "      <th>...</th>\n",
       "      <th>payment_lvl</th>\n",
       "      <th>cust_sell_dist</th>\n",
       "      <th>cust_sell_dist_lvl</th>\n",
       "      <th>review_answer_delay</th>\n",
       "      <th>review_answer_delay_lvl</th>\n",
       "      <th>product_review_mean</th>\n",
       "      <th>product_review_mean_lvl</th>\n",
       "      <th>customer_review_mean</th>\n",
       "      <th>review_gap</th>\n",
       "      <th>review_gap_lvl</th>\n",
       "    </tr>\n",
       "  </thead>\n",
       "  <tbody>\n",
       "    <tr>\n",
       "      <td>54821</td>\n",
       "      <td>Night</td>\n",
       "      <td>31</td>\n",
       "      <td>-2</td>\n",
       "      <td>Later_Delivery</td>\n",
       "      <td>84.99</td>\n",
       "      <td>24.197289</td>\n",
       "      <td>High_FreightCost</td>\n",
       "      <td>D</td>\n",
       "      <td>Charmed_Price</td>\n",
       "      <td>49.0</td>\n",
       "      <td>...</td>\n",
       "      <td>OverMed_Payment</td>\n",
       "      <td>1982.940762</td>\n",
       "      <td>Far_Dist</td>\n",
       "      <td>0</td>\n",
       "      <td>Early_Answer</td>\n",
       "      <td>3.863248</td>\n",
       "      <td>Low_Score</td>\n",
       "      <td>5.0</td>\n",
       "      <td>1.136752</td>\n",
       "      <td>Better_Review</td>\n",
       "    </tr>\n",
       "    <tr>\n",
       "      <td>5670</td>\n",
       "      <td>AM-WD</td>\n",
       "      <td>5</td>\n",
       "      <td>6</td>\n",
       "      <td>Later_Delivery</td>\n",
       "      <td>27.90</td>\n",
       "      <td>31.550540</td>\n",
       "      <td>High_FreightCost</td>\n",
       "      <td>C</td>\n",
       "      <td>Charmed_Price</td>\n",
       "      <td>59.0</td>\n",
       "      <td>...</td>\n",
       "      <td>Light_Payment</td>\n",
       "      <td>250.711247</td>\n",
       "      <td>Near_Dist</td>\n",
       "      <td>1</td>\n",
       "      <td>Early_Answer</td>\n",
       "      <td>4.016949</td>\n",
       "      <td>Medium_Score</td>\n",
       "      <td>5.0</td>\n",
       "      <td>0.983051</td>\n",
       "      <td>Better_Review</td>\n",
       "    </tr>\n",
       "    <tr>\n",
       "      <td>4822</td>\n",
       "      <td>WE</td>\n",
       "      <td>3</td>\n",
       "      <td>7</td>\n",
       "      <td>Later_Delivery</td>\n",
       "      <td>107.90</td>\n",
       "      <td>12.255022</td>\n",
       "      <td>Low_FreightCost</td>\n",
       "      <td>E</td>\n",
       "      <td>Charmed_Price</td>\n",
       "      <td>57.0</td>\n",
       "      <td>...</td>\n",
       "      <td>OverMed_Payment</td>\n",
       "      <td>426.989481</td>\n",
       "      <td>AroundMed_Dist</td>\n",
       "      <td>0</td>\n",
       "      <td>Early_Answer</td>\n",
       "      <td>4.611111</td>\n",
       "      <td>Top_Score</td>\n",
       "      <td>5.0</td>\n",
       "      <td>0.388889</td>\n",
       "      <td>Better_Review</td>\n",
       "    </tr>\n",
       "  </tbody>\n",
       "</table>\n",
       "<p>3 rows × 31 columns</p>\n",
       "</div>"
      ],
      "text/plain": [
       "      purchase_time_zone_cat  effective_delivery_time  delivery_vs_estimated  \\\n",
       "54821                  Night                       31                     -2   \n",
       "5670                   AM-WD                        5                      6   \n",
       "4822                      WE                        3                      7   \n",
       "\n",
       "      delivery_vs_estimated_lvl  total_price  freight_percentage  \\\n",
       "54821            Later_Delivery        84.99           24.197289   \n",
       "5670             Later_Delivery        27.90           31.550540   \n",
       "4822             Later_Delivery       107.90           12.255022   \n",
       "\n",
       "      freight_percentage_lvl total_price_lvl charmed_price_cat  \\\n",
       "54821       High_FreightCost               D     Charmed_Price   \n",
       "5670        High_FreightCost               C     Charmed_Price   \n",
       "4822         Low_FreightCost               E     Charmed_Price   \n",
       "\n",
       "       product_name_length  ...      payment_lvl  cust_sell_dist  \\\n",
       "54821                 49.0  ...  OverMed_Payment     1982.940762   \n",
       "5670                  59.0  ...    Light_Payment      250.711247   \n",
       "4822                  57.0  ...  OverMed_Payment      426.989481   \n",
       "\n",
       "       cust_sell_dist_lvl  review_answer_delay review_answer_delay_lvl  \\\n",
       "54821            Far_Dist                    0            Early_Answer   \n",
       "5670            Near_Dist                    1            Early_Answer   \n",
       "4822       AroundMed_Dist                    0            Early_Answer   \n",
       "\n",
       "      product_review_mean  product_review_mean_lvl  customer_review_mean  \\\n",
       "54821            3.863248                Low_Score                   5.0   \n",
       "5670             4.016949             Medium_Score                   5.0   \n",
       "4822             4.611111                Top_Score                   5.0   \n",
       "\n",
       "      review_gap review_gap_lvl  \n",
       "54821   1.136752  Better_Review  \n",
       "5670    0.983051  Better_Review  \n",
       "4822    0.388889  Better_Review  \n",
       "\n",
       "[3 rows x 31 columns]"
      ]
     },
     "execution_count": 23,
     "metadata": {},
     "output_type": "execute_result"
    }
   ],
   "source": [
    "data.sample(3)"
   ]
  },
  {
   "cell_type": "code",
   "execution_count": 24,
   "metadata": {},
   "outputs": [
    {
     "data": {
      "text/plain": [
       "(8708, 31)"
      ]
     },
     "execution_count": 24,
     "metadata": {},
     "output_type": "execute_result"
    }
   ],
   "source": [
    "# echantillonnage (10%)\n",
    "data_sample = pd.DataFrame(data).sample(\n",
    "    int(data.shape[0]/10),\n",
    "    random_state=42)\n",
    "data_sample.shape"
   ]
  },
  {
   "cell_type": "code",
   "execution_count": 25,
   "metadata": {
    "scrolled": true
   },
   "outputs": [
    {
     "data": {
      "text/plain": [
       "Pipeline(steps=[('transformer',\n",
       "                 ColumnTransformer(transformers=[('num',\n",
       "                                                  Pipeline(steps=[('rankgauss',\n",
       "                                                                   QuantileTransformer(n_quantiles=100,\n",
       "                                                                                       output_distribution='normal',\n",
       "                                                                                       random_state=1111))]),\n",
       "                                                  Index(['effective_delivery_time', 'delivery_vs_estimated', 'total_price',\n",
       "       'freight_percentage', 'product_name_length',\n",
       "       'product_description_length', 'product_photos_qty',...\n",
       "       'freight_percentage_lvl', 'total_price_lvl', 'charmed_price_cat',\n",
       "       'product_photos_qty_lvl', 'product_cat', 'payment_sequence_size_cat',\n",
       "       'payment_installment_size_cat', 'main_payment_type_cat', 'payment_lvl',\n",
       "       'cust_sell_dist_lvl', 'review_answer_delay_lvl',\n",
       "       'product_review_mean_lvl', 'review_gap_lvl'],\n",
       "      dtype='object'))])),\n",
       "                ('clusterer',\n",
       "                 Pipeline(steps=[('hclust',\n",
       "                                  AgglomerativeClustering(n_clusters=3))]))])"
      ]
     },
     "execution_count": 25,
     "metadata": {},
     "output_type": "execute_result"
    }
   ],
   "source": [
    "mypipe.fit(data_sample)"
   ]
  },
  {
   "cell_type": "code",
   "execution_count": 26,
   "metadata": {},
   "outputs": [],
   "source": [
    "preprocessed_data = pd.DataFrame(mypipe['transformer'].transform(data_sample))"
   ]
  },
  {
   "cell_type": "code",
   "execution_count": 27,
   "metadata": {
    "scrolled": true
   },
   "outputs": [
    {
     "data": {
      "text/html": [
       "<div>\n",
       "<style scoped>\n",
       "    .dataframe tbody tr th:only-of-type {\n",
       "        vertical-align: middle;\n",
       "    }\n",
       "\n",
       "    .dataframe tbody tr th {\n",
       "        vertical-align: top;\n",
       "    }\n",
       "\n",
       "    .dataframe thead th {\n",
       "        text-align: right;\n",
       "    }\n",
       "</style>\n",
       "<table border=\"1\" class=\"dataframe\">\n",
       "  <thead>\n",
       "    <tr style=\"text-align: right;\">\n",
       "      <th></th>\n",
       "      <th>0</th>\n",
       "      <th>1</th>\n",
       "      <th>2</th>\n",
       "      <th>3</th>\n",
       "      <th>4</th>\n",
       "      <th>5</th>\n",
       "      <th>6</th>\n",
       "      <th>7</th>\n",
       "      <th>8</th>\n",
       "      <th>9</th>\n",
       "      <th>...</th>\n",
       "      <th>70</th>\n",
       "      <th>71</th>\n",
       "      <th>72</th>\n",
       "      <th>73</th>\n",
       "      <th>74</th>\n",
       "      <th>75</th>\n",
       "      <th>76</th>\n",
       "      <th>77</th>\n",
       "      <th>78</th>\n",
       "      <th>79</th>\n",
       "    </tr>\n",
       "  </thead>\n",
       "  <tbody>\n",
       "    <tr>\n",
       "      <td>0</td>\n",
       "      <td>-0.101452</td>\n",
       "      <td>-0.430727</td>\n",
       "      <td>-1.813516</td>\n",
       "      <td>1.500455</td>\n",
       "      <td>-0.444660</td>\n",
       "      <td>-1.853604</td>\n",
       "      <td>-5.199338</td>\n",
       "      <td>-0.816627</td>\n",
       "      <td>-0.216904</td>\n",
       "      <td>-5.199338</td>\n",
       "      <td>...</td>\n",
       "      <td>1.0</td>\n",
       "      <td>1.0</td>\n",
       "      <td>0.0</td>\n",
       "      <td>0.0</td>\n",
       "      <td>0.0</td>\n",
       "      <td>0.0</td>\n",
       "      <td>1.0</td>\n",
       "      <td>0.0</td>\n",
       "      <td>0.0</td>\n",
       "      <td>1.0</td>\n",
       "    </tr>\n",
       "    <tr>\n",
       "      <td>1</td>\n",
       "      <td>-0.101452</td>\n",
       "      <td>-0.295415</td>\n",
       "      <td>-1.388485</td>\n",
       "      <td>1.394822</td>\n",
       "      <td>-2.124001</td>\n",
       "      <td>0.239615</td>\n",
       "      <td>0.242903</td>\n",
       "      <td>-1.029957</td>\n",
       "      <td>-0.870846</td>\n",
       "      <td>-5.199338</td>\n",
       "      <td>...</td>\n",
       "      <td>0.0</td>\n",
       "      <td>1.0</td>\n",
       "      <td>0.0</td>\n",
       "      <td>0.0</td>\n",
       "      <td>0.0</td>\n",
       "      <td>1.0</td>\n",
       "      <td>0.0</td>\n",
       "      <td>0.0</td>\n",
       "      <td>0.0</td>\n",
       "      <td>1.0</td>\n",
       "    </tr>\n",
       "    <tr>\n",
       "      <td>2</td>\n",
       "      <td>-0.472789</td>\n",
       "      <td>-0.037988</td>\n",
       "      <td>-1.875627</td>\n",
       "      <td>1.582400</td>\n",
       "      <td>-0.714776</td>\n",
       "      <td>-2.186911</td>\n",
       "      <td>-5.199338</td>\n",
       "      <td>-1.399657</td>\n",
       "      <td>-1.335178</td>\n",
       "      <td>-5.199338</td>\n",
       "      <td>...</td>\n",
       "      <td>1.0</td>\n",
       "      <td>1.0</td>\n",
       "      <td>0.0</td>\n",
       "      <td>0.0</td>\n",
       "      <td>1.0</td>\n",
       "      <td>0.0</td>\n",
       "      <td>0.0</td>\n",
       "      <td>0.0</td>\n",
       "      <td>0.0</td>\n",
       "      <td>1.0</td>\n",
       "    </tr>\n",
       "    <tr>\n",
       "      <td>3</td>\n",
       "      <td>0.037988</td>\n",
       "      <td>1.304923</td>\n",
       "      <td>1.470791</td>\n",
       "      <td>-0.792516</td>\n",
       "      <td>1.639976</td>\n",
       "      <td>1.949289</td>\n",
       "      <td>1.746017</td>\n",
       "      <td>-0.389414</td>\n",
       "      <td>-0.620878</td>\n",
       "      <td>-5.199338</td>\n",
       "      <td>...</td>\n",
       "      <td>0.0</td>\n",
       "      <td>0.0</td>\n",
       "      <td>1.0</td>\n",
       "      <td>0.0</td>\n",
       "      <td>0.0</td>\n",
       "      <td>1.0</td>\n",
       "      <td>0.0</td>\n",
       "      <td>1.0</td>\n",
       "      <td>0.0</td>\n",
       "      <td>0.0</td>\n",
       "    </tr>\n",
       "    <tr>\n",
       "      <td>4</td>\n",
       "      <td>-0.101452</td>\n",
       "      <td>0.269066</td>\n",
       "      <td>-0.904656</td>\n",
       "      <td>0.824918</td>\n",
       "      <td>-0.515705</td>\n",
       "      <td>-0.191052</td>\n",
       "      <td>0.698526</td>\n",
       "      <td>-0.101452</td>\n",
       "      <td>-0.257998</td>\n",
       "      <td>-5.199338</td>\n",
       "      <td>...</td>\n",
       "      <td>1.0</td>\n",
       "      <td>0.0</td>\n",
       "      <td>0.0</td>\n",
       "      <td>1.0</td>\n",
       "      <td>1.0</td>\n",
       "      <td>0.0</td>\n",
       "      <td>0.0</td>\n",
       "      <td>1.0</td>\n",
       "      <td>0.0</td>\n",
       "      <td>0.0</td>\n",
       "    </tr>\n",
       "    <tr>\n",
       "      <td>...</td>\n",
       "      <td>...</td>\n",
       "      <td>...</td>\n",
       "      <td>...</td>\n",
       "      <td>...</td>\n",
       "      <td>...</td>\n",
       "      <td>...</td>\n",
       "      <td>...</td>\n",
       "      <td>...</td>\n",
       "      <td>...</td>\n",
       "      <td>...</td>\n",
       "      <td>...</td>\n",
       "      <td>...</td>\n",
       "      <td>...</td>\n",
       "      <td>...</td>\n",
       "      <td>...</td>\n",
       "      <td>...</td>\n",
       "      <td>...</td>\n",
       "      <td>...</td>\n",
       "      <td>...</td>\n",
       "      <td>...</td>\n",
       "      <td>...</td>\n",
       "    </tr>\n",
       "    <tr>\n",
       "      <td>8703</td>\n",
       "      <td>-0.472789</td>\n",
       "      <td>0.698526</td>\n",
       "      <td>0.338341</td>\n",
       "      <td>-0.799078</td>\n",
       "      <td>-0.515705</td>\n",
       "      <td>2.082834</td>\n",
       "      <td>-5.199338</td>\n",
       "      <td>0.559592</td>\n",
       "      <td>0.413694</td>\n",
       "      <td>2.166107</td>\n",
       "      <td>...</td>\n",
       "      <td>1.0</td>\n",
       "      <td>1.0</td>\n",
       "      <td>0.0</td>\n",
       "      <td>0.0</td>\n",
       "      <td>0.0</td>\n",
       "      <td>1.0</td>\n",
       "      <td>0.0</td>\n",
       "      <td>1.0</td>\n",
       "      <td>0.0</td>\n",
       "      <td>0.0</td>\n",
       "    </tr>\n",
       "    <tr>\n",
       "      <td>8704</td>\n",
       "      <td>-5.199338</td>\n",
       "      <td>-1.194396</td>\n",
       "      <td>-0.003122</td>\n",
       "      <td>-0.931965</td>\n",
       "      <td>-1.470545</td>\n",
       "      <td>1.120205</td>\n",
       "      <td>-5.199338</td>\n",
       "      <td>-0.556539</td>\n",
       "      <td>-0.216904</td>\n",
       "      <td>-5.199338</td>\n",
       "      <td>...</td>\n",
       "      <td>1.0</td>\n",
       "      <td>0.0</td>\n",
       "      <td>1.0</td>\n",
       "      <td>0.0</td>\n",
       "      <td>0.0</td>\n",
       "      <td>0.0</td>\n",
       "      <td>1.0</td>\n",
       "      <td>1.0</td>\n",
       "      <td>0.0</td>\n",
       "      <td>0.0</td>\n",
       "    </tr>\n",
       "    <tr>\n",
       "      <td>8705</td>\n",
       "      <td>-1.508944</td>\n",
       "      <td>-0.889495</td>\n",
       "      <td>-1.168949</td>\n",
       "      <td>0.312632</td>\n",
       "      <td>1.144237</td>\n",
       "      <td>0.694612</td>\n",
       "      <td>-5.199338</td>\n",
       "      <td>-1.399657</td>\n",
       "      <td>-0.661596</td>\n",
       "      <td>-5.199338</td>\n",
       "      <td>...</td>\n",
       "      <td>1.0</td>\n",
       "      <td>1.0</td>\n",
       "      <td>0.0</td>\n",
       "      <td>0.0</td>\n",
       "      <td>0.0</td>\n",
       "      <td>1.0</td>\n",
       "      <td>0.0</td>\n",
       "      <td>1.0</td>\n",
       "      <td>0.0</td>\n",
       "      <td>0.0</td>\n",
       "    </tr>\n",
       "    <tr>\n",
       "      <td>8706</td>\n",
       "      <td>-0.967422</td>\n",
       "      <td>0.269066</td>\n",
       "      <td>0.604585</td>\n",
       "      <td>-0.988736</td>\n",
       "      <td>0.025322</td>\n",
       "      <td>-1.571091</td>\n",
       "      <td>-5.199338</td>\n",
       "      <td>0.698526</td>\n",
       "      <td>0.349714</td>\n",
       "      <td>-5.199338</td>\n",
       "      <td>...</td>\n",
       "      <td>1.0</td>\n",
       "      <td>0.0</td>\n",
       "      <td>1.0</td>\n",
       "      <td>0.0</td>\n",
       "      <td>1.0</td>\n",
       "      <td>0.0</td>\n",
       "      <td>0.0</td>\n",
       "      <td>1.0</td>\n",
       "      <td>0.0</td>\n",
       "      <td>0.0</td>\n",
       "    </tr>\n",
       "    <tr>\n",
       "      <td>8707</td>\n",
       "      <td>1.470545</td>\n",
       "      <td>-1.194396</td>\n",
       "      <td>-2.422925</td>\n",
       "      <td>2.359646</td>\n",
       "      <td>-0.515705</td>\n",
       "      <td>-1.955661</td>\n",
       "      <td>-5.199338</td>\n",
       "      <td>-1.029957</td>\n",
       "      <td>-1.574725</td>\n",
       "      <td>-5.199338</td>\n",
       "      <td>...</td>\n",
       "      <td>0.0</td>\n",
       "      <td>0.0</td>\n",
       "      <td>0.0</td>\n",
       "      <td>1.0</td>\n",
       "      <td>0.0</td>\n",
       "      <td>1.0</td>\n",
       "      <td>0.0</td>\n",
       "      <td>0.0</td>\n",
       "      <td>0.0</td>\n",
       "      <td>1.0</td>\n",
       "    </tr>\n",
       "  </tbody>\n",
       "</table>\n",
       "<p>8708 rows × 80 columns</p>\n",
       "</div>"
      ],
      "text/plain": [
       "            0         1         2         3         4         5         6   \\\n",
       "0    -0.101452 -0.430727 -1.813516  1.500455 -0.444660 -1.853604 -5.199338   \n",
       "1    -0.101452 -0.295415 -1.388485  1.394822 -2.124001  0.239615  0.242903   \n",
       "2    -0.472789 -0.037988 -1.875627  1.582400 -0.714776 -2.186911 -5.199338   \n",
       "3     0.037988  1.304923  1.470791 -0.792516  1.639976  1.949289  1.746017   \n",
       "4    -0.101452  0.269066 -0.904656  0.824918 -0.515705 -0.191052  0.698526   \n",
       "...        ...       ...       ...       ...       ...       ...       ...   \n",
       "8703 -0.472789  0.698526  0.338341 -0.799078 -0.515705  2.082834 -5.199338   \n",
       "8704 -5.199338 -1.194396 -0.003122 -0.931965 -1.470545  1.120205 -5.199338   \n",
       "8705 -1.508944 -0.889495 -1.168949  0.312632  1.144237  0.694612 -5.199338   \n",
       "8706 -0.967422  0.269066  0.604585 -0.988736  0.025322 -1.571091 -5.199338   \n",
       "8707  1.470545 -1.194396 -2.422925  2.359646 -0.515705 -1.955661 -5.199338   \n",
       "\n",
       "            7         8         9   ...   70   71   72   73   74   75   76  \\\n",
       "0    -0.816627 -0.216904 -5.199338  ...  1.0  1.0  0.0  0.0  0.0  0.0  1.0   \n",
       "1    -1.029957 -0.870846 -5.199338  ...  0.0  1.0  0.0  0.0  0.0  1.0  0.0   \n",
       "2    -1.399657 -1.335178 -5.199338  ...  1.0  1.0  0.0  0.0  1.0  0.0  0.0   \n",
       "3    -0.389414 -0.620878 -5.199338  ...  0.0  0.0  1.0  0.0  0.0  1.0  0.0   \n",
       "4    -0.101452 -0.257998 -5.199338  ...  1.0  0.0  0.0  1.0  1.0  0.0  0.0   \n",
       "...        ...       ...       ...  ...  ...  ...  ...  ...  ...  ...  ...   \n",
       "8703  0.559592  0.413694  2.166107  ...  1.0  1.0  0.0  0.0  0.0  1.0  0.0   \n",
       "8704 -0.556539 -0.216904 -5.199338  ...  1.0  0.0  1.0  0.0  0.0  0.0  1.0   \n",
       "8705 -1.399657 -0.661596 -5.199338  ...  1.0  1.0  0.0  0.0  0.0  1.0  0.0   \n",
       "8706  0.698526  0.349714 -5.199338  ...  1.0  0.0  1.0  0.0  1.0  0.0  0.0   \n",
       "8707 -1.029957 -1.574725 -5.199338  ...  0.0  0.0  0.0  1.0  0.0  1.0  0.0   \n",
       "\n",
       "       77   78   79  \n",
       "0     0.0  0.0  1.0  \n",
       "1     0.0  0.0  1.0  \n",
       "2     0.0  0.0  1.0  \n",
       "3     1.0  0.0  0.0  \n",
       "4     1.0  0.0  0.0  \n",
       "...   ...  ...  ...  \n",
       "8703  1.0  0.0  0.0  \n",
       "8704  1.0  0.0  0.0  \n",
       "8705  1.0  0.0  0.0  \n",
       "8706  1.0  0.0  0.0  \n",
       "8707  0.0  0.0  1.0  \n",
       "\n",
       "[8708 rows x 80 columns]"
      ]
     },
     "execution_count": 27,
     "metadata": {},
     "output_type": "execute_result"
    }
   ],
   "source": [
    "preprocessed_data"
   ]
  },
  {
   "cell_type": "code",
   "execution_count": 28,
   "metadata": {},
   "outputs": [],
   "source": [
    "preprocessed_data = mypipe['transformer'].transform(data_sample)"
   ]
  },
  {
   "cell_type": "code",
   "execution_count": 29,
   "metadata": {},
   "outputs": [],
   "source": [
    "hclust_labels = mypipe['clusterer']['hclust'].fit_predict(preprocessed_data)"
   ]
  },
  {
   "cell_type": "code",
   "execution_count": 30,
   "metadata": {},
   "outputs": [],
   "source": [
    "data_sample['clusters'] = hclust_labels"
   ]
  },
  {
   "cell_type": "code",
   "execution_count": 31,
   "metadata": {},
   "outputs": [
    {
     "data": {
      "text/plain": [
       "0.11970146130732565"
      ]
     },
     "execution_count": 31,
     "metadata": {},
     "output_type": "execute_result"
    }
   ],
   "source": [
    "metrics.silhouette_score(preprocessed_data, hclust_labels)"
   ]
  },
  {
   "cell_type": "code",
   "execution_count": 32,
   "metadata": {},
   "outputs": [
    {
     "data": {
      "text/plain": [
       "2.473433882821156"
      ]
     },
     "execution_count": 32,
     "metadata": {},
     "output_type": "execute_result"
    }
   ],
   "source": [
    "dbsc(preprocessed_data, hclust_labels)"
   ]
  },
  {
   "cell_type": "code",
   "execution_count": 33,
   "metadata": {
    "scrolled": true
   },
   "outputs": [
    {
     "data": {
      "text/plain": [
       "Text(0.5, 1.02, 'Cluster nb')"
      ]
     },
     "execution_count": 33,
     "metadata": {},
     "output_type": "execute_result"
    },
    {
     "data": {
      "image/png": "[encoded data removed]",
      "text/plain": [
       "<Figure size 360x360 with 1 Axes>"
      ]
     },
     "metadata": {
      "needs_background": "light"
     },
     "output_type": "display_data"
    }
   ],
   "source": [
    "# observer la répartition des effectifs dans les clusters\n",
    "data_sample['clusters'].value_counts(sort=False).plot(\n",
    "    kind='barh',\n",
    "    color='steelblue',\n",
    "    figsize=(5, 5)).invert_yaxis()\n",
    "plt.xlabel('Cluster pop', labelpad=14)\n",
    "plt.title('Cluster nb', y=1.02)"
   ]
  },
  {
   "cell_type": "markdown",
   "metadata": {},
   "source": [
    "## Proposition de visualisations caractérisant les clusters"
   ]
  },
  {
   "cell_type": "code",
   "execution_count": 34,
   "metadata": {},
   "outputs": [],
   "source": [
    "# Pour afficher toutes les colonnes\n",
    "pd.options.display.max_columns = 100"
   ]
  },
  {
   "cell_type": "code",
   "execution_count": 35,
   "metadata": {
    "scrolled": true
   },
   "outputs": [
    {
     "data": {
      "text/html": [
       "<div>\n",
       "<style scoped>\n",
       "    .dataframe tbody tr th:only-of-type {\n",
       "        vertical-align: middle;\n",
       "    }\n",
       "\n",
       "    .dataframe tbody tr th {\n",
       "        vertical-align: top;\n",
       "    }\n",
       "\n",
       "    .dataframe thead th {\n",
       "        text-align: right;\n",
       "    }\n",
       "</style>\n",
       "<table border=\"1\" class=\"dataframe\">\n",
       "  <thead>\n",
       "    <tr style=\"text-align: right;\">\n",
       "      <th></th>\n",
       "      <th>purchase_time_zone_cat</th>\n",
       "      <th>effective_delivery_time</th>\n",
       "      <th>delivery_vs_estimated</th>\n",
       "      <th>delivery_vs_estimated_lvl</th>\n",
       "      <th>total_price</th>\n",
       "      <th>freight_percentage</th>\n",
       "      <th>freight_percentage_lvl</th>\n",
       "      <th>total_price_lvl</th>\n",
       "      <th>charmed_price_cat</th>\n",
       "      <th>product_name_length</th>\n",
       "      <th>product_description_length</th>\n",
       "      <th>product_photos_qty</th>\n",
       "      <th>product_weight_g</th>\n",
       "      <th>product_size</th>\n",
       "      <th>product_photos_qty_lvl</th>\n",
       "      <th>product_cat</th>\n",
       "      <th>payment_sequence_size</th>\n",
       "      <th>payment_installments_size</th>\n",
       "      <th>payment_sequence_size_cat</th>\n",
       "      <th>payment_installment_size_cat</th>\n",
       "      <th>main_payment_type_cat</th>\n",
       "      <th>payment_lvl</th>\n",
       "      <th>cust_sell_dist</th>\n",
       "      <th>cust_sell_dist_lvl</th>\n",
       "      <th>review_answer_delay</th>\n",
       "      <th>review_answer_delay_lvl</th>\n",
       "      <th>product_review_mean</th>\n",
       "      <th>product_review_mean_lvl</th>\n",
       "      <th>customer_review_mean</th>\n",
       "      <th>review_gap</th>\n",
       "      <th>review_gap_lvl</th>\n",
       "      <th>clusters</th>\n",
       "    </tr>\n",
       "  </thead>\n",
       "  <tbody>\n",
       "    <tr>\n",
       "      <td>52374</td>\n",
       "      <td>Evening-WD</td>\n",
       "      <td>13</td>\n",
       "      <td>8</td>\n",
       "      <td>Later_Delivery</td>\n",
       "      <td>17.90</td>\n",
       "      <td>39.831933</td>\n",
       "      <td>High_FreightCost</td>\n",
       "      <td>B</td>\n",
       "      <td>Charmed_Price</td>\n",
       "      <td>56.0</td>\n",
       "      <td>646.0</td>\n",
       "      <td>1.0</td>\n",
       "      <td>300.0</td>\n",
       "      <td>9600.0</td>\n",
       "      <td>1</td>\n",
       "      <td>Furniture</td>\n",
       "      <td>1.0</td>\n",
       "      <td>1.0</td>\n",
       "      <td>mono_payment</td>\n",
       "      <td>single_payment</td>\n",
       "      <td>Other_PayType</td>\n",
       "      <td>Light_Payment</td>\n",
       "      <td>286.162891</td>\n",
       "      <td>Near_Dist</td>\n",
       "      <td>0</td>\n",
       "      <td>Early_Answer</td>\n",
       "      <td>4.333333</td>\n",
       "      <td>Medium_Score</td>\n",
       "      <td>5.0</td>\n",
       "      <td>0.666667</td>\n",
       "      <td>Better_Review</td>\n",
       "      <td>0</td>\n",
       "    </tr>\n",
       "    <tr>\n",
       "      <td>70030</td>\n",
       "      <td>AM-WD</td>\n",
       "      <td>10</td>\n",
       "      <td>9</td>\n",
       "      <td>Nominal_Delivery</td>\n",
       "      <td>59.55</td>\n",
       "      <td>18.413481</td>\n",
       "      <td>Nominal_FreightCost</td>\n",
       "      <td>D</td>\n",
       "      <td>Charmed_Price</td>\n",
       "      <td>59.0</td>\n",
       "      <td>205.0</td>\n",
       "      <td>1.0</td>\n",
       "      <td>950.0</td>\n",
       "      <td>8866.0</td>\n",
       "      <td>1</td>\n",
       "      <td>Furniture</td>\n",
       "      <td>1.0</td>\n",
       "      <td>2.0</td>\n",
       "      <td>mono_payment</td>\n",
       "      <td>single_payment</td>\n",
       "      <td>Credit_Card_PayType</td>\n",
       "      <td>UnderMed_Payment</td>\n",
       "      <td>221.321339</td>\n",
       "      <td>Near_Dist</td>\n",
       "      <td>2</td>\n",
       "      <td>Nominal_Answer</td>\n",
       "      <td>3.947368</td>\n",
       "      <td>Low_Score</td>\n",
       "      <td>3.0</td>\n",
       "      <td>-0.947368</td>\n",
       "      <td>Worst_Review</td>\n",
       "      <td>1</td>\n",
       "    </tr>\n",
       "    <tr>\n",
       "      <td>54409</td>\n",
       "      <td>AM-WD</td>\n",
       "      <td>24</td>\n",
       "      <td>13</td>\n",
       "      <td>Nominal_Delivery</td>\n",
       "      <td>45.90</td>\n",
       "      <td>28.078972</td>\n",
       "      <td>High_FreightCost</td>\n",
       "      <td>C</td>\n",
       "      <td>Charmed_Price</td>\n",
       "      <td>59.0</td>\n",
       "      <td>473.0</td>\n",
       "      <td>1.0</td>\n",
       "      <td>600.0</td>\n",
       "      <td>1800.0</td>\n",
       "      <td>1</td>\n",
       "      <td>Furniture</td>\n",
       "      <td>1.0</td>\n",
       "      <td>5.0</td>\n",
       "      <td>mono_payment</td>\n",
       "      <td>single_payment</td>\n",
       "      <td>Credit_Card_PayType</td>\n",
       "      <td>UnderMed_Payment</td>\n",
       "      <td>1186.271144</td>\n",
       "      <td>Far_Dist</td>\n",
       "      <td>4</td>\n",
       "      <td>Late_Answer</td>\n",
       "      <td>3.347826</td>\n",
       "      <td>Low_Score</td>\n",
       "      <td>5.0</td>\n",
       "      <td>1.652174</td>\n",
       "      <td>Better_Review</td>\n",
       "      <td>0</td>\n",
       "    </tr>\n",
       "  </tbody>\n",
       "</table>\n",
       "</div>"
      ],
      "text/plain": [
       "      purchase_time_zone_cat  effective_delivery_time  delivery_vs_estimated  \\\n",
       "52374             Evening-WD                       13                      8   \n",
       "70030                  AM-WD                       10                      9   \n",
       "54409                  AM-WD                       24                     13   \n",
       "\n",
       "      delivery_vs_estimated_lvl  total_price  freight_percentage  \\\n",
       "52374            Later_Delivery        17.90           39.831933   \n",
       "70030          Nominal_Delivery        59.55           18.413481   \n",
       "54409          Nominal_Delivery        45.90           28.078972   \n",
       "\n",
       "      freight_percentage_lvl total_price_lvl charmed_price_cat  \\\n",
       "52374       High_FreightCost               B     Charmed_Price   \n",
       "70030    Nominal_FreightCost               D     Charmed_Price   \n",
       "54409       High_FreightCost               C     Charmed_Price   \n",
       "\n",
       "       product_name_length  product_description_length  product_photos_qty  \\\n",
       "52374                 56.0                       646.0                 1.0   \n",
       "70030                 59.0                       205.0                 1.0   \n",
       "54409                 59.0                       473.0                 1.0   \n",
       "\n",
       "       product_weight_g  product_size product_photos_qty_lvl product_cat  \\\n",
       "52374             300.0        9600.0                      1   Furniture   \n",
       "70030             950.0        8866.0                      1   Furniture   \n",
       "54409             600.0        1800.0                      1   Furniture   \n",
       "\n",
       "       payment_sequence_size  payment_installments_size  \\\n",
       "52374                    1.0                        1.0   \n",
       "70030                    1.0                        2.0   \n",
       "54409                    1.0                        5.0   \n",
       "\n",
       "      payment_sequence_size_cat payment_installment_size_cat  \\\n",
       "52374              mono_payment               single_payment   \n",
       "70030              mono_payment               single_payment   \n",
       "54409              mono_payment               single_payment   \n",
       "\n",
       "      main_payment_type_cat       payment_lvl  cust_sell_dist  \\\n",
       "52374         Other_PayType     Light_Payment      286.162891   \n",
       "70030   Credit_Card_PayType  UnderMed_Payment      221.321339   \n",
       "54409   Credit_Card_PayType  UnderMed_Payment     1186.271144   \n",
       "\n",
       "      cust_sell_dist_lvl  review_answer_delay review_answer_delay_lvl  \\\n",
       "52374          Near_Dist                    0            Early_Answer   \n",
       "70030          Near_Dist                    2          Nominal_Answer   \n",
       "54409           Far_Dist                    4             Late_Answer   \n",
       "\n",
       "       product_review_mean product_review_mean_lvl  customer_review_mean  \\\n",
       "52374             4.333333            Medium_Score                   5.0   \n",
       "70030             3.947368               Low_Score                   3.0   \n",
       "54409             3.347826               Low_Score                   5.0   \n",
       "\n",
       "       review_gap review_gap_lvl  clusters  \n",
       "52374    0.666667  Better_Review         0  \n",
       "70030   -0.947368   Worst_Review         1  \n",
       "54409    1.652174  Better_Review         0  "
      ]
     },
     "execution_count": 35,
     "metadata": {},
     "output_type": "execute_result"
    }
   ],
   "source": [
    "data_sample.sample(3)"
   ]
  },
  {
   "cell_type": "code",
   "execution_count": 36,
   "metadata": {},
   "outputs": [
    {
     "name": "stderr",
     "output_type": "stream",
     "text": [
      "3:5: E128 continuation line under-indented for visual indent\n"
     ]
    }
   ],
   "source": [
    "# niveau des ventes par purchase_time_zone x clusters\n",
    "data_clusters = data_sample.groupby(['clusters'],\n",
    "    as_index=False).agg({'total_price': ['mean'],\n",
    "                         'customer_review_mean': ['mean'],\n",
    "                         'cust_sell_dist': ['mean']})\n",
    "data_clusters.columns = ['clusters',\n",
    "                         'avg_price',\n",
    "                         'avg_review_score',\n",
    "                         'avg_cust_sell_dist']"
   ]
  },
  {
   "cell_type": "code",
   "execution_count": 37,
   "metadata": {},
   "outputs": [
    {
     "data": {
      "text/html": [
       "<div>\n",
       "<style scoped>\n",
       "    .dataframe tbody tr th:only-of-type {\n",
       "        vertical-align: middle;\n",
       "    }\n",
       "\n",
       "    .dataframe tbody tr th {\n",
       "        vertical-align: top;\n",
       "    }\n",
       "\n",
       "    .dataframe thead th {\n",
       "        text-align: right;\n",
       "    }\n",
       "</style>\n",
       "<table border=\"1\" class=\"dataframe\">\n",
       "  <thead>\n",
       "    <tr style=\"text-align: right;\">\n",
       "      <th></th>\n",
       "      <th>clusters</th>\n",
       "      <th>avg_price</th>\n",
       "      <th>avg_review_score</th>\n",
       "      <th>avg_cust_sell_dist</th>\n",
       "    </tr>\n",
       "  </thead>\n",
       "  <tbody>\n",
       "    <tr>\n",
       "      <td>0</td>\n",
       "      <td>0</td>\n",
       "      <td>139.026302</td>\n",
       "      <td>4.997502</td>\n",
       "      <td>563.387686</td>\n",
       "    </tr>\n",
       "    <tr>\n",
       "      <td>1</td>\n",
       "      <td>1</td>\n",
       "      <td>129.641598</td>\n",
       "      <td>2.915337</td>\n",
       "      <td>621.249850</td>\n",
       "    </tr>\n",
       "    <tr>\n",
       "      <td>2</td>\n",
       "      <td>2</td>\n",
       "      <td>139.003697</td>\n",
       "      <td>4.520638</td>\n",
       "      <td>589.946908</td>\n",
       "    </tr>\n",
       "  </tbody>\n",
       "</table>\n",
       "</div>"
      ],
      "text/plain": [
       "   clusters   avg_price  avg_review_score  avg_cust_sell_dist\n",
       "0         0  139.026302          4.997502          563.387686\n",
       "1         1  129.641598          2.915337          621.249850\n",
       "2         2  139.003697          4.520638          589.946908"
      ]
     },
     "execution_count": 37,
     "metadata": {},
     "output_type": "execute_result"
    }
   ],
   "source": [
    "data_clusters"
   ]
  },
  {
   "cell_type": "code",
   "execution_count": 38,
   "metadata": {},
   "outputs": [],
   "source": [
    "# découpage par cluster\n",
    "data_sample_clust0 = data_sample[data_sample['clusters'] == 0]\n",
    "data_sample_clust0.name = 'cluster 0'\n",
    "data_sample_clust1 = data_sample[data_sample['clusters'] == 1]\n",
    "data_sample_clust1.name = 'cluster 1'\n",
    "data_sample_clust2 = data_sample[data_sample['clusters'] == 2]\n",
    "data_sample_clust2.name = 'cluster 2'"
   ]
  },
  {
   "cell_type": "code",
   "execution_count": 39,
   "metadata": {},
   "outputs": [
    {
     "name": "stderr",
     "output_type": "stream",
     "text": [
      "9:1: W293 blank line contains whitespace\n",
      "15:41: E128 continuation line under-indented for visual indent\n"
     ]
    }
   ],
   "source": [
    "def SalesClust(data):\n",
    "    SalesClust = data.groupby(\n",
    "        'product_cat',\n",
    "        as_index=False).agg({'total_price': ['sum']})\n",
    "    SalesClust.columns = ['product_cat',\n",
    "                          'sales']\n",
    "    SalesClust = SalesClust.sort_values(by=['sales'],\n",
    "                                        ascending=False)\n",
    "    \n",
    "    fig, ax = plt.subplots(figsize=(3, 3))\n",
    "    ax = sns.barplot(y='product_cat',\n",
    "                     x='sales',\n",
    "                     color='Steelblue',\n",
    "                     data=SalesClust.sort_values(by=['sales'],\n",
    "                                        ascending=False))\n",
    "    ax.set(xlabel='Sales Revenue',\n",
    "           ylabel='Products Categories',\n",
    "           title='Top 5 Sales by Category : ' + str(data.name))"
   ]
  },
  {
   "cell_type": "code",
   "execution_count": 40,
   "metadata": {},
   "outputs": [],
   "source": [
    "SalesClust2 = data_sample_clust2.groupby(\n",
    "        'product_cat', as_index=False).agg({'total_price': ['sum']})"
   ]
  },
  {
   "cell_type": "code",
   "execution_count": 41,
   "metadata": {},
   "outputs": [
    {
     "name": "stderr",
     "output_type": "stream",
     "text": [
      "2:27: E127 continuation line over-indented for visual indent\n"
     ]
    }
   ],
   "source": [
    "SalesClust2.columns = ['product_cat',\n",
    "                          'sales']"
   ]
  },
  {
   "cell_type": "code",
   "execution_count": 42,
   "metadata": {},
   "outputs": [
    {
     "name": "stderr",
     "output_type": "stream",
     "text": [
      "2:41: E127 continuation line over-indented for visual indent\n"
     ]
    }
   ],
   "source": [
    "bidule = SalesClust2.sort_values(by=['sales'],\n",
    "                                        ascending=False)"
   ]
  },
  {
   "cell_type": "code",
   "execution_count": 43,
   "metadata": {},
   "outputs": [
    {
     "data": {
      "text/html": [
       "<div>\n",
       "<style scoped>\n",
       "    .dataframe tbody tr th:only-of-type {\n",
       "        vertical-align: middle;\n",
       "    }\n",
       "\n",
       "    .dataframe tbody tr th {\n",
       "        vertical-align: top;\n",
       "    }\n",
       "\n",
       "    .dataframe thead th {\n",
       "        text-align: right;\n",
       "    }\n",
       "</style>\n",
       "<table border=\"1\" class=\"dataframe\">\n",
       "  <thead>\n",
       "    <tr style=\"text-align: right;\">\n",
       "      <th></th>\n",
       "      <th>product_cat</th>\n",
       "      <th>sales</th>\n",
       "    </tr>\n",
       "  </thead>\n",
       "  <tbody>\n",
       "    <tr>\n",
       "      <td>0</td>\n",
       "      <td>Watches Gifts Toys</td>\n",
       "      <td>50138.17</td>\n",
       "    </tr>\n",
       "    <tr>\n",
       "      <td>1</td>\n",
       "      <td>Health Beauty Baby</td>\n",
       "      <td>49588.56</td>\n",
       "    </tr>\n",
       "    <tr>\n",
       "      <td>2</td>\n",
       "      <td>Home Appliances</td>\n",
       "      <td>31079.61</td>\n",
       "    </tr>\n",
       "    <tr>\n",
       "      <td>3</td>\n",
       "      <td>Supplies</td>\n",
       "      <td>25317.23</td>\n",
       "    </tr>\n",
       "    <tr>\n",
       "      <td>4</td>\n",
       "      <td>Electronics Computers &amp; Accessories</td>\n",
       "      <td>23024.78</td>\n",
       "    </tr>\n",
       "    <tr>\n",
       "      <td>5</td>\n",
       "      <td>Furniture</td>\n",
       "      <td>21075.29</td>\n",
       "    </tr>\n",
       "    <tr>\n",
       "      <td>6</td>\n",
       "      <td>Sports Leisure</td>\n",
       "      <td>20868.26</td>\n",
       "    </tr>\n",
       "    <tr>\n",
       "      <td>7</td>\n",
       "      <td>Home Accessories</td>\n",
       "      <td>17845.19</td>\n",
       "    </tr>\n",
       "    <tr>\n",
       "      <td>8</td>\n",
       "      <td>Construction &amp; Tools</td>\n",
       "      <td>17656.21</td>\n",
       "    </tr>\n",
       "    <tr>\n",
       "      <td>9</td>\n",
       "      <td>Auto</td>\n",
       "      <td>13965.75</td>\n",
       "    </tr>\n",
       "    <tr>\n",
       "      <td>10</td>\n",
       "      <td>Telephony</td>\n",
       "      <td>11713.85</td>\n",
       "    </tr>\n",
       "    <tr>\n",
       "      <td>11</td>\n",
       "      <td>Entertainement</td>\n",
       "      <td>11628.81</td>\n",
       "    </tr>\n",
       "    <tr>\n",
       "      <td>12</td>\n",
       "      <td>Fashion</td>\n",
       "      <td>8307.55</td>\n",
       "    </tr>\n",
       "    <tr>\n",
       "      <td>13</td>\n",
       "      <td>Food Drink &amp; Pets</td>\n",
       "      <td>5842.45</td>\n",
       "    </tr>\n",
       "    <tr>\n",
       "      <td>14</td>\n",
       "      <td>Corporate</td>\n",
       "      <td>2899.56</td>\n",
       "    </tr>\n",
       "  </tbody>\n",
       "</table>\n",
       "</div>"
      ],
      "text/plain": [
       "                            product_cat     sales\n",
       "0                    Watches Gifts Toys  50138.17\n",
       "1                    Health Beauty Baby  49588.56\n",
       "2                       Home Appliances  31079.61\n",
       "3                              Supplies  25317.23\n",
       "4   Electronics Computers & Accessories  23024.78\n",
       "5                             Furniture  21075.29\n",
       "6                        Sports Leisure  20868.26\n",
       "7                      Home Accessories  17845.19\n",
       "8                  Construction & Tools  17656.21\n",
       "9                                  Auto  13965.75\n",
       "10                            Telephony  11713.85\n",
       "11                       Entertainement  11628.81\n",
       "12                              Fashion   8307.55\n",
       "13                    Food Drink & Pets   5842.45\n",
       "14                            Corporate   2899.56"
      ]
     },
     "execution_count": 43,
     "metadata": {},
     "output_type": "execute_result"
    }
   ],
   "source": [
    "bidule = bidule.reset_index(drop=True)\n",
    "bidule"
   ]
  },
  {
   "cell_type": "code",
   "execution_count": 44,
   "metadata": {},
   "outputs": [
    {
     "data": {
      "text/plain": [
       "(5, 2)"
      ]
     },
     "execution_count": 44,
     "metadata": {},
     "output_type": "execute_result"
    }
   ],
   "source": [
    "truc = bidule[:5]\n",
    "truc.shape"
   ]
  },
  {
   "cell_type": "code",
   "execution_count": 46,
   "metadata": {},
   "outputs": [
    {
     "data": {
      "text/plain": [
       "<matplotlib.axes._subplots.AxesSubplot at 0x1980005f8c8>"
      ]
     },
     "execution_count": 46,
     "metadata": {},
     "output_type": "execute_result"
    },
    {
     "data": {
      "image/png": "[encoded data removed]",
      "text/plain": [
       "<Figure size 432x288 with 1 Axes>"
      ]
     },
     "metadata": {
      "needs_background": "light"
     },
     "output_type": "display_data"
    }
   ],
   "source": [
    "sns.barplot(x='sales', y=truc['product_cat'], data=truc)"
   ]
  },
  {
   "cell_type": "code",
   "execution_count": null,
   "metadata": {
    "scrolled": true
   },
   "outputs": [],
   "source": [
    "fig, ax = plt.subplots(figsize=(3, 3))\n",
    "ax = sns.barplot(y='product_cat',\n",
    "                     x='sales',\n",
    "                     color='Steelblue',\n",
    "                     data=SalesClust2[:5])\n",
    "ax.set(xlabel='Sales Revenue',\n",
    "           ylabel='Products Categories',\n",
    "           title='Top 5 Sales by Category : Cluster2')"
   ]
  },
  {
   "cell_type": "code",
   "execution_count": null,
   "metadata": {},
   "outputs": [],
   "source": [
    "# répartition des ventes par catégorie de produit\n",
    "df_sales_categ = data_sample.groupby(\n",
    "    'product_cat',\n",
    "    as_index=False).agg({'total_price': ['sum']})\n",
    "df_sales_categ.columns = ['product_cat',\n",
    "                          'sales']\n",
    "df_sales_categ = df_sales_categ.sort_values(by=['sales'],\n",
    "                                            ascending=False)\n",
    "fig, ax = plt.subplots(figsize=(5, 10))\n",
    "ax = sns.barplot(y='product_cat',\n",
    "                 x='sales',\n",
    "                 color='Steelblue',\n",
    "                 data=df_sales_categ)\n",
    "ax.set(xlabel='Sales Revenue',\n",
    "       ylabel='Products Categories',\n",
    "       title='Sales by Category')"
   ]
  },
  {
   "cell_type": "code",
   "execution_count": null,
   "metadata": {},
   "outputs": [],
   "source": [
    "for i in [data_sample_clust0, data_sample_clust1, data_sample_clust2]:\n",
    "    SalesClust(i)"
   ]
  },
  {
   "cell_type": "code",
   "execution_count": null,
   "metadata": {},
   "outputs": [],
   "source": [
    "# niveau des ventes par purchase_time_zone x clusters\n",
    "data_sales_time_zone = data_sample.groupby(\n",
    "    ['purchase_time_zone_cat', 'clusters'],\n",
    "    as_index=False).agg({'total_price': ['sum']})\n",
    "data_sales_time_zone.columns = ['purchase_time_zone_cat',\n",
    "                                'clusters',\n",
    "                                'sales']"
   ]
  },
  {
   "cell_type": "code",
   "execution_count": null,
   "metadata": {},
   "outputs": [],
   "source": [
    "# afficher l'histogramme\n",
    "ax = sns.barplot(x='purchase_time_zone_cat',\n",
    "                 y='sales',\n",
    "                 hue='clusters',\n",
    "                 color='Steelblue',\n",
    "                 data=data_sales_time_zone)\n",
    "ax.set(xlabel='Purchase Time Zone',\n",
    "       ylabel='Sales',\n",
    "       title='Sales by purchase time zone')\n",
    "plt.legend(loc='upper right')"
   ]
  },
  {
   "cell_type": "code",
   "execution_count": null,
   "metadata": {},
   "outputs": [],
   "source": []
  },
  {
   "cell_type": "code",
   "execution_count": null,
   "metadata": {},
   "outputs": [],
   "source": [
    "# search_space 1 modèle\n",
    "# mysearch_space = [{'clusterer': [AgglomerativeClustering()],\n",
    "#                   'clusterer__linkage': ['complete', 'ward'],\n",
    "#                   'clusterer__n_clusters': list(range(1, 3))}]"
   ]
  },
  {
   "cell_type": "markdown",
   "metadata": {},
   "source": [
    "Ancienne version sans pipe avec une instance réussie du Gridsearch sans cv"
   ]
  },
  {
   "cell_type": "code",
   "execution_count": null,
   "metadata": {},
   "outputs": [],
   "source": [
    "# calcul du score - davies-bouldin\n",
    "\n",
    "\n",
    "def my_cv_dbsc(estimator, X):\n",
    "    estimator.fit(X)\n",
    "    return dbsc(X, estimator.labels_)\n",
    "\n"
   ]
  },
  {
   "cell_type": "code",
   "execution_count": null,
   "metadata": {},
   "outputs": [],
   "source": [
    "# grid pour l'agglomerative_clustering\n",
    "param_grid = {\n",
    "    'linkage': ['complete',\n",
    "                'ward'],\n",
    "    'n_clusters': list(range(2, 6))\n",
    "}\n"
   ]
  },
  {
   "cell_type": "code",
   "execution_count": null,
   "metadata": {},
   "outputs": [],
   "source": [
    "\n",
    "gs = GridSearchCV(estimator=AgglomerativeClustering(),\n",
    "                  param_grid=param_grid,\n",
    "                  scoring=my_cv_dbsc,\n",
    "                  cv=ShuffleSplit(test_size=0.01, n_splits=1, random_state=42),\n",
    "                  n_jobs=-1)\n"
   ]
  },
  {
   "cell_type": "code",
   "execution_count": null,
   "metadata": {
    "scrolled": false
   },
   "outputs": [],
   "source": [
    "gs.fit(preprocessed_data)"
   ]
  },
  {
   "cell_type": "code",
   "execution_count": null,
   "metadata": {
    "scrolled": false
   },
   "outputs": [],
   "source": [
    "gs.cv_results_"
   ]
  },
  {
   "cell_type": "code",
   "execution_count": null,
   "metadata": {},
   "outputs": [],
   "source": [
    "gs.best_params_"
   ]
  },
  {
   "cell_type": "code",
   "execution_count": null,
   "metadata": {},
   "outputs": [],
   "source": [
    "gs.best_score_"
   ]
  },
  {
   "cell_type": "markdown",
   "metadata": {},
   "source": [
    "# Clustering hierarchique"
   ]
  },
  {
   "cell_type": "markdown",
   "metadata": {},
   "source": [
    "##  Distances : Euclidienne, Mahalabonis, CityBlock\n",
    "Observations sur des échantillons de 10 et 20% des données."
   ]
  },
  {
   "cell_type": "code",
   "execution_count": null,
   "metadata": {},
   "outputs": [],
   "source": [
    "cl_eucl_10 = linkage(data_sel_sample10, method='complete', metric='euclidean')"
   ]
  },
  {
   "cell_type": "code",
   "execution_count": null,
   "metadata": {},
   "outputs": [],
   "source": [
    "cl_eucl_20 = linkage(data_sel_sample20, method='complete', metric='euclidean')"
   ]
  },
  {
   "cell_type": "code",
   "execution_count": null,
   "metadata": {},
   "outputs": [],
   "source": [
    "cl_mahal_10 = linkage(data_sel_sample10, method='complete', metric='mahalanobis')"
   ]
  },
  {
   "cell_type": "code",
   "execution_count": null,
   "metadata": {},
   "outputs": [],
   "source": [
    "cl_mahal_20 = linkage(data_sel_sample20, method='complete', metric='mahalanobis')"
   ]
  },
  {
   "cell_type": "code",
   "execution_count": null,
   "metadata": {},
   "outputs": [],
   "source": [
    "cl_citybl_10 = linkage(data_sel_sample10, method='complete', metric='cityblock')"
   ]
  },
  {
   "cell_type": "code",
   "execution_count": null,
   "metadata": {},
   "outputs": [],
   "source": [
    "cl_citybl_20 = linkage(data_sel_sample20, method='complete', metric='cityblock')"
   ]
  },
  {
   "cell_type": "code",
   "execution_count": null,
   "metadata": {
    "scrolled": false
   },
   "outputs": [],
   "source": [
    "\n",
    "def dendo(cl1, cl2, cl1_label, cl2_label):\n",
    "    fig, (ax1, ax2) = plt.subplots(1, 2, figsize=[12, 5])\n",
    "    ax1.set_xlabel('Customers', fontsize=12)\n",
    "    ax1.set_ylabel('Distance', fontsize=12)\n",
    "    ax1.set_title('Dendrogram ' + cl1_label, fontsize=13)\n",
    "    ax1.tick_params(axis='both', which='major', labelsize=13)\n",
    "    dendrogram(cl1,\n",
    "               leaf_rotation=90,\n",
    "               leaf_font_size=12,\n",
    "               truncate_mode='lastp',\n",
    "               show_leaf_counts=True,\n",
    "               ax=ax1,\n",
    "               )\n",
    "    ax2.set_xlabel('Clients', fontsize=12)\n",
    "    ax2.set_ylabel('Distance', fontsize=12)\n",
    "    ax2.set_title('Dendrogram ' + cl2_label, fontsize=13)\n",
    "    ax2.tick_params(axis='both', which='major', labelsize=13)\n",
    "    dendrogram(cl2,\n",
    "               leaf_rotation=90,\n",
    "               leaf_font_size=12,\n",
    "               truncate_mode='lastp',\n",
    "               show_leaf_counts=True,\n",
    "               ax=ax2)\n",
    "    plt.show()"
   ]
  },
  {
   "cell_type": "code",
   "execution_count": null,
   "metadata": {},
   "outputs": [],
   "source": [
    "dendo(cl_eucl_10, cl_eucl_20, 'Euclidian_10', 'Euclidian_20')"
   ]
  },
  {
   "cell_type": "code",
   "execution_count": null,
   "metadata": {},
   "outputs": [],
   "source": [
    "dendo(cl_mahal_10, cl_mahal_20, 'Mahalabonis_10', 'Mahalabonis_20')"
   ]
  },
  {
   "cell_type": "code",
   "execution_count": null,
   "metadata": {},
   "outputs": [],
   "source": [
    "dendo(cl_citybl_10, cl_citybl_20, 'CityBlock_10', 'CityBlock_20')"
   ]
  },
  {
   "cell_type": "markdown",
   "metadata": {},
   "source": [
    "- la claissification hiérachique la plus exploitable semble construire à partir de la distance euclidienne et s'améliore avec la taille de l'échantillon"
   ]
  },
  {
   "cell_type": "code",
   "execution_count": null,
   "metadata": {},
   "outputs": [],
   "source": [
    "HClustLabels = fcluster(cl_mahal_20, 3, criterion='maxclust')"
   ]
  },
  {
   "cell_type": "code",
   "execution_count": null,
   "metadata": {},
   "outputs": [],
   "source": [
    "HClust = data_sel_sample20.copy()"
   ]
  },
  {
   "cell_type": "code",
   "execution_count": null,
   "metadata": {},
   "outputs": [],
   "source": [
    "HClust['clusters'] = HClustLabels"
   ]
  },
  {
   "cell_type": "code",
   "execution_count": null,
   "metadata": {
    "scrolled": true
   },
   "outputs": [],
   "source": [
    "HClust.sample(5)"
   ]
  },
  {
   "cell_type": "code",
   "execution_count": null,
   "metadata": {},
   "outputs": [],
   "source": [
    "# projection des données sur les features\n",
    "data_selection = data.filter(HClust_selection + cat_feat_order)\n",
    "data_selection.shape"
   ]
  },
  {
   "cell_type": "code",
   "execution_count": null,
   "metadata": {},
   "outputs": [],
   "source": [
    "\n",
    "search.fit(X_digits, y_digits)\n",
    "print(\"Best parameter (CV score=%0.3f):\" % search.best_score_)\n",
    "print(search.best_params_)\n"
   ]
  },
  {
   "cell_type": "code",
   "execution_count": null,
   "metadata": {},
   "outputs": [],
   "source": [
    "# observer la répartition des effectifs dans les clusters\n",
    "HClust['clusters'].value_counts(sort=False).plot(\n",
    "    kind='barh',\n",
    "    color='steelblue',\n",
    "    figsize=(5, 5)).invert_yaxis()\n",
    "plt.xlabel('Cluster pop', labelpad=14)\n",
    "plt.title('Cluster nb', y=1.02)"
   ]
  },
  {
   "cell_type": "code",
   "execution_count": null,
   "metadata": {},
   "outputs": [],
   "source": [
    "HClust1 = HClust[HClust['clusters'] == 1]\n",
    "HClust1.name = 'cluster 1'\n",
    "HClust2 = HClust[HClust['clusters'] == 2]\n",
    "HClust2.name = 'cluster 2'\n",
    "HClust3 = HClust[HClust['clusters'] == 3]\n",
    "HClust3.name = 'cluster 3'"
   ]
  },
  {
   "cell_type": "code",
   "execution_count": null,
   "metadata": {},
   "outputs": [],
   "source": [
    "def SalesClust(data):\n",
    "    SalesClust = data.groupby(\n",
    "        'rational_category',\n",
    "        as_index=False).agg({'payment_total': ['sum']})\n",
    "    SalesClust.columns = ['rational_category',\n",
    "                          'sales']\n",
    "    SalesClust = SalesClust.sort_values(by=['sales'],\n",
    "                                        ascending=False)\n",
    "    fig, ax = plt.subplots(figsize=(3, 3))\n",
    "    ax = sns.barplot(y='rational_category',\n",
    "                     x='sales',\n",
    "                     color='Steelblue',\n",
    "                     data=SalesClust[:5])\n",
    "    ax.set(xlabel='Sales Revenue',\n",
    "           ylabel='Products Categories',\n",
    "           title='Top 5 Sales by Category : ' + str(data.name))"
   ]
  },
  {
   "cell_type": "code",
   "execution_count": null,
   "metadata": {
    "scrolled": false
   },
   "outputs": [],
   "source": [
    "for i in [HClust1, HClust2, HClust3]:\n",
    "    SalesClust(i)"
   ]
  },
  {
   "cell_type": "code",
   "execution_count": null,
   "metadata": {},
   "outputs": [],
   "source": [
    "label_color_map = {1: 'r',\n",
    "                   2: 'k',\n",
    "                   3: 'b'}"
   ]
  },
  {
   "cell_type": "code",
   "execution_count": null,
   "metadata": {},
   "outputs": [],
   "source": [
    "fig = plt.figure()\n",
    "ax = Axes3D(fig)\n",
    "ax.scatter(HClust['N_RG_payment_total'],\n",
    "           HClust['N_RG_product_review_mean'],\n",
    "           HClust['N_RG_cust_sell_dist'],\n",
    "           cmap='plasma',\n",
    "           c=HClust['clusters'])\n",
    "ax.view_init(elev=10, azim=45)\n",
    "ax.set_xlabel('Rank-Gaussed Payment Total', labelpad=15)\n",
    "ax.set_ylabel('Rank-Gaussed Product Review Mean', labelpad=15)\n",
    "ax.set_zlabel('Rank-Gaussed Cust_Sell distance')"
   ]
  },
  {
   "cell_type": "code",
   "execution_count": null,
   "metadata": {},
   "outputs": [],
   "source": [
    "HClust.groupby('purchase_time_zone').clusters.value_counts().plot(\n",
    "        kind='barh',\n",
    "        color='steelblue',\n",
    "        figsize=(5, 5)).invert_yaxis()\n",
    "plt.xlabel('Orders Qty', labelpad=14)\n",
    "plt.title('Purchase Time Zones', y=1.02)"
   ]
  },
  {
   "cell_type": "markdown",
   "metadata": {},
   "source": [
    "- on conclue à une répartition homogène des achats par moment de la semaine"
   ]
  },
  {
   "cell_type": "code",
   "execution_count": null,
   "metadata": {},
   "outputs": [],
   "source": []
  },
  {
   "cell_type": "markdown",
   "metadata": {},
   "source": [
    "# PCA\n",
    "On déroule une PCA en commençant par les features selectionnés"
   ]
  },
  {
   "cell_type": "code",
   "execution_count": null,
   "metadata": {},
   "outputs": [],
   "source": [
    "data_selection.sample(3)"
   ]
  },
  {
   "cell_type": "code",
   "execution_count": null,
   "metadata": {},
   "outputs": [],
   "source": [
    "# aperçu sur 2 dimensions\n",
    "pca = PCA(n_components=2)\n",
    "pca_n2 = pca.fit_transform(data_selection)\n",
    "pca_df = pd.DataFrame(\n",
    "    data=pca_n2, columns=['F1',\n",
    "                          'F2'])"
   ]
  },
  {
   "cell_type": "code",
   "execution_count": null,
   "metadata": {},
   "outputs": [],
   "source": [
    "# afficher les données selon les 2 dimensions\n",
    "plt.scatter(pca_df['F1'], pca_df['F2'], alpha=.2)"
   ]
  },
  {
   "cell_type": "code",
   "execution_count": null,
   "metadata": {},
   "outputs": [],
   "source": [
    "# variance\n",
    "print(pca.explained_variance_ratio_)\n",
    "print(sum(pca.explained_variance_ratio_))"
   ]
  },
  {
   "cell_type": "code",
   "execution_count": null,
   "metadata": {
    "scrolled": false
   },
   "outputs": [],
   "source": [
    "# contribution des variables aux 2 composantes\n",
    "pcs = pca.components_\n",
    "\n",
    "fig = plt.figure(figsize=(10, 10))\n",
    "for i, (x, y) in enumerate(zip(pcs[0, :], pcs[1, :])):\n",
    "    plt.plot([0, x], [0, y])\n",
    "    plt.text(x, y, data_selection.columns[i])\n",
    "plt.plot([-1.1, 1.1], [0, 0], color='grey', ls='--')\n",
    "plt.plot([0, 0], [-1.1, 1.1], color='grey', ls='--')\n",
    "plt.xlim([-1.1, 1.1])\n",
    "plt.ylim([-1.1, 1.1])"
   ]
  },
  {
   "cell_type": "code",
   "execution_count": null,
   "metadata": {},
   "outputs": [],
   "source": [
    "# avec 3 composants\n",
    "pca = PCA(n_components=3)\n",
    "principalComponents = pca.fit_transform(data_selection)\n",
    "principalDf = pd.DataFrame(\n",
    "    data=principalComponents, columns=['F1',\n",
    "                                       'F2',\n",
    "                                       'F3'])"
   ]
  },
  {
   "cell_type": "code",
   "execution_count": null,
   "metadata": {},
   "outputs": [],
   "source": [
    "# afficher les données selon les 3 dimensions\n",
    "fig = plt.figure(figsize=(15, 15))\n",
    "ax = fig.add_subplot(1, 1, 1, projection='3d')\n",
    "ax.set_xlabel('F1', fontsize=15)\n",
    "ax.set_ylabel('F2', fontsize=15)\n",
    "ax.set_zlabel('F3', fontsize=15)\n",
    "ax.set_title('PCA n_components=3', fontsize=20)\n",
    "\n",
    "ax.scatter(principalDf['F1'],\n",
    "           principalDf['F2'],\n",
    "           principalDf['F3'],\n",
    "           s=60,\n",
    "           alpha=0.2)\n",
    "ax.grid()"
   ]
  },
  {
   "cell_type": "code",
   "execution_count": null,
   "metadata": {},
   "outputs": [],
   "source": [
    "# variance\n",
    "print(pca.explained_variance_ratio_)\n",
    "print(sum(pca.explained_variance_ratio_))"
   ]
  },
  {
   "cell_type": "code",
   "execution_count": null,
   "metadata": {},
   "outputs": [],
   "source": [
    "# nombre optimal de components\n",
    "pca = PCA()\n",
    "pca.fit(data_selection)\n",
    "cumsum = np.cumsum(pca.explained_variance_ratio_)"
   ]
  },
  {
   "cell_type": "code",
   "execution_count": null,
   "metadata": {},
   "outputs": [],
   "source": [
    "def display_scree_plot(pca):\n",
    "    scree = pca.explained_variance_ratio_*100\n",
    "    plt.bar(np.arange(len(scree))+1, scree)\n",
    "    plt.plot(np.arange(len(scree))+1, scree.cumsum(), c=\"red\", marker='o')\n",
    "    plt.xlabel(\"rang de l'axe d'inertie\")\n",
    "    plt.ylabel(\"pourcentage d'inertie\")\n",
    "    plt.title(\"Eboulis des valeurs propres\")\n",
    "    plt.show(block=False)\n"
   ]
  },
  {
   "cell_type": "code",
   "execution_count": null,
   "metadata": {
    "scrolled": true
   },
   "outputs": [],
   "source": [
    "display_scree_plot(pca)"
   ]
  },
  {
   "cell_type": "code",
   "execution_count": null,
   "metadata": {},
   "outputs": [],
   "source": [
    "# projection des données sur les features\n",
    "data_wide_selection = data.filter(std_feature_selection + cat_feat_order)\n",
    "data_wide_selection.shape"
   ]
  },
  {
   "cell_type": "code",
   "execution_count": null,
   "metadata": {},
   "outputs": [],
   "source": [
    "names = []\n",
    "for i in range(1, 5):\n",
    "    elt = 'F' + str(i)\n",
    "    names.append(elt)"
   ]
  },
  {
   "cell_type": "code",
   "execution_count": null,
   "metadata": {},
   "outputs": [],
   "source": [
    "pca_optimal = PCA(n_components=4)\n",
    "principalComponents_optimal = pca_optimal.fit_transform(data_selection)\n",
    "data_optimal = pd.DataFrame(\n",
    "    data=principalComponents_optimal, columns=names, index=data_selection.index)"
   ]
  },
  {
   "cell_type": "code",
   "execution_count": null,
   "metadata": {},
   "outputs": [],
   "source": [
    "data_optimal.head(5)"
   ]
  },
  {
   "cell_type": "code",
   "execution_count": null,
   "metadata": {},
   "outputs": [],
   "source": [
    "sum(pca_optimal.explained_variance_ratio_)"
   ]
  },
  {
   "cell_type": "markdown",
   "metadata": {},
   "source": [
    "# K - Means"
   ]
  },
  {
   "cell_type": "markdown",
   "metadata": {},
   "source": [
    "on réalise un clustering k-means sur les données transformées / PCA"
   ]
  },
  {
   "cell_type": "code",
   "execution_count": null,
   "metadata": {},
   "outputs": [],
   "source": [
    "sse = {}\n",
    "# silhouette = {}\n",
    "dbs = {}\n",
    "for k in range(2, 8):\n",
    "    kmeans = KMeans(n_clusters=k, random_state=42)\n",
    "    kmeans.fit_predict(data_optimal)\n",
    "    # silhouette[k] = metrics.silhouette_score(data_optimal,\n",
    "    #                                         kmeans.labels_)\n",
    "    sse[k] = kmeans.inertia_\n",
    "    dbs[k] = metrics.davies_bouldin_score(\n",
    "        data_optimal,\n",
    "        kmeans.labels_)"
   ]
  },
  {
   "cell_type": "code",
   "execution_count": null,
   "metadata": {
    "scrolled": true
   },
   "outputs": [],
   "source": [
    "fig, ax1 = plt.subplots()\n",
    "ax2 = ax1.twinx()\n",
    "ax1.grid(False)\n",
    "ax2.grid(False)\n",
    "ax1.plot(list(sse.keys()),\n",
    "         list(sse.values()),\n",
    "         'v-',\n",
    "         markersize=10,\n",
    "         color='steelblue')\n",
    "ax2.plot(list(dbs.keys()),\n",
    "         list(dbs.values()),\n",
    "         '^-',\n",
    "         markersize=10,\n",
    "         color='red')\n",
    "ax1.set_xlabel('Nb of clusters')\n",
    "ax1.set_ylabel('Elbow criterion', color='steelblue')\n",
    "ax2.set_ylabel('Davies-Bouldin score', color='red')\n",
    "plt.show()"
   ]
  },
  {
   "cell_type": "code",
   "execution_count": null,
   "metadata": {},
   "outputs": [],
   "source": [
    "# plt.title('Silhouette Score')\n",
    "# sns.pointplot(x=list(silhouette.keys()), y=list(silhouette.values()))"
   ]
  },
  {
   "cell_type": "code",
   "execution_count": null,
   "metadata": {},
   "outputs": [],
   "source": [
    "kmeans_optimal = KMeans(n_clusters=3, random_state=42)\n",
    "kmeans_optimal.fit_predict(data_optimal)"
   ]
  },
  {
   "cell_type": "code",
   "execution_count": null,
   "metadata": {},
   "outputs": [],
   "source": [
    "kmeans_optimal.inertia_"
   ]
  },
  {
   "cell_type": "code",
   "execution_count": null,
   "metadata": {
    "scrolled": true
   },
   "outputs": [],
   "source": [
    "# afficher les données selon les 2 dimensions\n",
    "plt.scatter(data_optimal['F1'], data_optimal['F2'], c=kmeans_optimal.labels_.astype(np.float), cmap='viridis', alpha=.2)"
   ]
  },
  {
   "cell_type": "code",
   "execution_count": null,
   "metadata": {},
   "outputs": [],
   "source": [
    "metrics.silhouette_score(data_optimal, kmeans_optimal.labels_)"
   ]
  },
  {
   "cell_type": "markdown",
   "metadata": {},
   "source": [
    "- K-means à partir de données sans PCA"
   ]
  },
  {
   "cell_type": "code",
   "execution_count": null,
   "metadata": {},
   "outputs": [],
   "source": [
    "sse = {}\n",
    "# silhouette = {}\n",
    "dbs = {}\n",
    "for k in range(2, 8):\n",
    "    kmeans = KMeans(n_clusters=k, random_state=42)\n",
    "    kmeans.fit_predict(data_selection)\n",
    "    # silhouette[k] = metrics.silhouette_score(data_selection,\n",
    "    #                                         kmeans.labels_)\n",
    "    sse[k] = kmeans.inertia_\n",
    "    dbs[k] = metrics.davies_bouldin_score(\n",
    "        data_selection,\n",
    "        kmeans.labels_)"
   ]
  },
  {
   "cell_type": "code",
   "execution_count": null,
   "metadata": {
    "scrolled": false
   },
   "outputs": [],
   "source": [
    "fig, ax1 = plt.subplots()\n",
    "ax2 = ax1.twinx()\n",
    "ax1.grid(False)\n",
    "ax2.grid(False)\n",
    "ax1.plot(list(sse.keys()),\n",
    "         list(sse.values()),\n",
    "         'v-',\n",
    "         markersize=10,\n",
    "         color='steelblue')\n",
    "ax2.plot(list(dbs.keys()),\n",
    "         list(dbs.values()),\n",
    "         '^-',\n",
    "         markersize=10,\n",
    "         color='red')\n",
    "ax1.set_xlabel('Nb of clusters')\n",
    "ax1.set_ylabel('Elbow criterion', color='steelblue')\n",
    "ax2.set_ylabel('Davies-Bouldin score', color='red')\n",
    "plt.show()"
   ]
  },
  {
   "cell_type": "code",
   "execution_count": null,
   "metadata": {},
   "outputs": [],
   "source": [
    "plt.title('Davies-Bouldin Score')\n",
    "sns.pointplot(x=list(dbs.keys()), y=list(dbs.values()))"
   ]
  },
  {
   "cell_type": "code",
   "execution_count": null,
   "metadata": {},
   "outputs": [],
   "source": [
    "kmeans_optimal = KMeans(n_clusters=2, random_state=42)\n",
    "kmeans_optimal.fit_predict(data_selection)"
   ]
  },
  {
   "cell_type": "code",
   "execution_count": null,
   "metadata": {},
   "outputs": [],
   "source": [
    "kmeans_optimal.inertia_"
   ]
  },
  {
   "cell_type": "code",
   "execution_count": null,
   "metadata": {},
   "outputs": [],
   "source": [
    "data_selection"
   ]
  },
  {
   "cell_type": "code",
   "execution_count": null,
   "metadata": {},
   "outputs": [],
   "source": [
    "N_RG_payment_total\n",
    "N_RG_freight_percentage\n",
    "N_RG_charm_price\n",
    "N_RG_review_gap\n",
    "N_RG_delivery_vs_estimated\n",
    "N_RG_cust_sell_dist"
   ]
  },
  {
   "cell_type": "code",
   "execution_count": null,
   "metadata": {},
   "outputs": [],
   "source": [
    "fig = plt.figure()\n",
    "ax = Axes3D(fig)\n",
    "ax.scatter(data_selection['N_RG_payment_total'],\n",
    "           data_selection['N_RG_freight_percentage'],\n",
    "           data_selection['N_RG_cust_sell_dist'],\n",
    "           cmap='plasma',\n",
    "           c=kmeans_optimal.labels_)\n",
    "ax.view_init(elev=10, azim=45)\n",
    "ax.set_xlabel('Rank-Gaussed Payment Total', labelpad=15)\n",
    "ax.set_ylabel('Rank-Gaussed Freight Percentage', labelpad=15)\n",
    "ax.set_zlabel('Rank-Gaussed Cust_Sell distance')"
   ]
  },
  {
   "cell_type": "code",
   "execution_count": null,
   "metadata": {},
   "outputs": [],
   "source": [
    "fig = plt.figure()\n",
    "ax = Axes3D(fig)\n",
    "ax.scatter(data_selection['N_RG_payment_total'],\n",
    "           data_selection['N_RG_review_gap'],\n",
    "           data_selection['N_RG_delivery_vs_estimated'],\n",
    "           cmap='plasma',\n",
    "           c=kmeans_optimal.labels_)\n",
    "ax.view_init(elev=10, azim=45)\n",
    "ax.set_xlabel('Rank-Gaussed Payment Total', labelpad=15)\n",
    "ax.set_ylabel('Rank-Gaussed Review Gap', labelpad=15)\n",
    "ax.set_zlabel('Rank-Gaussed Delivery vs Estimated')"
   ]
  },
  {
   "cell_type": "markdown",
   "metadata": {},
   "source": [
    "# DBSCAN"
   ]
  },
  {
   "cell_type": "code",
   "execution_count": null,
   "metadata": {},
   "outputs": [],
   "source": [
    "data_sample_20 = pd.DataFrame(data_selection).sample(\n",
    "    int(data_selection.shape[0]/5),\n",
    "    random_state=42)\n",
    "data_sample_20.shape"
   ]
  },
  {
   "cell_type": "code",
   "execution_count": null,
   "metadata": {
    "scrolled": true
   },
   "outputs": [],
   "source": [
    "data_sample_20.sample(3)"
   ]
  },
  {
   "cell_type": "code",
   "execution_count": null,
   "metadata": {},
   "outputs": [],
   "source": [
    "# Compute DBSCAN\n",
    "db = DBSCAN(eps=1.7, min_samples=8, metric='cityblock').fit(data_sample_20)\n",
    "labels = db.labels_"
   ]
  },
  {
   "cell_type": "code",
   "execution_count": null,
   "metadata": {},
   "outputs": [],
   "source": [
    "# Number of clusters in labels, ignoring noise if present.\n",
    "n_clusters_ = len(set(labels)) - (1 if -1 in labels else 0)\n",
    "n_noise_ = list(labels).count(-1)\n",
    "print('Estimated number of clusters: %d' % n_clusters_)\n",
    "print('Estimated number of noise points: %d' % n_noise_)"
   ]
  },
  {
   "cell_type": "code",
   "execution_count": null,
   "metadata": {},
   "outputs": [],
   "source": [
    "print('Silhouette Coefficient: %0.3f'\n",
    "      % metrics.silhouette_score(data_sample_20, labels))"
   ]
  },
  {
   "cell_type": "code",
   "execution_count": null,
   "metadata": {},
   "outputs": [],
   "source": [
    "data_sample_20['cluster_dbscan'] = labels"
   ]
  },
  {
   "cell_type": "code",
   "execution_count": null,
   "metadata": {},
   "outputs": [],
   "source": [
    "data_sample_20['cluster_dbscan'].unique()"
   ]
  },
  {
   "cell_type": "code",
   "execution_count": null,
   "metadata": {},
   "outputs": [],
   "source": [
    "# observer la répartition des effectifs dans les clusters\n",
    "data_sample_20['cluster_dbscan'].value_counts(sort=False).plot(\n",
    "    kind='barh',\n",
    "    color='steelblue',\n",
    "    figsize=(5, 5)).invert_yaxis()\n",
    "plt.xlabel('Cluster pop', labelpad=14)\n",
    "plt.title('Cluster nb', y=1.02)"
   ]
  },
  {
   "cell_type": "markdown",
   "metadata": {},
   "source": [
    "# K-Modes"
   ]
  },
  {
   "cell_type": "markdown",
   "metadata": {},
   "source": [
    "Technique de Clustering dédiée aux features catégoriels. Son inconvenient majeur dans notre contexte, est que la proximité des catégories est perdue : dans le cas de plus de 2 catégories, cela implique que l'algorythme trouvera la même différence, par exemple, entre below median et over median, qu'entre below median et median, tandis que dans les faits, il y a une progression de below median vers over median.\n",
    "\n",
    "Le principal intérêt est de fournir une description sans équivoque des centroids et une caractéristation très simple des clusters ainsis formés."
   ]
  },
  {
   "cell_type": "code",
   "execution_count": null,
   "metadata": {},
   "outputs": [],
   "source": [
    "# projection des données sur les features\n",
    "mode_selection = ['eq_payment_lvl', 'price_charmed', 'purchase_time_zone', 'product_review_mean_lvl']\n",
    "data_mode_selection = data.filter(mode_selection)\n",
    "data_mode_selection.shape"
   ]
  },
  {
   "cell_type": "code",
   "execution_count": null,
   "metadata": {},
   "outputs": [],
   "source": [
    "data_mode_selection.sample(3)"
   ]
  },
  {
   "cell_type": "code",
   "execution_count": null,
   "metadata": {},
   "outputs": [],
   "source": [
    "km = KModes(n_clusters=4, init='Huang', n_init=50, verbose=1)"
   ]
  },
  {
   "cell_type": "code",
   "execution_count": null,
   "metadata": {
    "scrolled": true
   },
   "outputs": [],
   "source": [
    "clusters = km.fit_predict(data_mode_selection)"
   ]
  },
  {
   "cell_type": "code",
   "execution_count": null,
   "metadata": {},
   "outputs": [],
   "source": [
    "# Print the cluster centroids\n",
    "print(km.cluster_centroids_)"
   ]
  },
  {
   "cell_type": "code",
   "execution_count": null,
   "metadata": {},
   "outputs": [],
   "source": [
    "# Print the cluster centroids\n",
    "print(km.cluster_centroids_)"
   ]
  },
  {
   "cell_type": "code",
   "execution_count": null,
   "metadata": {},
   "outputs": [],
   "source": [
    "# Print the cluster centroids\n",
    "print(km.cluster_centroids_)"
   ]
  },
  {
   "cell_type": "code",
   "execution_count": null,
   "metadata": {},
   "outputs": [],
   "source": [
    "km10 = KModes(n_clusters=5, init='Huang', n_init=10, verbose=1)"
   ]
  },
  {
   "cell_type": "code",
   "execution_count": null,
   "metadata": {},
   "outputs": [],
   "source": [
    "clusters10 = km10.fit_predict(data_mode_selection)"
   ]
  },
  {
   "cell_type": "code",
   "execution_count": null,
   "metadata": {},
   "outputs": [],
   "source": [
    "# Print the cluster centroids\n",
    "print(km10.cluster_centroids_)"
   ]
  },
  {
   "cell_type": "code",
   "execution_count": null,
   "metadata": {},
   "outputs": [],
   "source": [
    "km10.labels_"
   ]
  },
  {
   "cell_type": "code",
   "execution_count": null,
   "metadata": {},
   "outputs": [],
   "source": [
    "KModeClust = data.copy()"
   ]
  },
  {
   "cell_type": "code",
   "execution_count": null,
   "metadata": {},
   "outputs": [],
   "source": [
    "KModeClust['clusters'] = km10.labels_"
   ]
  },
  {
   "cell_type": "code",
   "execution_count": null,
   "metadata": {
    "scrolled": true
   },
   "outputs": [],
   "source": [
    "# observer la répartition des effectifs dans les clusters\n",
    "KModeClust['clusters'].value_counts(sort=False).plot(\n",
    "    kind='barh',\n",
    "    color='steelblue',\n",
    "    figsize=(5, 5)).invert_yaxis()\n",
    "plt.xlabel('Cluster pop', labelpad=14)\n",
    "plt.title('Cluster nb', y=1.02)"
   ]
  },
  {
   "cell_type": "code",
   "execution_count": null,
   "metadata": {},
   "outputs": [],
   "source": [
    "fig = plt.figure()\n",
    "ax = Axes3D(fig)\n",
    "ax.scatter(KModeClust['N_RG_payment_total'],\n",
    "           KModeClust['N_RG_freight_percentage'],\n",
    "           KModeClust['N_RG_cust_sell_dist'],\n",
    "           cmap='plasma',\n",
    "           c=KModeClust['clusters'])\n",
    "ax.view_init(elev=10, azim=45)\n",
    "ax.set_xlabel('Rank-Gaussed Payment Total', labelpad=15)\n",
    "ax.set_ylabel('Rank-Gaussed Freight Percentage', labelpad=15)\n",
    "ax.set_zlabel('Rank-Gaussed Cust_Sell distance')"
   ]
  },
  {
   "cell_type": "code",
   "execution_count": null,
   "metadata": {},
   "outputs": [],
   "source": [
    "fig = plt.figure()\n",
    "ax = Axes3D(fig)\n",
    "ax.scatter(KModeClust['N_RG_payment_total'],\n",
    "           KModeClust['N_RG_review_gap'],\n",
    "           data_selection['N_RG_cust_sell_dist'],\n",
    "           cmap='plasma',\n",
    "           c=KModeClust['clusters'])\n",
    "ax.view_init(elev=10, azim=45)\n",
    "ax.set_xlabel('Rank-Gaussed Payment Total', labelpad=15)\n",
    "ax.set_ylabel('Rank-Gaussed Freight Percentage', labelpad=15)\n",
    "ax.set_zlabel('Rank-Gaussed Cust_Sell distance')"
   ]
  },
  {
   "cell_type": "code",
   "execution_count": null,
   "metadata": {},
   "outputs": [],
   "source": [
    "KModeClust.groupby('purchase_time_zone').clusters.value_counts().plot(\n",
    "        kind='barh',\n",
    "        color='steelblue',\n",
    "        figsize=(5, 5)).invert_yaxis()\n",
    "plt.xlabel('Orders Qty', labelpad=14)\n",
    "plt.title('Purchase Time Zones', y=1.02)"
   ]
  },
  {
   "cell_type": "code",
   "execution_count": null,
   "metadata": {},
   "outputs": [],
   "source": []
  }
 ],
 "metadata": {
  "kernelspec": {
   "display_name": "Python 3",
   "language": "python",
   "name": "python3"
  },
  "language_info": {
   "codemirror_mode": {
    "name": "ipython",
    "version": 3
   },
   "file_extension": ".py",
   "mimetype": "text/x-python",
   "name": "python",
   "nbconvert_exporter": "python",
   "pygments_lexer": "ipython3",
   "version": "3.7.4"
  }
 },
 "nbformat": 4,
 "nbformat_minor": 2
}
