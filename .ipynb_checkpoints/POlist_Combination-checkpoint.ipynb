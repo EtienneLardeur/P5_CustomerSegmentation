{
 "cells": [
  {
   "cell_type": "code",
   "execution_count": 1,
   "metadata": {},
   "outputs": [],
   "source": [
    "%load_ext pycodestyle_magic\n",
    "%flake8_on\n",
    "# la convention PEP8 est ainsi testée"
   ]
  },
  {
   "cell_type": "code",
   "execution_count": 109,
   "metadata": {},
   "outputs": [
    {
     "name": "stderr",
     "output_type": "stream",
     "text": [
      "7:80: E501 line too long (98 > 79 characters)\n",
      "8:80: E501 line too long (92 > 79 characters)\n",
      "1: E999 SyntaxError: invalid syntax\n"
     ]
    }
   ],
   "source": [
    "import numpy as np\n",
    "import pandas as pd\n",
    "import matplotlib.pyplot as plt\n",
    "import plotly.graph_objects as go\n",
    "import seaborn as sns\n",
    "from itertools import product, combinations\n",
    "from sklearn.preprocessing import StandardScaler, QuantileTransformer, LabelEncoder, OneHotEncoder\n",
    "from sklearn.compose import ColumnTransformer, make_column_transformer, make_column_selector\n",
    "from sklearn.cluster import KMeans\n",
    "from sklearn.cluster import AgglomerativeClustering\n",
    "from sklearn.decomposition import PCA\n",
    "from sklearn.metrics import silhouette_score as sisc\n",
    "from sklearn.metrics import davies_bouldin_score as dbsc\n",
    "from sklearn.pipeline import Pipeline\n",
    "from sklearn.preprocessing import LabelEncoder, MinMaxScaler\n",
    "from mlxtend.feature_selection import SequentialFeatureSelector as SFS\n",
    "# home made\n",
    "import functions\n",
    "from functions import distribution\n",
    "import time\n",
    "%matplotlib inline"
   ]
  },
  {
   "cell_type": "code",
   "execution_count": 7,
   "metadata": {},
   "outputs": [],
   "source": [
    "# read the data\n",
    "data = pd.read_csv('Data/data.csv')"
   ]
  },
  {
   "cell_type": "code",
   "execution_count": 9,
   "metadata": {},
   "outputs": [
    {
     "data": {
      "text/plain": [
       "Index(['order_purchase_year', 'order_purchase_month', 'purchase_time_zone_cat',\n",
       "       'effective_delivery_time', 'delivery_vs_estimated',\n",
       "       'delivery_vs_estimated_lvl', 'items_qty', 'products_qty', 'total_price',\n",
       "       'freight_percentage', 'freight_percentage_lvl', 'total_price_lvl',\n",
       "       'charmed_price_cat', 'product_name_length',\n",
       "       'product_description_length', 'product_photos_qty', 'product_weight_g',\n",
       "       'product_size', 'product_photos_qty_lvl', 'product_cat',\n",
       "       'main_payment_type', 'payment_sequence_size',\n",
       "       'payment_installments_size', 'payment_sequence_size_cat',\n",
       "       'payment_installment_size_cat', 'main_payment_type_cat', 'payment_lvl',\n",
       "       'seller_state', 'customer_unique_id', 'customer_state',\n",
       "       'cust_sell_dist', 'cust_sell_dist_lvl', 'review_answer_delay',\n",
       "       'review_answer_delay_lvl', 'product_review_mean',\n",
       "       'product_review_mean_lvl', 'customer_review_mean', 'review_gap',\n",
       "       'review_gap_lvl'],\n",
       "      dtype='object')"
      ]
     },
     "execution_count": 9,
     "metadata": {},
     "output_type": "execute_result"
    }
   ],
   "source": [
    "# show the list of features\n",
    "data.columns"
   ]
  },
  {
   "cell_type": "code",
   "execution_count": 10,
   "metadata": {},
   "outputs": [],
   "source": [
    "# subset of numerical_features\n",
    "numerical_features = data.select_dtypes(include='number').columns"
   ]
  },
  {
   "cell_type": "code",
   "execution_count": 11,
   "metadata": {},
   "outputs": [
    {
     "data": {
      "text/plain": [
       "Index(['order_purchase_year', 'order_purchase_month',\n",
       "       'effective_delivery_time', 'delivery_vs_estimated', 'total_price',\n",
       "       'freight_percentage', 'product_name_length',\n",
       "       'product_description_length', 'product_photos_qty', 'product_weight_g',\n",
       "       'product_size', 'product_photos_qty_lvl', 'payment_sequence_size',\n",
       "       'payment_installments_size', 'cust_sell_dist', 'review_answer_delay',\n",
       "       'product_review_mean', 'customer_review_mean', 'review_gap'],\n",
       "      dtype='object')"
      ]
     },
     "execution_count": 11,
     "metadata": {},
     "output_type": "execute_result"
    }
   ],
   "source": [
    "# show subset\n",
    "numerical_features"
   ]
  },
  {
   "cell_type": "code",
   "execution_count": 13,
   "metadata": {},
   "outputs": [
    {
     "data": {
      "text/plain": [
       "(87086, 19)"
      ]
     },
     "execution_count": 13,
     "metadata": {},
     "output_type": "execute_result"
    }
   ],
   "source": [
    "# create a dedicated df\n",
    "data_filtered = data.filter(numerical_features)\n",
    "data_filtered.shape"
   ]
  },
  {
   "cell_type": "code",
   "execution_count": 15,
   "metadata": {},
   "outputs": [
    {
     "data": {
      "text/plain": [
       "['order_purchase_year',\n",
       " 'order_purchase_month',\n",
       " 'effective_delivery_time',\n",
       " 'delivery_vs_estimated',\n",
       " 'total_price',\n",
       " 'freight_percentage',\n",
       " 'product_name_length',\n",
       " 'product_description_length',\n",
       " 'product_photos_qty',\n",
       " 'product_weight_g',\n",
       " 'product_size',\n",
       " 'product_photos_qty_lvl',\n",
       " 'payment_sequence_size',\n",
       " 'payment_installments_size',\n",
       " 'cust_sell_dist',\n",
       " 'review_answer_delay',\n",
       " 'product_review_mean',\n",
       " 'customer_review_mean',\n",
       " 'review_gap']"
      ]
     },
     "execution_count": 15,
     "metadata": {},
     "output_type": "execute_result"
    }
   ],
   "source": [
    "initial_features = data_filtered.columns.tolist()\n",
    "initial_features"
   ]
  },
  {
   "cell_type": "code",
   "execution_count": 16,
   "metadata": {},
   "outputs": [],
   "source": [
    "# define transformer for initial_features\n",
    "numerical_pipeline = Pipeline(\n",
    "    steps=[\n",
    "        ('rankgauss', QuantileTransformer(n_quantiles=100,\n",
    "                                          random_state=111,\n",
    "                                          output_distribution='normal')),\n",
    "        ('scaler', StandardScaler())\n",
    "    ]\n",
    ")"
   ]
  },
  {
   "cell_type": "code",
   "execution_count": 17,
   "metadata": {},
   "outputs": [],
   "source": [
    "mytransformer = ColumnTransformer(\n",
    "    transformers=[\n",
    "        ('num', numerical_pipeline, numerical_features)])"
   ]
  },
  {
   "cell_type": "code",
   "execution_count": 18,
   "metadata": {},
   "outputs": [
    {
     "data": {
      "text/plain": [
       "ColumnTransformer(transformers=[('num',\n",
       "                                 Pipeline(steps=[('rankgauss',\n",
       "                                                  QuantileTransformer(n_quantiles=100,\n",
       "                                                                      output_distribution='normal',\n",
       "                                                                      random_state=111)),\n",
       "                                                 ('scaler', StandardScaler())]),\n",
       "                                 Index(['order_purchase_year', 'order_purchase_month',\n",
       "       'effective_delivery_time', 'delivery_vs_estimated', 'total_price',\n",
       "       'freight_percentage', 'product_name_length',\n",
       "       'product_description_length', 'product_photos_qty', 'product_weight_g',\n",
       "       'product_size', 'product_photos_qty_lvl', 'payment_sequence_size',\n",
       "       'payment_installments_size', 'cust_sell_dist', 'review_answer_delay',\n",
       "       'product_review_mean', 'customer_review_mean', 'review_gap'],\n",
       "      dtype='object'))])"
      ]
     },
     "execution_count": 18,
     "metadata": {},
     "output_type": "execute_result"
    }
   ],
   "source": [
    "mytransformer.fit(data_filtered)"
   ]
  },
  {
   "cell_type": "code",
   "execution_count": 54,
   "metadata": {},
   "outputs": [],
   "source": [
    "data_preped = pd.DataFrame(mytransformer.transform(data_filtered))"
   ]
  },
  {
   "cell_type": "code",
   "execution_count": 56,
   "metadata": {},
   "outputs": [],
   "source": [
    "data_preped.columns = initial_features"
   ]
  },
  {
   "cell_type": "code",
   "execution_count": 58,
   "metadata": {},
   "outputs": [
    {
     "data": {
      "text/html": [
       "<div>\n",
       "<style scoped>\n",
       "    .dataframe tbody tr th:only-of-type {\n",
       "        vertical-align: middle;\n",
       "    }\n",
       "\n",
       "    .dataframe tbody tr th {\n",
       "        vertical-align: top;\n",
       "    }\n",
       "\n",
       "    .dataframe thead th {\n",
       "        text-align: right;\n",
       "    }\n",
       "</style>\n",
       "<table border=\"1\" class=\"dataframe\">\n",
       "  <thead>\n",
       "    <tr style=\"text-align: right;\">\n",
       "      <th></th>\n",
       "      <th>order_purchase_year</th>\n",
       "      <th>order_purchase_month</th>\n",
       "      <th>effective_delivery_time</th>\n",
       "      <th>delivery_vs_estimated</th>\n",
       "      <th>total_price</th>\n",
       "      <th>freight_percentage</th>\n",
       "      <th>product_name_length</th>\n",
       "      <th>product_description_length</th>\n",
       "      <th>product_photos_qty</th>\n",
       "      <th>product_weight_g</th>\n",
       "      <th>product_size</th>\n",
       "      <th>product_photos_qty_lvl</th>\n",
       "      <th>payment_sequence_size</th>\n",
       "      <th>payment_installments_size</th>\n",
       "      <th>cust_sell_dist</th>\n",
       "      <th>review_answer_delay</th>\n",
       "      <th>product_review_mean</th>\n",
       "      <th>customer_review_mean</th>\n",
       "      <th>review_gap</th>\n",
       "    </tr>\n",
       "  </thead>\n",
       "  <tbody>\n",
       "    <tr>\n",
       "      <td>count</td>\n",
       "      <td>8.708600e+04</td>\n",
       "      <td>8.708600e+04</td>\n",
       "      <td>8.708600e+04</td>\n",
       "      <td>8.708600e+04</td>\n",
       "      <td>8.708600e+04</td>\n",
       "      <td>8.708600e+04</td>\n",
       "      <td>8.708600e+04</td>\n",
       "      <td>8.708600e+04</td>\n",
       "      <td>8.708600e+04</td>\n",
       "      <td>8.708600e+04</td>\n",
       "      <td>8.708600e+04</td>\n",
       "      <td>8.708600e+04</td>\n",
       "      <td>8.708600e+04</td>\n",
       "      <td>8.708600e+04</td>\n",
       "      <td>8.708600e+04</td>\n",
       "      <td>8.708600e+04</td>\n",
       "      <td>8.708600e+04</td>\n",
       "      <td>8.708600e+04</td>\n",
       "      <td>8.708600e+04</td>\n",
       "    </tr>\n",
       "    <tr>\n",
       "      <td>mean</td>\n",
       "      <td>6.062235e-14</td>\n",
       "      <td>3.683066e-14</td>\n",
       "      <td>-1.187196e-15</td>\n",
       "      <td>9.284325e-15</td>\n",
       "      <td>1.489213e-16</td>\n",
       "      <td>1.814863e-16</td>\n",
       "      <td>-1.791533e-16</td>\n",
       "      <td>6.712368e-16</td>\n",
       "      <td>-7.037233e-15</td>\n",
       "      <td>-2.141059e-15</td>\n",
       "      <td>-1.103483e-15</td>\n",
       "      <td>2.511412e-15</td>\n",
       "      <td>1.228637e-14</td>\n",
       "      <td>-1.964595e-14</td>\n",
       "      <td>-2.047142e-16</td>\n",
       "      <td>1.174484e-14</td>\n",
       "      <td>9.757014e-15</td>\n",
       "      <td>-1.059085e-14</td>\n",
       "      <td>3.303604e-15</td>\n",
       "    </tr>\n",
       "    <tr>\n",
       "      <td>std</td>\n",
       "      <td>1.000006e+00</td>\n",
       "      <td>1.000006e+00</td>\n",
       "      <td>1.000006e+00</td>\n",
       "      <td>1.000006e+00</td>\n",
       "      <td>1.000006e+00</td>\n",
       "      <td>1.000006e+00</td>\n",
       "      <td>1.000006e+00</td>\n",
       "      <td>1.000006e+00</td>\n",
       "      <td>1.000006e+00</td>\n",
       "      <td>1.000006e+00</td>\n",
       "      <td>1.000006e+00</td>\n",
       "      <td>1.000006e+00</td>\n",
       "      <td>1.000006e+00</td>\n",
       "      <td>1.000006e+00</td>\n",
       "      <td>1.000006e+00</td>\n",
       "      <td>1.000006e+00</td>\n",
       "      <td>1.000006e+00</td>\n",
       "      <td>1.000006e+00</td>\n",
       "      <td>1.000006e+00</td>\n",
       "    </tr>\n",
       "    <tr>\n",
       "      <td>min</td>\n",
       "      <td>-2.623186e+00</td>\n",
       "      <td>-2.523987e+00</td>\n",
       "      <td>-5.193537e+00</td>\n",
       "      <td>-5.274264e+00</td>\n",
       "      <td>-5.289825e+00</td>\n",
       "      <td>-5.060541e+00</td>\n",
       "      <td>-5.314113e+00</td>\n",
       "      <td>-5.232591e+00</td>\n",
       "      <td>-1.011288e+00</td>\n",
       "      <td>-5.308737e+00</td>\n",
       "      <td>-5.279569e+00</td>\n",
       "      <td>-9.632880e-01</td>\n",
       "      <td>-1.759306e-01</td>\n",
       "      <td>-1.007506e+00</td>\n",
       "      <td>-5.251989e+00</td>\n",
       "      <td>-1.738263e+00</td>\n",
       "      <td>-2.453369e+00</td>\n",
       "      <td>-2.135382e+00</td>\n",
       "      <td>-5.318465e+00</td>\n",
       "    </tr>\n",
       "    <tr>\n",
       "      <td>25%</td>\n",
       "      <td>-1.117117e+00</td>\n",
       "      <td>-3.534248e-01</td>\n",
       "      <td>-7.009177e-01</td>\n",
       "      <td>-7.404246e-01</td>\n",
       "      <td>-6.775506e-01</td>\n",
       "      <td>-6.454525e-01</td>\n",
       "      <td>-7.249562e-01</td>\n",
       "      <td>-6.840505e-01</td>\n",
       "      <td>-1.011288e+00</td>\n",
       "      <td>-6.367107e-01</td>\n",
       "      <td>-6.994170e-01</td>\n",
       "      <td>-9.632880e-01</td>\n",
       "      <td>-1.759306e-01</td>\n",
       "      <td>-1.007506e+00</td>\n",
       "      <td>-6.820158e-01</td>\n",
       "      <td>2.713963e-01</td>\n",
       "      <td>-5.699537e-01</td>\n",
       "      <td>-8.284289e-01</td>\n",
       "      <td>-6.926613e-01</td>\n",
       "    </tr>\n",
       "    <tr>\n",
       "      <td>50%</td>\n",
       "      <td>8.949978e-01</td>\n",
       "      <td>5.323856e-02</td>\n",
       "      <td>4.690491e-02</td>\n",
       "      <td>-3.699938e-02</td>\n",
       "      <td>7.194080e-03</td>\n",
       "      <td>1.294594e-02</td>\n",
       "      <td>3.240355e-02</td>\n",
       "      <td>1.118164e-03</td>\n",
       "      <td>7.881394e-01</td>\n",
       "      <td>2.150402e-02</td>\n",
       "      <td>-4.502342e-03</td>\n",
       "      <td>6.392514e-01</td>\n",
       "      <td>-1.759306e-01</td>\n",
       "      <td>7.649595e-01</td>\n",
       "      <td>-2.000162e-04</td>\n",
       "      <td>2.713963e-01</td>\n",
       "      <td>-2.876271e-01</td>\n",
       "      <td>7.753567e-01</td>\n",
       "      <td>-2.386314e-01</td>\n",
       "    </tr>\n",
       "    <tr>\n",
       "      <td>75%</td>\n",
       "      <td>8.949978e-01</td>\n",
       "      <td>3.315150e-01</td>\n",
       "      <td>6.775521e-01</td>\n",
       "      <td>7.103477e-01</td>\n",
       "      <td>6.821807e-01</td>\n",
       "      <td>6.636270e-01</td>\n",
       "      <td>7.048658e-01</td>\n",
       "      <td>6.733699e-01</td>\n",
       "      <td>9.328699e-01</td>\n",
       "      <td>6.841145e-01</td>\n",
       "      <td>6.861673e-01</td>\n",
       "      <td>7.681460e-01</td>\n",
       "      <td>-1.759306e-01</td>\n",
       "      <td>9.504758e-01</td>\n",
       "      <td>6.833031e-01</td>\n",
       "      <td>7.003100e-01</td>\n",
       "      <td>-6.086674e-03</td>\n",
       "      <td>7.753567e-01</td>\n",
       "      <td>6.810004e-01</td>\n",
       "    </tr>\n",
       "    <tr>\n",
       "      <td>max</td>\n",
       "      <td>8.949978e-01</td>\n",
       "      <td>2.605482e+00</td>\n",
       "      <td>5.186210e+00</td>\n",
       "      <td>5.277359e+00</td>\n",
       "      <td>5.291235e+00</td>\n",
       "      <td>5.081089e+00</td>\n",
       "      <td>5.327094e+00</td>\n",
       "      <td>5.229732e+00</td>\n",
       "      <td>2.435184e+00</td>\n",
       "      <td>5.300078e+00</td>\n",
       "      <td>5.278243e+00</td>\n",
       "      <td>2.106081e+00</td>\n",
       "      <td>8.053318e+00</td>\n",
       "      <td>2.444662e+00</td>\n",
       "      <td>5.253704e+00</td>\n",
       "      <td>2.489171e+00</td>\n",
       "      <td>1.879858e+00</td>\n",
       "      <td>7.753567e-01</td>\n",
       "      <td>5.311182e+00</td>\n",
       "    </tr>\n",
       "  </tbody>\n",
       "</table>\n",
       "</div>"
      ],
      "text/plain": [
       "       order_purchase_year  order_purchase_month  effective_delivery_time  \\\n",
       "count         8.708600e+04          8.708600e+04             8.708600e+04   \n",
       "mean          6.062235e-14          3.683066e-14            -1.187196e-15   \n",
       "std           1.000006e+00          1.000006e+00             1.000006e+00   \n",
       "min          -2.623186e+00         -2.523987e+00            -5.193537e+00   \n",
       "25%          -1.117117e+00         -3.534248e-01            -7.009177e-01   \n",
       "50%           8.949978e-01          5.323856e-02             4.690491e-02   \n",
       "75%           8.949978e-01          3.315150e-01             6.775521e-01   \n",
       "max           8.949978e-01          2.605482e+00             5.186210e+00   \n",
       "\n",
       "       delivery_vs_estimated   total_price  freight_percentage  \\\n",
       "count           8.708600e+04  8.708600e+04        8.708600e+04   \n",
       "mean            9.284325e-15  1.489213e-16        1.814863e-16   \n",
       "std             1.000006e+00  1.000006e+00        1.000006e+00   \n",
       "min            -5.274264e+00 -5.289825e+00       -5.060541e+00   \n",
       "25%            -7.404246e-01 -6.775506e-01       -6.454525e-01   \n",
       "50%            -3.699938e-02  7.194080e-03        1.294594e-02   \n",
       "75%             7.103477e-01  6.821807e-01        6.636270e-01   \n",
       "max             5.277359e+00  5.291235e+00        5.081089e+00   \n",
       "\n",
       "       product_name_length  product_description_length  product_photos_qty  \\\n",
       "count         8.708600e+04                8.708600e+04        8.708600e+04   \n",
       "mean         -1.791533e-16                6.712368e-16       -7.037233e-15   \n",
       "std           1.000006e+00                1.000006e+00        1.000006e+00   \n",
       "min          -5.314113e+00               -5.232591e+00       -1.011288e+00   \n",
       "25%          -7.249562e-01               -6.840505e-01       -1.011288e+00   \n",
       "50%           3.240355e-02                1.118164e-03        7.881394e-01   \n",
       "75%           7.048658e-01                6.733699e-01        9.328699e-01   \n",
       "max           5.327094e+00                5.229732e+00        2.435184e+00   \n",
       "\n",
       "       product_weight_g  product_size  product_photos_qty_lvl  \\\n",
       "count      8.708600e+04  8.708600e+04            8.708600e+04   \n",
       "mean      -2.141059e-15 -1.103483e-15            2.511412e-15   \n",
       "std        1.000006e+00  1.000006e+00            1.000006e+00   \n",
       "min       -5.308737e+00 -5.279569e+00           -9.632880e-01   \n",
       "25%       -6.367107e-01 -6.994170e-01           -9.632880e-01   \n",
       "50%        2.150402e-02 -4.502342e-03            6.392514e-01   \n",
       "75%        6.841145e-01  6.861673e-01            7.681460e-01   \n",
       "max        5.300078e+00  5.278243e+00            2.106081e+00   \n",
       "\n",
       "       payment_sequence_size  payment_installments_size  cust_sell_dist  \\\n",
       "count           8.708600e+04               8.708600e+04    8.708600e+04   \n",
       "mean            1.228637e-14              -1.964595e-14   -2.047142e-16   \n",
       "std             1.000006e+00               1.000006e+00    1.000006e+00   \n",
       "min            -1.759306e-01              -1.007506e+00   -5.251989e+00   \n",
       "25%            -1.759306e-01              -1.007506e+00   -6.820158e-01   \n",
       "50%            -1.759306e-01               7.649595e-01   -2.000162e-04   \n",
       "75%            -1.759306e-01               9.504758e-01    6.833031e-01   \n",
       "max             8.053318e+00               2.444662e+00    5.253704e+00   \n",
       "\n",
       "       review_answer_delay  product_review_mean  customer_review_mean  \\\n",
       "count         8.708600e+04         8.708600e+04          8.708600e+04   \n",
       "mean          1.174484e-14         9.757014e-15         -1.059085e-14   \n",
       "std           1.000006e+00         1.000006e+00          1.000006e+00   \n",
       "min          -1.738263e+00        -2.453369e+00         -2.135382e+00   \n",
       "25%           2.713963e-01        -5.699537e-01         -8.284289e-01   \n",
       "50%           2.713963e-01        -2.876271e-01          7.753567e-01   \n",
       "75%           7.003100e-01        -6.086674e-03          7.753567e-01   \n",
       "max           2.489171e+00         1.879858e+00          7.753567e-01   \n",
       "\n",
       "         review_gap  \n",
       "count  8.708600e+04  \n",
       "mean   3.303604e-15  \n",
       "std    1.000006e+00  \n",
       "min   -5.318465e+00  \n",
       "25%   -6.926613e-01  \n",
       "50%   -2.386314e-01  \n",
       "75%    6.810004e-01  \n",
       "max    5.311182e+00  "
      ]
     },
     "execution_count": 58,
     "metadata": {},
     "output_type": "execute_result"
    }
   ],
   "source": [
    "data_preped.describe()"
   ]
  },
  {
   "cell_type": "code",
   "execution_count": 59,
   "metadata": {},
   "outputs": [
    {
     "data": {
      "text/plain": [
       "(8708, 19)"
      ]
     },
     "execution_count": 59,
     "metadata": {},
     "output_type": "execute_result"
    }
   ],
   "source": [
    "# echantillonnage (10%)\n",
    "data_sample = pd.DataFrame(data_preped).sample(\n",
    "    int(data.shape[0]/10),\n",
    "    random_state=42)\n",
    "data_sample.shape"
   ]
  },
  {
   "cell_type": "code",
   "execution_count": 120,
   "metadata": {},
   "outputs": [],
   "source": [
    "# reduction à 3 features\n",
    "test_features = ['product_review_mean',\n",
    "                 'customer_review_mean',\n",
    "                 'review_gap']"
   ]
  },
  {
   "cell_type": "code",
   "execution_count": 121,
   "metadata": {},
   "outputs": [],
   "source": [
    "# define clusterer\n",
    "n_clusters = 3\n",
    "kmeans = KMeans(n_clusters=n_clusters)"
   ]
  },
  {
   "cell_type": "code",
   "execution_count": 75,
   "metadata": {},
   "outputs": [
    {
     "data": {
      "text/html": [
       "<div>\n",
       "<style scoped>\n",
       "    .dataframe tbody tr th:only-of-type {\n",
       "        vertical-align: middle;\n",
       "    }\n",
       "\n",
       "    .dataframe tbody tr th {\n",
       "        vertical-align: top;\n",
       "    }\n",
       "\n",
       "    .dataframe thead th {\n",
       "        text-align: right;\n",
       "    }\n",
       "</style>\n",
       "<table border=\"1\" class=\"dataframe\">\n",
       "  <thead>\n",
       "    <tr style=\"text-align: right;\">\n",
       "      <th></th>\n",
       "      <th>total_price</th>\n",
       "      <th>delivery_vs_estimated</th>\n",
       "      <th>review_gap</th>\n",
       "    </tr>\n",
       "  </thead>\n",
       "  <tbody>\n",
       "    <tr>\n",
       "      <td>57393</td>\n",
       "      <td>-1.860638</td>\n",
       "      <td>-0.435515</td>\n",
       "      <td>-1.001312</td>\n",
       "    </tr>\n",
       "    <tr>\n",
       "      <td>3137</td>\n",
       "      <td>-1.443629</td>\n",
       "      <td>-0.298213</td>\n",
       "      <td>-1.343230</td>\n",
       "    </tr>\n",
       "    <tr>\n",
       "      <td>58640</td>\n",
       "      <td>-1.908564</td>\n",
       "      <td>-0.036999</td>\n",
       "      <td>-1.434387</td>\n",
       "    </tr>\n",
       "    <tr>\n",
       "      <td>1368</td>\n",
       "      <td>1.509393</td>\n",
       "      <td>1.325664</td>\n",
       "      <td>0.791097</td>\n",
       "    </tr>\n",
       "    <tr>\n",
       "      <td>74708</td>\n",
       "      <td>-0.923687</td>\n",
       "      <td>0.274571</td>\n",
       "      <td>1.829320</td>\n",
       "    </tr>\n",
       "    <tr>\n",
       "      <td>...</td>\n",
       "      <td>...</td>\n",
       "      <td>...</td>\n",
       "      <td>...</td>\n",
       "    </tr>\n",
       "    <tr>\n",
       "      <td>86690</td>\n",
       "      <td>0.361535</td>\n",
       "      <td>0.710348</td>\n",
       "      <td>0.686991</td>\n",
       "    </tr>\n",
       "    <tr>\n",
       "      <td>2868</td>\n",
       "      <td>-0.002492</td>\n",
       "      <td>-1.210416</td>\n",
       "      <td>0.184120</td>\n",
       "    </tr>\n",
       "    <tr>\n",
       "      <td>10474</td>\n",
       "      <td>-1.192969</td>\n",
       "      <td>-0.901030</td>\n",
       "      <td>1.177009</td>\n",
       "    </tr>\n",
       "    <tr>\n",
       "      <td>74766</td>\n",
       "      <td>0.615894</td>\n",
       "      <td>0.274571</td>\n",
       "      <td>1.914394</td>\n",
       "    </tr>\n",
       "    <tr>\n",
       "      <td>82173</td>\n",
       "      <td>-2.441008</td>\n",
       "      <td>-1.210416</td>\n",
       "      <td>-0.762785</td>\n",
       "    </tr>\n",
       "  </tbody>\n",
       "</table>\n",
       "<p>8708 rows × 3 columns</p>\n",
       "</div>"
      ],
      "text/plain": [
       "       total_price  delivery_vs_estimated  review_gap\n",
       "57393    -1.860638              -0.435515   -1.001312\n",
       "3137     -1.443629              -0.298213   -1.343230\n",
       "58640    -1.908564              -0.036999   -1.434387\n",
       "1368      1.509393               1.325664    0.791097\n",
       "74708    -0.923687               0.274571    1.829320\n",
       "...            ...                    ...         ...\n",
       "86690     0.361535               0.710348    0.686991\n",
       "2868     -0.002492              -1.210416    0.184120\n",
       "10474    -1.192969              -0.901030    1.177009\n",
       "74766     0.615894               0.274571    1.914394\n",
       "82173    -2.441008              -1.210416   -0.762785\n",
       "\n",
       "[8708 rows x 3 columns]"
      ]
     },
     "execution_count": 75,
     "metadata": {},
     "output_type": "execute_result"
    }
   ],
   "source": [
    "data_sample[test_features]"
   ]
  },
  {
   "cell_type": "code",
   "execution_count": 76,
   "metadata": {},
   "outputs": [
    {
     "data": {
      "text/plain": [
       "array([0, 0, 0, ..., 2, 1, 0])"
      ]
     },
     "execution_count": 76,
     "metadata": {},
     "output_type": "execute_result"
    }
   ],
   "source": [
    "# fit to the data\n",
    "kmeans.fit_predict(data_sample[test_features])"
   ]
  },
  {
   "cell_type": "code",
   "execution_count": 94,
   "metadata": {},
   "outputs": [
    {
     "data": {
      "text/plain": [
       "0.23284920400143563"
      ]
     },
     "execution_count": 94,
     "metadata": {},
     "output_type": "execute_result"
    }
   ],
   "source": [
    "# get the silhouette score\n",
    "sisc(data_sample[test_features], kmeans.fit_predict(data_sample[test_features]))"
   ]
  },
  {
   "cell_type": "code",
   "execution_count": 122,
   "metadata": {},
   "outputs": [],
   "source": [
    "# create the forward selector\n",
    "\n",
    "def sisc_forward_selection(data, score_threshold):\n",
    "    \"\"\"\n",
    "    give the \"best features\",\n",
    "    according to silhouette_score\n",
    "    over a given score_threshold\n",
    "    \"\"\"\n",
    "\n",
    "    initial_features = data.columns.tolist()\n",
    "    best_features = []\n",
    "    while (len(initial_features) > 0):\n",
    "        remaining_features = list(set(initial_features)-set(best_features))\n",
    "        new_sisc = pd.Series(index=remaining_features)\n",
    "        for new_column in remaining_features:\n",
    "            new_sisc[new_column] = sisc(\n",
    "                data[best_features+[new_column]],\n",
    "                kmeans.fit_predict(data[best_features+[new_column]])\n",
    "            )\n",
    "        max_sisc = new_sisc.max()\n",
    "        if(max_sisc > score_threshold):\n",
    "            best_features.append(new_sisc.idxmax())\n",
    "        else:\n",
    "            break\n",
    "    return best_features"
   ]
  },
  {
   "cell_type": "code",
   "execution_count": 124,
   "metadata": {},
   "outputs": [
    {
     "data": {
      "text/plain": [
       "['customer_review_mean', 'product_review_mean', 'review_gap']"
      ]
     },
     "execution_count": 124,
     "metadata": {},
     "output_type": "execute_result"
    }
   ],
   "source": [
    "sisc_forward_selection(data_sample[test_features], 0.3)"
   ]
  },
  {
   "cell_type": "code",
   "execution_count": 123,
   "metadata": {},
   "outputs": [],
   "source": [
    "\n",
    "def dbsc_forward_selection(data, score_threshold):\n",
    "    \"\"\"\n",
    "    give the \"best features\",\n",
    "    according to davies-bouldin index\n",
    "    over a given score_threshold\n",
    "    \"\"\"\n",
    "\n",
    "    initial_features = data.columns.tolist()\n",
    "    best_features = []\n",
    "    while (len(initial_features) > 0):\n",
    "        remaining_features = list(set(initial_features)-set(best_features))\n",
    "        new_dbsc = pd.Series(index=remaining_features)\n",
    "        for new_column in remaining_features:\n",
    "            new_dbsc[new_column] = dbsc(\n",
    "                data[best_features+[new_column]],\n",
    "                kmeans.fit_predict(data[best_features+[new_column]])\n",
    "            )\n",
    "        min_dbsc = new_dbsc.min()\n",
    "        if(min_dbsc < score_threshold):\n",
    "            best_features.append(new_dbsc.idxmin())\n",
    "        else:\n",
    "            break\n",
    "    return best_features"
   ]
  },
  {
   "cell_type": "code",
   "execution_count": 125,
   "metadata": {},
   "outputs": [
    {
     "data": {
      "text/plain": [
       "['customer_review_mean', 'product_review_mean', 'review_gap']"
      ]
     },
     "execution_count": 125,
     "metadata": {},
     "output_type": "execute_result"
    }
   ],
   "source": [
    "dbsc_forward_selection(data_preped[test_features], 1)"
   ]
  },
  {
   "cell_type": "code",
   "execution_count": 127,
   "metadata": {},
   "outputs": [],
   "source": [
    "product_features = ['product_name_length',\n",
    "                    'product_description_length',\n",
    "                    'product_photos_qty',\n",
    "                    'product_weight_g',\n",
    "                    'product_size']"
   ]
  },
  {
   "cell_type": "code",
   "execution_count": 130,
   "metadata": {},
   "outputs": [
    {
     "data": {
      "text/plain": [
       "['product_photos_qty', 'product_description_length']"
      ]
     },
     "execution_count": 130,
     "metadata": {},
     "output_type": "execute_result"
    }
   ],
   "source": [
    "dbsc_forward_selection(data_sample[product_features], 1)"
   ]
  },
  {
   "cell_type": "code",
   "execution_count": 131,
   "metadata": {},
   "outputs": [
    {
     "data": {
      "text/plain": [
       "['product_photos_qty', 'product_size', 'product_weight_g']"
      ]
     },
     "execution_count": 131,
     "metadata": {},
     "output_type": "execute_result"
    }
   ],
   "source": [
    "sisc_forward_selection(data_sample[product_features], 0.3)"
   ]
  },
  {
   "cell_type": "code",
   "execution_count": null,
   "metadata": {},
   "outputs": [],
   "source": []
  }
 ],
 "metadata": {
  "kernelspec": {
   "display_name": "Python 3",
   "language": "python",
   "name": "python3"
  },
  "language_info": {
   "codemirror_mode": {
    "name": "ipython",
    "version": 3
   },
   "file_extension": ".py",
   "mimetype": "text/x-python",
   "name": "python",
   "nbconvert_exporter": "python",
   "pygments_lexer": "ipython3",
   "version": "3.7.4"
  }
 },
 "nbformat": 4,
 "nbformat_minor": 2
}
